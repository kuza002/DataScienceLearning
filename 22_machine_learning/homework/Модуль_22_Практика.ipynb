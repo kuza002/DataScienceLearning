{
 "nbformat": 4,
 "nbformat_minor": 0,
 "metadata": {
  "colab": {
   "name": "Модуль 22. Практика.ipynb",
   "provenance": []
  },
  "kernelspec": {
   "name": "python3",
   "display_name": "Python 3 (ipykernel)",
   "language": "python"
  },
  "language_info": {
   "name": "python"
  }
 },
 "cells": [
  {
   "cell_type": "markdown",
   "source": [
    "## Практическая работа"
   ],
   "metadata": {
    "id": "Ce0YMaG7Q0-o"
   }
  },
  {
   "cell_type": "markdown",
   "source": [
    "В этой практической работе четыре обязательные задачи.\n",
    "\n",
    "*Обязательные задачи* нужно сделать для того, чтобы проверить, что вы действительно усвоили материал модуля. Сдайте их на проверку.\n",
    "\n",
    "Удачи!"
   ],
   "metadata": {
    "id": "xkOj0F_FRCJm"
   }
  },
  {
   "cell_type": "markdown",
   "source": [
    "Цели практической работы: \n",
    "\n",
    "\n",
    "1.   Потренироваться в обучении моделей деревьев решений.\n",
    "2.   Потренироваться в обучении моделей случайного леса. \n",
    "3.   Научиться оценивать качество моделей с помошью Accuracy и confusion matrix.\n",
    "4.   Научиться увеличивать качество моделей с помощью тюнинга параметров.\n",
    "\n",
    "\n"
   ],
   "metadata": {
    "id": "Yt4v4ba7RWA3"
   }
  },
  {
   "cell_type": "markdown",
   "source": [
    "Что оценивается:\n",
    "\n",
    "*   Все пункты и критерия приёмки задания выполнены.\n",
    "*   Удаление колонок по результатам feature_importance и определения типов производится с помощью кода, а не перечислением их вручную.\n",
    "\n",
    "\n"
   ],
   "metadata": {
    "id": "nPwfq2fISXIk"
   }
  },
  {
   "cell_type": "markdown",
   "source": [
    "## Обязательные задачи"
   ],
   "metadata": {
    "id": "50fXtdd_R7c5"
   }
  },
  {
   "cell_type": "markdown",
   "source": [
    "### Описание датасета:\n",
    "- `id`: идентификатор записи;\n",
    "- `is_manufacturer_name`: признак производителя автомобиля;\n",
    "\n",
    "- `region_*`: регион;\n",
    "- `x0_*`: тип топлива;\n",
    "- `manufacturer_*`: производитель;\n",
    "- `short_model_*`: сокращённая модель автомобиля;\n",
    "- `title_status_*`: статус;\n",
    "- `transmission_*`: коробка передач;\n",
    "- `state_*`: штат;\n",
    "- `age_category_*`: возрастная категория автомобиля;\n",
    "\n",
    "- `std_scaled_odometer`: количество пройденных миль (после стандартизации);\n",
    "- `year_std`: год выпуска (после стандартизации);\n",
    "- `lat_std`: широта (после стандартизации);\n",
    "- `long_std`: долгота (после стандартизации);\n",
    "- `odometer/price_std`: отношение стоимости к пробегу автомобиля (после стандартизации);\n",
    "- `desc_len_std`: количество символов в тексте объявления о продаже (после стандартизации);\n",
    "- `model_in_desc_std`: количество наименований модели автомобиля в тексте объявления о продаже (после стандартизации);\n",
    "- `model_len_std`: длина наименования автомобиля (после стандартизации);\n",
    "- `model_word_count_std`: количество слов в наименовании автомобиля (после стандартизации);\n",
    "- `month_std`: номер месяца размещения объявления о продаже автомобиля (после стандартизации);\n",
    "- `dayofweek_std`: день недели размещения объявления о продаже автомобиля (после стандартизации);\n",
    "- `diff_years_std`: количество лет между годом производства автомобиля и годом размещения объявления о продаже автомобиля (после стандартизации);\n",
    "\n",
    "- `price`: стоимость;\n",
    "- `price_category`: категория цены."
   ],
   "metadata": {
    "id": "iy6tzmQfsqgr"
   }
  },
  {
   "cell_type": "markdown",
   "source": [
    "0. *Подготовка базовой модели*\n",
    "\n",
    "Обучите простую модель классификации с помощью DecisionTreeClassifier на данных из датасета vehicles_dataset_prepared.csv. Для этого сделайте следующие шаги:\n",
    "\n",
    "1. Обучите модель дерева решений с зафиксированным random_state на тренировочной выборке.\n",
    "2. Сделайте предикт на тестовой выборке.\n",
    "3. Замерьте точность на тестовой выборке и выведите матрицу ошибок. \n",
    "4. Удалите фичи с нулевыми весами по feature_importance из тренировочной и тестовой выборок.\n",
    "5. Заново обучите модель и измерьте качество."
   ],
   "metadata": {
    "id": "rGEsBMqETF2f"
   }
  },
  {
   "cell_type": "code",
   "metadata": {
    "id": "pylwtir8Qzrk",
    "ExecuteTime": {
     "end_time": "2024-09-23T14:22:16.832839Z",
     "start_time": "2024-09-23T14:22:16.161093Z"
    }
   },
   "source": [
    "import pandas as pd\n",
    "from envs.ml.DLLs.pyexpat import features\n",
    "from sklearn.ensemble import RandomForestClassifier\n",
    "from sklearn.tree import DecisionTreeClassifier\n",
    "from sklearn.model_selection import train_test_split \n",
    "from sklearn.metrics import accuracy_score, confusion_matrix "
   ],
   "outputs": [],
   "execution_count": 1
  },
  {
   "cell_type": "code",
   "source": [
    "df = pd.read_csv('vehicles_dataset_prepared.csv')\n",
    "\n",
    "df_prepared = df.copy()\n",
    "df_prepared = df_prepared.drop(['price', 'odometer/price_std'], axis=1)\n",
    "\n",
    "x = df_prepared.drop(['price_category'], axis=1)\n",
    "y = df_prepared['price_category']\n",
    "\n",
    "x_train, x_test, y_train, y_test = train_test_split(x, y, test_size=0.3, random_state=42)\n",
    "\n",
    "model = DecisionTreeClassifier()\n",
    "model.fit(x_train, y_train)\n",
    "\n",
    "y_pred = model.predict(x_test)"
   ],
   "metadata": {
    "id": "IOdbt33LS4RP",
    "ExecuteTime": {
     "end_time": "2024-09-23T14:22:17.743442Z",
     "start_time": "2024-09-23T14:22:16.840354Z"
    }
   },
   "outputs": [],
   "execution_count": 2
  },
  {
   "metadata": {
    "ExecuteTime": {
     "end_time": "2024-09-23T14:22:17.823807Z",
     "start_time": "2024-09-23T14:22:17.811876Z"
    }
   },
   "cell_type": "code",
   "source": [
    "acc = accuracy_score(y_test, y_pred)\n",
    "print(acc)\n",
    "confusion_matrix(y_test, y_pred)"
   ],
   "outputs": [
    {
     "name": "stdout",
     "output_type": "stream",
     "text": [
      "0.6701316701316701\n"
     ]
    },
    {
     "data": {
      "text/plain": [
       "array([[728,  55, 214],\n",
       "       [ 45, 693, 215],\n",
       "       [188, 235, 513]], dtype=int64)"
      ]
     },
     "execution_count": 3,
     "metadata": {},
     "output_type": "execute_result"
    }
   ],
   "execution_count": 3
  },
  {
   "metadata": {
    "ExecuteTime": {
     "end_time": "2024-09-23T14:22:17.874397Z",
     "start_time": "2024-09-23T14:22:17.864090Z"
    }
   },
   "cell_type": "code",
   "source": [
    "features_rate = [[feature, rate] for feature, rate in zip(x_train.columns, model.feature_importances_)]\n",
    "features_rate = pd.DataFrame(features_rate, columns=['feature', 'importance'])\n",
    "useless_features = features_rate[features_rate.importance == 0.00]\n",
    "\n",
    "x_train_cuted = x_train.drop(useless_features.feature, axis=1)\n",
    "x_test_cuted = x_test.drop(useless_features.feature, axis=1)"
   ],
   "outputs": [],
   "execution_count": 4
  },
  {
   "metadata": {
    "ExecuteTime": {
     "end_time": "2024-09-23T14:22:18.080404Z",
     "start_time": "2024-09-23T14:22:17.933307Z"
    }
   },
   "cell_type": "code",
   "source": [
    "model2 = DecisionTreeClassifier()\n",
    "model2.fit(x_train_cuted, y_train)\n",
    "y_pred = model2.predict(x_test_cuted)"
   ],
   "outputs": [],
   "execution_count": 5
  },
  {
   "metadata": {
    "ExecuteTime": {
     "end_time": "2024-09-23T14:22:18.098407Z",
     "start_time": "2024-09-23T14:22:18.087407Z"
    }
   },
   "cell_type": "code",
   "source": [
    "acc = accuracy_score(y_test, y_pred)\n",
    "print(acc)\n",
    "confusion_matrix(y_test, y_pred)"
   ],
   "outputs": [
    {
     "name": "stdout",
     "output_type": "stream",
     "text": [
      "0.6763686763686764\n"
     ]
    },
    {
     "data": {
      "text/plain": [
       "array([[738,  56, 203],\n",
       "       [ 44, 696, 213],\n",
       "       [192, 226, 518]], dtype=int64)"
      ]
     },
     "execution_count": 6,
     "metadata": {},
     "output_type": "execute_result"
    }
   ],
   "execution_count": 6
  },
  {
   "cell_type": "markdown",
   "source": [
    "1. *Подготовка модели случайного леса*\n",
    "\n",
    "Обучите простую модель классификации с помощью RandomForestClassifier. Для этого сделайте следующие шаги:\n",
    "1. На новых урезанных семплах тренировочной и тестовой выборок обучите модель случайного леса с зафиксированным random_state=50. \n",
    "\n",
    "2. Сделайте предикт и посчитайте точность модели и матрицу ошибок. Сравните с предыдущей моделью дерева решений. Есть ли случаи, когда модель из пункта 1 отрабатывает лучше, чем модель случайного леса?"
   ],
   "metadata": {
    "id": "SgN87pCNe9Sp"
   }
  },
  {
   "cell_type": "code",
   "source": [
    "x_train, x_test, y_train, y_test = train_test_split(x, y, test_size=0.3, random_state=50)\n",
    "\n",
    "model3 = RandomForestClassifier()\n",
    "model3.fit(x_train, y_train)\n",
    "\n",
    "y_pred = model3.predict(x_test)\n",
    "acc = accuracy_score(y_test, y_pred)\n",
    "print(acc)\n",
    "\n",
    "confusion_matrix(y_test, y_pred)"
   ],
   "metadata": {
    "id": "V-8MUDTbfxdS",
    "ExecuteTime": {
     "end_time": "2024-09-23T14:22:26.526381Z",
     "start_time": "2024-09-23T14:22:23.929197Z"
    }
   },
   "outputs": [
    {
     "name": "stdout",
     "output_type": "stream",
     "text": [
      "0.7557172557172557\n"
     ]
    },
    {
     "data": {
      "text/plain": [
       "array([[783,  42, 121],\n",
       "       [ 12, 818, 145],\n",
       "       [171, 214, 580]], dtype=int64)"
      ]
     },
     "execution_count": 7,
     "metadata": {},
     "output_type": "execute_result"
    }
   ],
   "execution_count": 7
  },
  {
   "cell_type": "markdown",
   "source": [
    "2. *Тюнинг модели случайного леса*\n",
    "\n",
    "Увеличьте точность модели на тестовом датасете RandomForestClassifier c помощью тюнинга параметров. \n",
    "\n",
    "Параметры, которые можно настраивать для увеличения точности:\n",
    "\n",
    "```\n",
    "    `bootstrap'\n",
    "    'max_depth'\n",
    "    'max_features'\n",
    "    'min_samples_leaf'\n",
    "    'min_samples_split'\n",
    "    'random_state'\n",
    "    'n_estimators'\n",
    "\n",
    "```\n",
    "\n",
    "\n",
    "\n",
    "С описанием каждого из параметров можно ознакомиться в документации:\n",
    "\n",
    "\n",
    "https://scikit-learn.org/stable/modules/generated/sklearn.ensemble.RandomForestClassifier.html\n",
    "\n",
    "Задание засчитывается, если значение метрики строго выше 0,76 на тестовом датасете."
   ],
   "metadata": {
    "id": "fwApI_vhkQE6"
   }
  },
  {
   "cell_type": "code",
   "source": [
    "from sklearn.model_selection import RandomizedSearchCV\n",
    "\n",
    "param_grid = {\n",
    "   'bootstrap': [True, False],\n",
    "   'max_depth': [None] + list(range(500, 1500, 100)),\n",
    "   'min_samples_split': list(range(2, 50)),\n",
    "   'n_estimators': list(range(500, 1500, 100)),\n",
    "}\n",
    "randomized_search_rf = RandomizedSearchCV(\n",
    "   estimator=model3,\n",
    "   param_distributions=param_grid,\n",
    "   n_iter=50,\n",
    "   scoring='accuracy',\n",
    "   verbose=1,\n",
    "   n_jobs=-1\n",
    ")\n",
    "\n",
    "randomized_search_rf.fit(x_train, y_train)\n",
    "\n",
    "best_params = randomized_search_rf.best_params_\n",
    "print(best_params)"
   ],
   "metadata": {
    "id": "idrArCdef3nr",
    "ExecuteTime": {
     "end_time": "2024-09-22T18:27:41.076429Z",
     "start_time": "2024-09-22T18:18:02.436466Z"
    }
   },
   "outputs": [
    {
     "name": "stdout",
     "output_type": "stream",
     "text": [
      "Fitting 5 folds for each of 50 candidates, totalling 250 fits\n",
      "{'n_estimators': 1000, 'min_samples_split': 3, 'max_depth': 700, 'bootstrap': False}\n"
     ]
    }
   ],
   "execution_count": 8
  },
  {
   "metadata": {
    "ExecuteTime": {
     "end_time": "2024-09-23T14:22:34.068791Z",
     "start_time": "2024-09-23T14:22:34.065773Z"
    }
   },
   "cell_type": "code",
   "source": "best_params = {'n_estimators': 1000, 'min_samples_split': 3, 'max_depth': 700, 'bootstrap': False}",
   "outputs": [],
   "execution_count": 8
  },
  {
   "metadata": {
    "ExecuteTime": {
     "end_time": "2024-09-22T18:28:27.384058Z",
     "start_time": "2024-09-22T18:27:41.175698Z"
    }
   },
   "cell_type": "code",
   "source": [
    "model3 = RandomForestClassifier(**best_params)\n",
    "model3.fit(x_train, y_train)\n",
    "\n",
    "y_pred = model3.predict(x_test)\n",
    "acc = accuracy_score(y_test, y_pred)\n",
    "print(acc)\n",
    "confusion_matrix(y_test, y_pred)"
   ],
   "outputs": [
    {
     "name": "stdout",
     "output_type": "stream",
     "text": [
      "0.773042273042273\n"
     ]
    },
    {
     "data": {
      "text/plain": [
       "array([[795,  37, 114],\n",
       "       [ 14, 813, 148],\n",
       "       [138, 204, 623]], dtype=int64)"
      ]
     },
     "execution_count": 10,
     "metadata": {},
     "output_type": "execute_result"
    }
   ],
   "execution_count": 10
  },
  {
   "cell_type": "markdown",
   "source": [
    "3. *Анализ влияния фичей на модель*\n",
    "\n",
    "Во всех задачах до вы работали над подготовленным датасетом, где фичи были заранее извлечены из текстовых переменных, отскейлены и пропущены через One Hot Encoder. Сравним, какой была бы предсказательная способность модели, если бы мы использовали только сырые данные из исходного датасета. Для этого проделайте следующие шаги:\n",
    "\n",
    "1. Загрузите датасет `vehicles_dataset_old.csv`.\n",
    "2. Удалите из него переменную `price` и все строковые колонки. Дерево решений и случайный лес не умеют самостоятельно работать со строковыми значениями.\n",
    "3. Сформируйте x_train и x_test так же, как они были сформированы в предыдущих заданиях.\n",
    "4. Обучите свою лучшую модель случайного леса на новых данных и замерьте качество. Убедитесь, что оно ухудшилось.\n",
    "5. Найдите три фичи, которые лучшим образом повлияли на предсказательную способность модели."
   ],
   "metadata": {
    "id": "IZaDD5F9h9iu"
   }
  },
  {
   "cell_type": "code",
   "source": [
    "df_old = pd.read_csv(r'.\\vehicles_dataset_old.csv')\n",
    "df_old.head()"
   ],
   "metadata": {
    "colab": {
     "base_uri": "https://localhost:8080/",
     "height": 530
    },
    "id": "ZU1RX06Fh-FM",
    "outputId": "b6e57d99-ced6-453f-b59a-1da6b37d9f67",
    "ExecuteTime": {
     "end_time": "2024-09-23T14:22:45.019577Z",
     "start_time": "2024-09-23T14:22:44.768909Z"
    }
   },
   "outputs": [
    {
     "data": {
      "text/plain": [
       "           id  \\\n",
       "0  7308295377   \n",
       "1  7316380095   \n",
       "2  7313733749   \n",
       "3  7308210929   \n",
       "4  7303797340   \n",
       "\n",
       "                                                                                               url  \\\n",
       "0  https://chattanooga.craigslist.org/ctd/d/chattanooga-2020-ram-2500-crew-cab-big/7308295377.html   \n",
       "1              https://newjersey.craigslist.org/ctd/d/carlstadt-2016-ford-explorer/7316380095.html   \n",
       "2                https://reno.craigslist.org/ctd/d/atlanta-2017-vw-volkswagen-golf/7313733749.html   \n",
       "3   https://fayetteville.craigslist.org/ctd/d/raleigh-2013-toyota-rav4-xle-4dr-suv/7308210929.html   \n",
       "4   https://knoxville.craigslist.org/ctd/d/knoxville-2012-bmw-series-128i-coupe-2d/7303797340.html   \n",
       "\n",
       "         region                           region_url  price  year  \\\n",
       "0   chattanooga   https://chattanooga.craigslist.org  54990  2020   \n",
       "1  north jersey     https://newjersey.craigslist.org  16942  2016   \n",
       "2  reno / tahoe          https://reno.craigslist.org  35590  2017   \n",
       "3  fayetteville  https://fayetteville.craigslist.org  14500  2013   \n",
       "4     knoxville     https://knoxville.craigslist.org  14590  2012   \n",
       "\n",
       "  manufacturer                   model    fuel  odometer title_status  \\\n",
       "0          ram  2500 crew cab big horn  diesel     27442        clean   \n",
       "1         ford    explorer 4wd 4dr xlt   other     60023        clean   \n",
       "2   volkswagen        golf r hatchback     gas     14048        clean   \n",
       "3       toyota                    rav4     gas    117291        clean   \n",
       "4          bmw  1 series 128i coupe 2d   other     80465        clean   \n",
       "\n",
       "  transmission  \\\n",
       "0        other   \n",
       "1    automatic   \n",
       "2        other   \n",
       "3    automatic   \n",
       "4        other   \n",
       "\n",
       "                                                             image_url  \\\n",
       "0  https://images.craigslist.org/00N0N_1xMPvfxRAIdz_0gw0co_600x450.jpg   \n",
       "1  https://images.craigslist.org/00x0x_26jl9F0cnLvz_0ak06T_600x450.jpg   \n",
       "2  https://images.craigslist.org/00y0y_eeZjWeiSfbUz_0gw0co_600x450.jpg   \n",
       "3  https://images.craigslist.org/00606_iGe5iXidibAz_0hd0ew_600x450.jpg   \n",
       "4  https://images.craigslist.org/00F0F_5UAXmOzC188z_0gw0co_600x450.jpg   \n",
       "\n",
       "                                                                                                                                                                                                                                                                                                                                                                                                                                                                                                                                                                                                                                                                                                                                                                                                                                                                                                                                                                                                                                                                                                                                                                                                                                                                                                                                                                                                                                                                                                                                                                                                                                                                                                                                                                                                                                                                                                                                                                                                                                                                                                                                                                                                                                                                                                                                                                                                                                                                                                                                                                                                                                                                                                                                                                                                                                                                                                                                                                                                                                                                                                                                                                                                                                                                                                                                                                                                                                                                                                                                                                                                                                                                                                                                                                                                                                                                                                                                                                                                                                                                                                                                                                                                                                                                                                                                                                                                                                                                                                                                                                                                                                                                                                                                                                                                                                                                                                                                                                                                                                           description  \\\n",
       "0                                                                                                                                                                                                                                                                                                                                                                                   Carvana is the safer way to buy a car During these uncertain times, Carvana is dedicated to ensuring safety for all of our customers. In addition to our 100% online shopping and selling experience that allows all customers to buy and trade their cars without ever leaving the safety of their house, we’re providing touchless delivery that make all aspects of our process even safer. Now, you can get the car you want, and trade in your old one, while avoiding person-to-person contact with our friendly advocates. There are some things that can’t be put off. And if buying a car is one of them, know that we’re doing everything we can to keep you keep moving while continuing to put your health safety, and happiness first. Vehicle Stock# 2000885577📱 Want to instantly check this car’s availability? Call us at  423-453-3309Just text that stock number to 855-976-4304 or head to http://www.carvanaauto.com/7005135-74532 and plug it into the search bar!Get PRE-QUALIFIED for your auto loan in 2 minutes - no hit to your credit:http://finance.carvanaauto.com/7005135-74532Looking for more cars like this one? We have 18 Ram 2500 Crew Cab in stock for as low as $41990!Why buy with Carvana? We have one standard: the highest. Take a look at just some of the qualifications all of our cars must meet before we list them.150-POINT INSPECTION: We put each vehicle through a 150-point inspection so that you can be 100% confident in its quality and safety. See everything that goes into our inspections at:http://www.carvanaauto.com/7005135-74532NO REPORTED ACCIDENTS: We do not sell cars that have been in a reported accident or have a frame or structural damage.7 DAY TEST OWN MONEY BACK GUARANTEE: Every Carvana car comes with a 7-day money-back guarantee. Why? It takes more than 15-minutes to make a decision on your next car. Learn more about test owning at http://about.carvanaauto.comFLEXIBLE FINANCING, TRADE INS WELCOME: We’re all about real-time financing without the middle man. Need financing? Pick a combination of down and monthly payments that work for you. Have a trade-in? We’ll give you a value in 2 minutes. Check out everything about our financing at:http://finance.carvanaauto.com/7005135-74532COST SAVINGS: Carvana's business model has fewer expenses and no bloated fees compared to your local dealership. See how much we can save you at http://about.carvanaauto.comPREMIUM DETAIL: We go the extra mile so that your car is looking as good as new. There are a lot of specifics that we won’t list here (we wash, clean, buff, paint, polish, wax, seal), but trust us that when your car arrives, it’s going to look sweet.Vehicle Info for Stock# 2000885577Trim: Big Horn Pickup 4D 8 ft pickupMileage: 27k milesExterior Color: SilverInterior Color: GRAYEngine: Cummins 6.7L Diesel Turbo I6 370hp 850ft. lbs.Drive: 4wdTransmission: VIN: 3C6UR5JL6LG159822Dealer Disclosure: Price excludes tax, title, and registration (which we handle for you).Disclaimer: You agree that by providing your phone number, Carvana, or Carvana’s authorized representatives*, may call and/or send text messages (including by using equipment to automatically dial telephone numbers) about your interest in a purchase, for marketing/sales purposes, or for any other servicing or informational purpose related to your account. You do not have to consent to receiving calls or texts to purchase from Carvana. While every reasonable effort is made to ensure the accuracy of the information for this Ram 2500 Crew Cab, we are not responsible for any errors or omissions contained in this ad. Please verify any information in question with Carvana at 423-453-3309*Including, but not limited to, Bridgecrest Credit Company, GO Financial and SilverRock Automotive.*Ram* *2500* *Crew* *Cab* *Tradesman/Express* *Ram* *2500* *Crew* *Cab* *SLT* *Ram* *2500* *Crew* *Cab* *HFE* *Ram* *2500* *Crew* *Cab* *Sport* *Ram* *2500* *Crew* *Cab* *SST* *Ram* *2500* *Crew* *Cab* *Laramie* *Ram* *2500* *Crew* *Cab* *Longhorn* *Ram* *2500* *Crew* *Cab* *Laramie/longhorn* *Limited* *Edition* *140.5* *Ram* *2500* *Crew* *Cab* *169* *Ram* *2500* *Crew* *Cab* *149* *in.* *WB* *4x4* *Ram* *2500* *Crew* *Cab* *4x2* *Regular* *Cab* *Ram* *2500* *Crew* *Cab* *Crew* *Cab* *Quad* *Cab* *Pick* *up* 2022  2021  2020  2019  2018  2017  2016  2015  2014  2013  2012  2011  2010  2009  2008  2007  2006  2005  2004  2003  2002  2001  2000   22  21    19  18  17  16  15  14  13  12  11  10  09  08  07  06  05  04  03  02  01  00   \n",
       "1                                                                                                                                                                                                                                                                                                                                                                                                                                                                                                                                                                                                                                                                                                                                                                                                                                                                                                                                                                                                                                                                                                                                                                                                                                                                                                                                                                                                                                                                                                                                                                                                                                                                                                                                                                                                                                                                                                                                                                                                                                                                                                                                                                                                                                                                                                                                                                                                                                                                                                                                                                                                                                                                                                                                                                                                                                                                                                                                                                                                                                                                                                                                                                                                                                                                                                                                                                                                                                                                                                                                                                                                                                                                                                                                                                                                                                                                                                                                                                                                                                             ***Call Us for more information at: 201-635-1400***  Visit us online www.projectoneauto.com2016 FORD EXPLORER XLT ECOBOOST 4WD - SHADOW BLACK EXTERIOR / BLACK INTERIOR - 60,023 MILES - BACK UP CAMERA - KEYLESS ENTRY - CRUISE CONTROL - AUXILIARY INPUT - SATELLITE RADIO - ALLOY WHEELS - 2.3L TURBO - ALL WHEEL DRIVE - AUTOMATIC TRANSMISSION - VISIT WWW.PROJECTONEAUTO.COM TO VIEW MORE PICTURES OR CALL 201-635-1400 - WE FINANCE - NO HIDDEN DEALER FEES - WE BUY ALL CARS - LOCATED TEN MINUTES WEST OF MANHATTAN AND ONE MILE NORTH OF METLIFE STADIUM - OPEN MONDAY THROUGH SATURDAY 9 TO 7.Stock #: 13510VIN: 1FM5K8DH5GGA78852Year: 2016Make: FordModel: ExplorerStyle: 4WD 4dr XLTBodyStyle: Sport UtilityExt. Color1: BLACKTransmission: AutomaticDrive Train: Four Wheel DriveCertified: NoMileage: 60023Fuel Type: Flex Fuel CapabilityEngine Cylinders: V6 Cylinder EngineCall for more info: 201-635-1400***Call Us about this 201-635-1400 Visit us online  www.projectoneauto.com   \n",
       "2                                                                                                                                                                                                                                                                                                                                                                                                                                                                                                                                                                                       Carvana is the safer way to buy a car During these uncertain times, Carvana is dedicated to ensuring safety for all of our customers. In addition to our 100% online shopping and selling experience that allows all customers to buy and trade their cars without ever leaving the safety of their house, we’re providing touchless delivery that make all aspects of our process even safer. Now, you can get the car you want, and trade in your old one, while avoiding person-to-person contact with our friendly advocates. There are some things that can’t be put off. And if buying a car is one of them, know that we’re doing everything we can to keep you keep moving while continuing to put your health safety, and happiness first. Vehicle Stock# 2000965004📱 Want to instantly check this car’s availability? Call us at  775-977-1995Just text that stock number to 855-976-4304 or head to http://www.carvanaauto.com/7064005-75198 and plug it into the search bar!Get PRE-QUALIFIED for your auto loan in 2 minutes - no hit to your credit:http://finance.carvanaauto.com/7064005-75198Looking for more cars like this one? We have 9 Volkswagen Golf R in stock for as low as $27590!Why buy with Carvana? We have one standard: the highest. Take a look at just some of the qualifications all of our cars must meet before we list them.150-POINT INSPECTION: We put each vehicle through a 150-point inspection so that you can be 100% confident in its quality and safety. See everything that goes into our inspections at:http://www.carvanaauto.com/7064005-75198NO REPORTED ACCIDENTS: We do not sell cars that have been in a reported accident or have a frame or structural damage.7 DAY TEST OWN MONEY BACK GUARANTEE: Every Carvana car comes with a 7-day money-back guarantee. Why? It takes more than 15-minutes to make a decision on your next car. Learn more about test owning at http://about.carvanaauto.comFLEXIBLE FINANCING, TRADE INS WELCOME: We’re all about real-time financing without the middle man. Need financing? Pick a combination of down and monthly payments that work for you. Have a trade-in? We’ll give you a value in 2 minutes. Check out everything about our financing at:http://finance.carvanaauto.com/7064005-75198COST SAVINGS: Carvana's business model has fewer expenses and no bloated fees compared to your local dealership. See how much we can save you at http://about.carvanaauto.comPREMIUM DETAIL: We go the extra mile so that your car is looking as good as new. There are a lot of specifics that we won’t list here (we wash, clean, buff, paint, polish, wax, seal), but trust us that when your car arrives, it’s going to look sweet.Vehicle Info for Stock# 2000965004Trim: Hatchback Sedan 4D sedanMileage: 14k milesExterior Color: GrayInterior Color: BLACKEngine: 2.0L Turbo I4 292hp 280ft. lbs.Drive: awdTransmission: VIN: WVWWF7AU5HW188462Dealer Disclosure: Price excludes tax, title, and registration (which we handle for you).Disclaimer: You agree that by providing your phone number, Carvana, or Carvana’s authorized representatives*, may call and/or send text messages (including by using equipment to automatically dial telephone numbers) about your interest in a purchase, for marketing/sales purposes, or for any other servicing or informational purpose related to your account. You do not have to consent to receiving calls or texts to purchase from Carvana. While every reasonable effort is made to ensure the accuracy of the information for this Volkswagen Golf R, we are not responsible for any errors or omissions contained in this ad. Please verify any information in question with Carvana at 775-977-1995*Including, but not limited to, Bridgecrest Credit Company, GO Financial and SilverRock Automotive.*Volkswagen* *Golf* *R* *VW* *Volkswagen* *Golf* *R* *2.0L* *2dr* *Volkswagen* *Golf* *R* *2.0L* *4dr* *Volkswagen* *Golf* *R* *GL* *TDI* *2dr* *Volkswagen* *Golf* *R* *GL* *TDI* *4dr* *Volkswagen* *Golf* *R* *GLS* *2.0L* *Volkswagen* *Golf* *R* *GLS* *TDI* *Volkswagen* *Golf* *R* *2.0* *5L* *Volkswagen* *Golf* *R* *2.0L* *TDI* *Hatchback* 2022  2021  2020  2019  2018  2017  2016  2015  2014  2013  2012  2011  2010  2009  2008  2007  2006  2005  2004  2003  2002  2001  2000   22  21    19  18  17  16  15  14  13  12  11  10  09  08  07  06  05  04  03  02  01  00   \n",
       "3                                                                                                                                                                                                                                                                                                                                                                                                                                                                                                                                                                                                                                                                                                                                                                                                                                                                                                                                                                                                                                                                                                                                                                                                                                                                                                                                                                                                                                                                                                                                                                                                                                                                           2013 Toyota RAV4 XLE 4dr SUV     Offered by: Reliable Cars and Trucks LLC — (919) 648-4674  — $14,500     2013 Toyota RAV4 XLE 4dr SUV **FREE 30 DAY / 1,000 MILE POWERTRAIN WARRANTY**LEATHER**SUNROOF**BLUETOOTH**REARVIEW CAMERA**MICHELIN TIRES**ALLOY WHEELS** Automatic! Leather Interior! Power Door Locks with Remote Keyless Entry! Power Sunroof! Power Windows! Power Side Mirrors with Turn Signal Indicators! AM/FM/CD Audio System with a Touch Screen Display, Bluetooth Hands-Free Phone and Rearview Camera Display! Steering Wheel Mounted Phone, Audio and Cruise Controls! Heat and Cold A/C with Dual Climate Control! Cargo Tonneau Cover and All-Weather Mat!  Roof Rails! 17 Alloy Wheels with Michelin Tires! Fog Lights and Daytime Running Lights! Tire Pressure Monitoring System! Star Safety System! Stability and Traction Control! Smart Stop Technology with Brake Assist! Front and Rear Airbags! No Accidents! **FREE CARFAX REPORT**   Reliable Cars and Trucks LLC    Year: 2013 Make: Toyota Model: RAV4 Series: XLE 4dr SUV  VIN: 2T3WFREV7DW055354  Stock #: 1516 Condition: Used Mileage: 117,291  Exterior: White  Interior: Gray  Body: SUV  Transmission: Automatic 6-Speed  Engine: 2.5L I4  Drivetrain: fwd     🥇🏁🥇🏁🥇🏁🥇🏁 Reliable Cars & Trucks LLC  🏁🥇🏁🥇🏁🥇🏁🥇🏁  📲 ☎️️ CALL OR TEXT US (919) 648-4674 📲 ☎️️   🚗 WE FINANCE EVERYONE - GOOD/BAD/NO CREDIT - NO PROBLEM!  🚗 WE HAVE A PROGRAM FOR EVERY CREDIT SITUATION - APPROVED!  🚗 SECOND-CHANCE FINANCING 🚗 FIRST TIME BUYER’S PROGRAM - ESTABLISH YOUR CREDIT! 🚗 EXTENDED WARRANTIES AVAILABLE! WE BUY CARS! TRADE-INS WELCOME! 🚗 WE OFFER VEHICLE REPORTS TO ENSURE YOU ARE BUYING A QUALITY PRE OWNED CAR! 🚗 NOT ALL CARS ARE AVAILABLE TO FINANCE PLEASE CONTACT DEALER FOR MORE DETAILS  🚗 FILL OUT A CREDIT APP. GET PRE APPROVED FAST & EASY!       https://www.reliablecarstrucks.com/creditform_sessionid_653593a77d765a342cff02e92a0aac11.html  💥 FOR MORE INVENTORY BY THIS DEALER GO TO:  https://www.reliablecarstrucks.com/cars-for-sale.html  🚗 This 2013 *Toyota* *RAV4* *XLE 4dr SUV* Is Detailed and ready for a Test Drive!    More vehicle details: reliable-cars-trucks-llc.hammerwebsites.net/v/mnqBK42O  Address: 4803 Fayetteville Rd Raleigh, NC 27603 Phone: (919) 648-4674  Website: www.reliablecarstrucks.com/      📲 ☎️ Call or text (919) 648-4674 for quick answers to your questions about this Toyota RAV4 Your message will always be answered by a real human — never an automated system.     Disclaimer: Reliable Cars and Trucks LLC will never sell, share, or spam your mobile number. Standard text messaging rates may apply. Information deemed reliable, but not guaranteed. Interested parties should confirm all data before relying on it to make a purchase decision. All prices and specifications are subject to change without notice. Prices may not include additional fees such as government fees and taxes, title and registration fees, finance charges, dealer document preparation fees, processing fees, and emission testing and compliance charges.such as government fees and taxes, title and registration fees, finance charges, dealer document preparation fees, processing fees, and emission testing and compliance charges.\\r       2013 Toyota RAV4 XLE 4dr SUV  77060f0a1e424decbaf62976852dc14c   \n",
       "4  Carvana is the safer way to buy a car During these uncertain times, Carvana is dedicated to ensuring safety for all of our customers. In addition to our 100% online shopping and selling experience that allows all customers to buy and trade their cars without ever leaving the safety of their house, we’re providing touchless delivery that make all aspects of our process even safer. Now, you can get the car you want, and trade in your old one, while avoiding person-to-person contact with our friendly advocates. There are some things that can’t be put off. And if buying a car is one of them, know that we’re doing everything we can to keep you keep moving while continuing to put your health safety, and happiness first. Vehicle Stock# 2000876523📱 Want to instantly check this car’s availability? Call us at  865-351-1222Just text that stock number to 855-976-4304 or head to  and plug it into the search bar!Get PRE-QUALIFIED for your auto loan in 2 minutes - no hit to your credit:http://finance.carvanaauto.com/6889991-74615Looking for more cars like this one? We have 11 BMW 1 Series in stock for as low as $13990!Why buy with Carvana? We have one standard: the highest. Take a look at just some of the qualifications all of our cars must meet before we list them.150-POINT INSPECTION: We put each vehicle through a 150-point inspection so that you can be 100% confident in its quality and safety. See everything that goes into our inspections at:NO REPORTED ACCIDENTS: We do not sell cars that have been in a reported accident or have a frame or structural damage.7 DAY TEST OWN MONEY BACK GUARANTEE: Every Carvana car comes with a 7-day money-back guarantee. Why? It takes more than 15-minutes to make a decision on your next car. Learn more about test owning at http://about.carvanaauto.comFLEXIBLE FINANCING, TRADE INS WELCOME: We’re all about real-time financing without the middle man. Need financing? Pick a combination of down and monthly payments that work for you. Have a trade-in? We’ll give you a value in 2 minutes. Check out everything about our financing at:http://finance.carvanaauto.com/6889991-74615COST SAVINGS: Carvana's business model has fewer expenses and no bloated fees compared to your local dealership. See how much we can save you at http://about.carvanaauto.comPREMIUM DETAIL: We go the extra mile so that your car is looking as good as new. There are a lot of specifics that we won’t list here (we wash, clean, buff, paint, polish, wax, seal), but trust us that when your car arrives, it’s going to look sweet.Vehicle Info for Stock# 2000876523Trim: 128i Coupe 2D coupeMileage: 80k milesExterior Color: BlackInterior Color: OTHEREngine: Drive: UndefinedTransmission: VIN: WBAUP9C53CVL91190Dealer Disclosure: Price excludes tax, title, and registration (which we handle for you).Disclaimer: You agree that by providing your phone number, Carvana, or Carvana’s authorized representatives*, may call and/or send text messages (including by using equipment to automatically dial telephone numbers) about your interest in a purchase, for marketing/sales purposes, or for any other servicing or informational purpose related to your account. You do not have to consent to receiving calls or texts to purchase from Carvana. While every reasonable effort is made to ensure the accuracy of the information for this BMW 1 Series, we are not responsible for any errors or omissions contained in this ad. Please verify any information in question with Carvana at 865-351-1222*Including, but not limited to, Bridgecrest Credit Company, GO Financial and SilverRock Automotive.*BMW* *1* *Series* *Other* *Certified* *BMW* *1* *Series* *Certified* *Pre-Owned* *BMW* *1* *Series* *Certified* *Pre-Owned* *BMW* *models* *related* *to* *this* *car:* *114* *i* *BMW* *1* *Series* *114i* *BMW* *1* *Series* *116* *i* *BMW* *1* *Series* *116i* *BMW* *1* *Series* *118* *i* *BMW* *1* *Series* *118i* *BMW* *1* *Series* *120* *i* *BMW* *1* *Series* *120i* *BMW* *1* *Series* *125* *i* *BMW* *1* *Series* *125i* *BMW* *1* *Series* *128* *i* *BMW* *1* *Series* *128i* *BMW* *1* *Series* *130* *i* *BMW* *1* *Series* *130i* *BMW* *1* *Series* *135* *i* *BMW* *1* *Series* *135i* *BMW* *1* *Series* *116* *d* *BMW* *1* *Series* *116d* *BMW* *1* *Series* *120* *d* *BMW* *1* *Series* *120d* *BMW* *1* *Series* *123* *d* *BMW* *1* *Series* *123d* *BMW* *1* *Series* *M135* *i* *BMW* *1* *Series* *M135* *i* *BMW* *1* *Series* *F20* *BMW* *1* *Series* *F21* *BMW* *1* *Series* *E88* *BMW* *1* *Series* *E87* *BMW* *1* *Series* *E82E* *BMW* *1* *Series* *E82* *BMW* *1* *Series* *E81* *Coupe* *Convertible* *Hatchback* 2022  2021  2020  2019  2018  2017  2016  2015  2014  2013  2012  2011  2010  2009  2008  2007  2006  2005  2004  2003  2002  2001  2000   22  21    19  18  17  16  15  14  13  12  11  10  09  08  07  06  05  04  03  02  01  00   \n",
       "\n",
       "  state        lat       long              posting_date price_category  \\\n",
       "0    tn  35.060000 -85.250000  2021-04-17T12:30:50-0400           high   \n",
       "1    nj  40.821805 -74.061962  2021-05-03T15:40:21-0400         medium   \n",
       "2    ca  33.779214 -84.411811  2021-04-28T03:52:20-0700           high   \n",
       "3    nc  35.715954 -78.655304  2021-04-17T10:08:57-0400         medium   \n",
       "4    tn  35.970000 -83.940000  2021-04-08T15:10:56-0400         medium   \n",
       "\n",
       "                        date  \n",
       "0  2021-04-17 16:30:50+00:00  \n",
       "1  2021-05-03 19:40:21+00:00  \n",
       "2  2021-04-28 10:52:20+00:00  \n",
       "3  2021-04-17 14:08:57+00:00  \n",
       "4  2021-04-08 19:10:56+00:00  "
      ],
      "text/html": [
       "<div>\n",
       "<style scoped>\n",
       "    .dataframe tbody tr th:only-of-type {\n",
       "        vertical-align: middle;\n",
       "    }\n",
       "\n",
       "    .dataframe tbody tr th {\n",
       "        vertical-align: top;\n",
       "    }\n",
       "\n",
       "    .dataframe thead th {\n",
       "        text-align: right;\n",
       "    }\n",
       "</style>\n",
       "<table border=\"1\" class=\"dataframe\">\n",
       "  <thead>\n",
       "    <tr style=\"text-align: right;\">\n",
       "      <th></th>\n",
       "      <th>id</th>\n",
       "      <th>url</th>\n",
       "      <th>region</th>\n",
       "      <th>region_url</th>\n",
       "      <th>price</th>\n",
       "      <th>year</th>\n",
       "      <th>manufacturer</th>\n",
       "      <th>model</th>\n",
       "      <th>fuel</th>\n",
       "      <th>odometer</th>\n",
       "      <th>title_status</th>\n",
       "      <th>transmission</th>\n",
       "      <th>image_url</th>\n",
       "      <th>description</th>\n",
       "      <th>state</th>\n",
       "      <th>lat</th>\n",
       "      <th>long</th>\n",
       "      <th>posting_date</th>\n",
       "      <th>price_category</th>\n",
       "      <th>date</th>\n",
       "    </tr>\n",
       "  </thead>\n",
       "  <tbody>\n",
       "    <tr>\n",
       "      <th>0</th>\n",
       "      <td>7308295377</td>\n",
       "      <td>https://chattanooga.craigslist.org/ctd/d/chattanooga-2020-ram-2500-crew-cab-big/7308295377.html</td>\n",
       "      <td>chattanooga</td>\n",
       "      <td>https://chattanooga.craigslist.org</td>\n",
       "      <td>54990</td>\n",
       "      <td>2020</td>\n",
       "      <td>ram</td>\n",
       "      <td>2500 crew cab big horn</td>\n",
       "      <td>diesel</td>\n",
       "      <td>27442</td>\n",
       "      <td>clean</td>\n",
       "      <td>other</td>\n",
       "      <td>https://images.craigslist.org/00N0N_1xMPvfxRAIdz_0gw0co_600x450.jpg</td>\n",
       "      <td>Carvana is the safer way to buy a car During these uncertain times, Carvana is dedicated to ensuring safety for all of our customers. In addition to our 100% online shopping and selling experience that allows all customers to buy and trade their cars without ever leaving the safety of their house, we’re providing touchless delivery that make all aspects of our process even safer. Now, you can get the car you want, and trade in your old one, while avoiding person-to-person contact with our friendly advocates. There are some things that can’t be put off. And if buying a car is one of them, know that we’re doing everything we can to keep you keep moving while continuing to put your health safety, and happiness first. Vehicle Stock# 2000885577📱 Want to instantly check this car’s availability? Call us at  423-453-3309Just text that stock number to 855-976-4304 or head to http://www.carvanaauto.com/7005135-74532 and plug it into the search bar!Get PRE-QUALIFIED for your auto loan in 2 minutes - no hit to your credit:http://finance.carvanaauto.com/7005135-74532Looking for more cars like this one? We have 18 Ram 2500 Crew Cab in stock for as low as $41990!Why buy with Carvana? We have one standard: the highest. Take a look at just some of the qualifications all of our cars must meet before we list them.150-POINT INSPECTION: We put each vehicle through a 150-point inspection so that you can be 100% confident in its quality and safety. See everything that goes into our inspections at:http://www.carvanaauto.com/7005135-74532NO REPORTED ACCIDENTS: We do not sell cars that have been in a reported accident or have a frame or structural damage.7 DAY TEST OWN MONEY BACK GUARANTEE: Every Carvana car comes with a 7-day money-back guarantee. Why? It takes more than 15-minutes to make a decision on your next car. Learn more about test owning at http://about.carvanaauto.comFLEXIBLE FINANCING, TRADE INS WELCOME: We’re all about real-time financing without the middle man. Need financing? Pick a combination of down and monthly payments that work for you. Have a trade-in? We’ll give you a value in 2 minutes. Check out everything about our financing at:http://finance.carvanaauto.com/7005135-74532COST SAVINGS: Carvana's business model has fewer expenses and no bloated fees compared to your local dealership. See how much we can save you at http://about.carvanaauto.comPREMIUM DETAIL: We go the extra mile so that your car is looking as good as new. There are a lot of specifics that we won’t list here (we wash, clean, buff, paint, polish, wax, seal), but trust us that when your car arrives, it’s going to look sweet.Vehicle Info for Stock# 2000885577Trim: Big Horn Pickup 4D 8 ft pickupMileage: 27k milesExterior Color: SilverInterior Color: GRAYEngine: Cummins 6.7L Diesel Turbo I6 370hp 850ft. lbs.Drive: 4wdTransmission: VIN: 3C6UR5JL6LG159822Dealer Disclosure: Price excludes tax, title, and registration (which we handle for you).Disclaimer: You agree that by providing your phone number, Carvana, or Carvana’s authorized representatives*, may call and/or send text messages (including by using equipment to automatically dial telephone numbers) about your interest in a purchase, for marketing/sales purposes, or for any other servicing or informational purpose related to your account. You do not have to consent to receiving calls or texts to purchase from Carvana. While every reasonable effort is made to ensure the accuracy of the information for this Ram 2500 Crew Cab, we are not responsible for any errors or omissions contained in this ad. Please verify any information in question with Carvana at 423-453-3309*Including, but not limited to, Bridgecrest Credit Company, GO Financial and SilverRock Automotive.*Ram* *2500* *Crew* *Cab* *Tradesman/Express* *Ram* *2500* *Crew* *Cab* *SLT* *Ram* *2500* *Crew* *Cab* *HFE* *Ram* *2500* *Crew* *Cab* *Sport* *Ram* *2500* *Crew* *Cab* *SST* *Ram* *2500* *Crew* *Cab* *Laramie* *Ram* *2500* *Crew* *Cab* *Longhorn* *Ram* *2500* *Crew* *Cab* *Laramie/longhorn* *Limited* *Edition* *140.5* *Ram* *2500* *Crew* *Cab* *169* *Ram* *2500* *Crew* *Cab* *149* *in.* *WB* *4x4* *Ram* *2500* *Crew* *Cab* *4x2* *Regular* *Cab* *Ram* *2500* *Crew* *Cab* *Crew* *Cab* *Quad* *Cab* *Pick* *up* 2022  2021  2020  2019  2018  2017  2016  2015  2014  2013  2012  2011  2010  2009  2008  2007  2006  2005  2004  2003  2002  2001  2000   22  21    19  18  17  16  15  14  13  12  11  10  09  08  07  06  05  04  03  02  01  00</td>\n",
       "      <td>tn</td>\n",
       "      <td>35.060000</td>\n",
       "      <td>-85.250000</td>\n",
       "      <td>2021-04-17T12:30:50-0400</td>\n",
       "      <td>high</td>\n",
       "      <td>2021-04-17 16:30:50+00:00</td>\n",
       "    </tr>\n",
       "    <tr>\n",
       "      <th>1</th>\n",
       "      <td>7316380095</td>\n",
       "      <td>https://newjersey.craigslist.org/ctd/d/carlstadt-2016-ford-explorer/7316380095.html</td>\n",
       "      <td>north jersey</td>\n",
       "      <td>https://newjersey.craigslist.org</td>\n",
       "      <td>16942</td>\n",
       "      <td>2016</td>\n",
       "      <td>ford</td>\n",
       "      <td>explorer 4wd 4dr xlt</td>\n",
       "      <td>other</td>\n",
       "      <td>60023</td>\n",
       "      <td>clean</td>\n",
       "      <td>automatic</td>\n",
       "      <td>https://images.craigslist.org/00x0x_26jl9F0cnLvz_0ak06T_600x450.jpg</td>\n",
       "      <td>***Call Us for more information at: 201-635-1400***  Visit us online www.projectoneauto.com2016 FORD EXPLORER XLT ECOBOOST 4WD - SHADOW BLACK EXTERIOR / BLACK INTERIOR - 60,023 MILES - BACK UP CAMERA - KEYLESS ENTRY - CRUISE CONTROL - AUXILIARY INPUT - SATELLITE RADIO - ALLOY WHEELS - 2.3L TURBO - ALL WHEEL DRIVE - AUTOMATIC TRANSMISSION - VISIT WWW.PROJECTONEAUTO.COM TO VIEW MORE PICTURES OR CALL 201-635-1400 - WE FINANCE - NO HIDDEN DEALER FEES - WE BUY ALL CARS - LOCATED TEN MINUTES WEST OF MANHATTAN AND ONE MILE NORTH OF METLIFE STADIUM - OPEN MONDAY THROUGH SATURDAY 9 TO 7.Stock #: 13510VIN: 1FM5K8DH5GGA78852Year: 2016Make: FordModel: ExplorerStyle: 4WD 4dr XLTBodyStyle: Sport UtilityExt. Color1: BLACKTransmission: AutomaticDrive Train: Four Wheel DriveCertified: NoMileage: 60023Fuel Type: Flex Fuel CapabilityEngine Cylinders: V6 Cylinder EngineCall for more info: 201-635-1400***Call Us about this 201-635-1400 Visit us online  www.projectoneauto.com</td>\n",
       "      <td>nj</td>\n",
       "      <td>40.821805</td>\n",
       "      <td>-74.061962</td>\n",
       "      <td>2021-05-03T15:40:21-0400</td>\n",
       "      <td>medium</td>\n",
       "      <td>2021-05-03 19:40:21+00:00</td>\n",
       "    </tr>\n",
       "    <tr>\n",
       "      <th>2</th>\n",
       "      <td>7313733749</td>\n",
       "      <td>https://reno.craigslist.org/ctd/d/atlanta-2017-vw-volkswagen-golf/7313733749.html</td>\n",
       "      <td>reno / tahoe</td>\n",
       "      <td>https://reno.craigslist.org</td>\n",
       "      <td>35590</td>\n",
       "      <td>2017</td>\n",
       "      <td>volkswagen</td>\n",
       "      <td>golf r hatchback</td>\n",
       "      <td>gas</td>\n",
       "      <td>14048</td>\n",
       "      <td>clean</td>\n",
       "      <td>other</td>\n",
       "      <td>https://images.craigslist.org/00y0y_eeZjWeiSfbUz_0gw0co_600x450.jpg</td>\n",
       "      <td>Carvana is the safer way to buy a car During these uncertain times, Carvana is dedicated to ensuring safety for all of our customers. In addition to our 100% online shopping and selling experience that allows all customers to buy and trade their cars without ever leaving the safety of their house, we’re providing touchless delivery that make all aspects of our process even safer. Now, you can get the car you want, and trade in your old one, while avoiding person-to-person contact with our friendly advocates. There are some things that can’t be put off. And if buying a car is one of them, know that we’re doing everything we can to keep you keep moving while continuing to put your health safety, and happiness first. Vehicle Stock# 2000965004📱 Want to instantly check this car’s availability? Call us at  775-977-1995Just text that stock number to 855-976-4304 or head to http://www.carvanaauto.com/7064005-75198 and plug it into the search bar!Get PRE-QUALIFIED for your auto loan in 2 minutes - no hit to your credit:http://finance.carvanaauto.com/7064005-75198Looking for more cars like this one? We have 9 Volkswagen Golf R in stock for as low as $27590!Why buy with Carvana? We have one standard: the highest. Take a look at just some of the qualifications all of our cars must meet before we list them.150-POINT INSPECTION: We put each vehicle through a 150-point inspection so that you can be 100% confident in its quality and safety. See everything that goes into our inspections at:http://www.carvanaauto.com/7064005-75198NO REPORTED ACCIDENTS: We do not sell cars that have been in a reported accident or have a frame or structural damage.7 DAY TEST OWN MONEY BACK GUARANTEE: Every Carvana car comes with a 7-day money-back guarantee. Why? It takes more than 15-minutes to make a decision on your next car. Learn more about test owning at http://about.carvanaauto.comFLEXIBLE FINANCING, TRADE INS WELCOME: We’re all about real-time financing without the middle man. Need financing? Pick a combination of down and monthly payments that work for you. Have a trade-in? We’ll give you a value in 2 minutes. Check out everything about our financing at:http://finance.carvanaauto.com/7064005-75198COST SAVINGS: Carvana's business model has fewer expenses and no bloated fees compared to your local dealership. See how much we can save you at http://about.carvanaauto.comPREMIUM DETAIL: We go the extra mile so that your car is looking as good as new. There are a lot of specifics that we won’t list here (we wash, clean, buff, paint, polish, wax, seal), but trust us that when your car arrives, it’s going to look sweet.Vehicle Info for Stock# 2000965004Trim: Hatchback Sedan 4D sedanMileage: 14k milesExterior Color: GrayInterior Color: BLACKEngine: 2.0L Turbo I4 292hp 280ft. lbs.Drive: awdTransmission: VIN: WVWWF7AU5HW188462Dealer Disclosure: Price excludes tax, title, and registration (which we handle for you).Disclaimer: You agree that by providing your phone number, Carvana, or Carvana’s authorized representatives*, may call and/or send text messages (including by using equipment to automatically dial telephone numbers) about your interest in a purchase, for marketing/sales purposes, or for any other servicing or informational purpose related to your account. You do not have to consent to receiving calls or texts to purchase from Carvana. While every reasonable effort is made to ensure the accuracy of the information for this Volkswagen Golf R, we are not responsible for any errors or omissions contained in this ad. Please verify any information in question with Carvana at 775-977-1995*Including, but not limited to, Bridgecrest Credit Company, GO Financial and SilverRock Automotive.*Volkswagen* *Golf* *R* *VW* *Volkswagen* *Golf* *R* *2.0L* *2dr* *Volkswagen* *Golf* *R* *2.0L* *4dr* *Volkswagen* *Golf* *R* *GL* *TDI* *2dr* *Volkswagen* *Golf* *R* *GL* *TDI* *4dr* *Volkswagen* *Golf* *R* *GLS* *2.0L* *Volkswagen* *Golf* *R* *GLS* *TDI* *Volkswagen* *Golf* *R* *2.0* *5L* *Volkswagen* *Golf* *R* *2.0L* *TDI* *Hatchback* 2022  2021  2020  2019  2018  2017  2016  2015  2014  2013  2012  2011  2010  2009  2008  2007  2006  2005  2004  2003  2002  2001  2000   22  21    19  18  17  16  15  14  13  12  11  10  09  08  07  06  05  04  03  02  01  00</td>\n",
       "      <td>ca</td>\n",
       "      <td>33.779214</td>\n",
       "      <td>-84.411811</td>\n",
       "      <td>2021-04-28T03:52:20-0700</td>\n",
       "      <td>high</td>\n",
       "      <td>2021-04-28 10:52:20+00:00</td>\n",
       "    </tr>\n",
       "    <tr>\n",
       "      <th>3</th>\n",
       "      <td>7308210929</td>\n",
       "      <td>https://fayetteville.craigslist.org/ctd/d/raleigh-2013-toyota-rav4-xle-4dr-suv/7308210929.html</td>\n",
       "      <td>fayetteville</td>\n",
       "      <td>https://fayetteville.craigslist.org</td>\n",
       "      <td>14500</td>\n",
       "      <td>2013</td>\n",
       "      <td>toyota</td>\n",
       "      <td>rav4</td>\n",
       "      <td>gas</td>\n",
       "      <td>117291</td>\n",
       "      <td>clean</td>\n",
       "      <td>automatic</td>\n",
       "      <td>https://images.craigslist.org/00606_iGe5iXidibAz_0hd0ew_600x450.jpg</td>\n",
       "      <td>2013 Toyota RAV4 XLE 4dr SUV     Offered by: Reliable Cars and Trucks LLC — (919) 648-4674  — $14,500     2013 Toyota RAV4 XLE 4dr SUV **FREE 30 DAY / 1,000 MILE POWERTRAIN WARRANTY**LEATHER**SUNROOF**BLUETOOTH**REARVIEW CAMERA**MICHELIN TIRES**ALLOY WHEELS** Automatic! Leather Interior! Power Door Locks with Remote Keyless Entry! Power Sunroof! Power Windows! Power Side Mirrors with Turn Signal Indicators! AM/FM/CD Audio System with a Touch Screen Display, Bluetooth Hands-Free Phone and Rearview Camera Display! Steering Wheel Mounted Phone, Audio and Cruise Controls! Heat and Cold A/C with Dual Climate Control! Cargo Tonneau Cover and All-Weather Mat!  Roof Rails! 17 Alloy Wheels with Michelin Tires! Fog Lights and Daytime Running Lights! Tire Pressure Monitoring System! Star Safety System! Stability and Traction Control! Smart Stop Technology with Brake Assist! Front and Rear Airbags! No Accidents! **FREE CARFAX REPORT**   Reliable Cars and Trucks LLC    Year: 2013 Make: Toyota Model: RAV4 Series: XLE 4dr SUV  VIN: 2T3WFREV7DW055354  Stock #: 1516 Condition: Used Mileage: 117,291  Exterior: White  Interior: Gray  Body: SUV  Transmission: Automatic 6-Speed  Engine: 2.5L I4  Drivetrain: fwd     🥇🏁🥇🏁🥇🏁🥇🏁 Reliable Cars &amp; Trucks LLC  🏁🥇🏁🥇🏁🥇🏁🥇🏁  📲 ☎️️ CALL OR TEXT US (919) 648-4674 📲 ☎️️   🚗 WE FINANCE EVERYONE - GOOD/BAD/NO CREDIT - NO PROBLEM!  🚗 WE HAVE A PROGRAM FOR EVERY CREDIT SITUATION - APPROVED!  🚗 SECOND-CHANCE FINANCING 🚗 FIRST TIME BUYER’S PROGRAM - ESTABLISH YOUR CREDIT! 🚗 EXTENDED WARRANTIES AVAILABLE! WE BUY CARS! TRADE-INS WELCOME! 🚗 WE OFFER VEHICLE REPORTS TO ENSURE YOU ARE BUYING A QUALITY PRE OWNED CAR! 🚗 NOT ALL CARS ARE AVAILABLE TO FINANCE PLEASE CONTACT DEALER FOR MORE DETAILS  🚗 FILL OUT A CREDIT APP. GET PRE APPROVED FAST &amp; EASY!       https://www.reliablecarstrucks.com/creditform_sessionid_653593a77d765a342cff02e92a0aac11.html  💥 FOR MORE INVENTORY BY THIS DEALER GO TO:  https://www.reliablecarstrucks.com/cars-for-sale.html  🚗 This 2013 *Toyota* *RAV4* *XLE 4dr SUV* Is Detailed and ready for a Test Drive!    More vehicle details: reliable-cars-trucks-llc.hammerwebsites.net/v/mnqBK42O  Address: 4803 Fayetteville Rd Raleigh, NC 27603 Phone: (919) 648-4674  Website: www.reliablecarstrucks.com/      📲 ☎️ Call or text (919) 648-4674 for quick answers to your questions about this Toyota RAV4 Your message will always be answered by a real human — never an automated system.     Disclaimer: Reliable Cars and Trucks LLC will never sell, share, or spam your mobile number. Standard text messaging rates may apply. Information deemed reliable, but not guaranteed. Interested parties should confirm all data before relying on it to make a purchase decision. All prices and specifications are subject to change without notice. Prices may not include additional fees such as government fees and taxes, title and registration fees, finance charges, dealer document preparation fees, processing fees, and emission testing and compliance charges.such as government fees and taxes, title and registration fees, finance charges, dealer document preparation fees, processing fees, and emission testing and compliance charges.\\r       2013 Toyota RAV4 XLE 4dr SUV  77060f0a1e424decbaf62976852dc14c</td>\n",
       "      <td>nc</td>\n",
       "      <td>35.715954</td>\n",
       "      <td>-78.655304</td>\n",
       "      <td>2021-04-17T10:08:57-0400</td>\n",
       "      <td>medium</td>\n",
       "      <td>2021-04-17 14:08:57+00:00</td>\n",
       "    </tr>\n",
       "    <tr>\n",
       "      <th>4</th>\n",
       "      <td>7303797340</td>\n",
       "      <td>https://knoxville.craigslist.org/ctd/d/knoxville-2012-bmw-series-128i-coupe-2d/7303797340.html</td>\n",
       "      <td>knoxville</td>\n",
       "      <td>https://knoxville.craigslist.org</td>\n",
       "      <td>14590</td>\n",
       "      <td>2012</td>\n",
       "      <td>bmw</td>\n",
       "      <td>1 series 128i coupe 2d</td>\n",
       "      <td>other</td>\n",
       "      <td>80465</td>\n",
       "      <td>clean</td>\n",
       "      <td>other</td>\n",
       "      <td>https://images.craigslist.org/00F0F_5UAXmOzC188z_0gw0co_600x450.jpg</td>\n",
       "      <td>Carvana is the safer way to buy a car During these uncertain times, Carvana is dedicated to ensuring safety for all of our customers. In addition to our 100% online shopping and selling experience that allows all customers to buy and trade their cars without ever leaving the safety of their house, we’re providing touchless delivery that make all aspects of our process even safer. Now, you can get the car you want, and trade in your old one, while avoiding person-to-person contact with our friendly advocates. There are some things that can’t be put off. And if buying a car is one of them, know that we’re doing everything we can to keep you keep moving while continuing to put your health safety, and happiness first. Vehicle Stock# 2000876523📱 Want to instantly check this car’s availability? Call us at  865-351-1222Just text that stock number to 855-976-4304 or head to  and plug it into the search bar!Get PRE-QUALIFIED for your auto loan in 2 minutes - no hit to your credit:http://finance.carvanaauto.com/6889991-74615Looking for more cars like this one? We have 11 BMW 1 Series in stock for as low as $13990!Why buy with Carvana? We have one standard: the highest. Take a look at just some of the qualifications all of our cars must meet before we list them.150-POINT INSPECTION: We put each vehicle through a 150-point inspection so that you can be 100% confident in its quality and safety. See everything that goes into our inspections at:NO REPORTED ACCIDENTS: We do not sell cars that have been in a reported accident or have a frame or structural damage.7 DAY TEST OWN MONEY BACK GUARANTEE: Every Carvana car comes with a 7-day money-back guarantee. Why? It takes more than 15-minutes to make a decision on your next car. Learn more about test owning at http://about.carvanaauto.comFLEXIBLE FINANCING, TRADE INS WELCOME: We’re all about real-time financing without the middle man. Need financing? Pick a combination of down and monthly payments that work for you. Have a trade-in? We’ll give you a value in 2 minutes. Check out everything about our financing at:http://finance.carvanaauto.com/6889991-74615COST SAVINGS: Carvana's business model has fewer expenses and no bloated fees compared to your local dealership. See how much we can save you at http://about.carvanaauto.comPREMIUM DETAIL: We go the extra mile so that your car is looking as good as new. There are a lot of specifics that we won’t list here (we wash, clean, buff, paint, polish, wax, seal), but trust us that when your car arrives, it’s going to look sweet.Vehicle Info for Stock# 2000876523Trim: 128i Coupe 2D coupeMileage: 80k milesExterior Color: BlackInterior Color: OTHEREngine: Drive: UndefinedTransmission: VIN: WBAUP9C53CVL91190Dealer Disclosure: Price excludes tax, title, and registration (which we handle for you).Disclaimer: You agree that by providing your phone number, Carvana, or Carvana’s authorized representatives*, may call and/or send text messages (including by using equipment to automatically dial telephone numbers) about your interest in a purchase, for marketing/sales purposes, or for any other servicing or informational purpose related to your account. You do not have to consent to receiving calls or texts to purchase from Carvana. While every reasonable effort is made to ensure the accuracy of the information for this BMW 1 Series, we are not responsible for any errors or omissions contained in this ad. Please verify any information in question with Carvana at 865-351-1222*Including, but not limited to, Bridgecrest Credit Company, GO Financial and SilverRock Automotive.*BMW* *1* *Series* *Other* *Certified* *BMW* *1* *Series* *Certified* *Pre-Owned* *BMW* *1* *Series* *Certified* *Pre-Owned* *BMW* *models* *related* *to* *this* *car:* *114* *i* *BMW* *1* *Series* *114i* *BMW* *1* *Series* *116* *i* *BMW* *1* *Series* *116i* *BMW* *1* *Series* *118* *i* *BMW* *1* *Series* *118i* *BMW* *1* *Series* *120* *i* *BMW* *1* *Series* *120i* *BMW* *1* *Series* *125* *i* *BMW* *1* *Series* *125i* *BMW* *1* *Series* *128* *i* *BMW* *1* *Series* *128i* *BMW* *1* *Series* *130* *i* *BMW* *1* *Series* *130i* *BMW* *1* *Series* *135* *i* *BMW* *1* *Series* *135i* *BMW* *1* *Series* *116* *d* *BMW* *1* *Series* *116d* *BMW* *1* *Series* *120* *d* *BMW* *1* *Series* *120d* *BMW* *1* *Series* *123* *d* *BMW* *1* *Series* *123d* *BMW* *1* *Series* *M135* *i* *BMW* *1* *Series* *M135* *i* *BMW* *1* *Series* *F20* *BMW* *1* *Series* *F21* *BMW* *1* *Series* *E88* *BMW* *1* *Series* *E87* *BMW* *1* *Series* *E82E* *BMW* *1* *Series* *E82* *BMW* *1* *Series* *E81* *Coupe* *Convertible* *Hatchback* 2022  2021  2020  2019  2018  2017  2016  2015  2014  2013  2012  2011  2010  2009  2008  2007  2006  2005  2004  2003  2002  2001  2000   22  21    19  18  17  16  15  14  13  12  11  10  09  08  07  06  05  04  03  02  01  00</td>\n",
       "      <td>tn</td>\n",
       "      <td>35.970000</td>\n",
       "      <td>-83.940000</td>\n",
       "      <td>2021-04-08T15:10:56-0400</td>\n",
       "      <td>medium</td>\n",
       "      <td>2021-04-08 19:10:56+00:00</td>\n",
       "    </tr>\n",
       "  </tbody>\n",
       "</table>\n",
       "</div>"
      ]
     },
     "execution_count": 9,
     "metadata": {},
     "output_type": "execute_result"
    }
   ],
   "execution_count": 9
  },
  {
   "metadata": {
    "ExecuteTime": {
     "end_time": "2024-09-23T14:22:52.906516Z",
     "start_time": "2024-09-23T14:22:52.896Z"
    }
   },
   "cell_type": "code",
   "source": [
    "str_columns = [column for column in df_old.columns if df_old[column].dtype == 'O']\n",
    "df_old = df_old.drop(str_columns, axis=1)\n",
    "x = df_old.drop(['price'], axis=1)\n",
    "y = df_old['price']\n",
    "\n",
    "x_train, x_test, y_train, y_test = train_test_split(x, y, test_size=0.3, random_state=42)"
   ],
   "outputs": [],
   "execution_count": 10
  },
  {
   "metadata": {
    "ExecuteTime": {
     "end_time": "2024-09-23T15:27:47.767524Z",
     "start_time": "2024-09-23T15:27:28.275575Z"
    }
   },
   "cell_type": "code",
   "source": [
    "model4 = RandomForestClassifier(**best_params)\n",
    "model4.fit(x_train[:1000], y_train[:1000])"
   ],
   "outputs": [
    {
     "data": {
      "text/plain": [
       "RandomForestClassifier(bootstrap=False, max_depth=900, n_estimators=1000)"
      ],
      "text/html": [
       "<style>#sk-container-id-8 {\n",
       "  /* Definition of color scheme common for light and dark mode */\n",
       "  --sklearn-color-text: black;\n",
       "  --sklearn-color-line: gray;\n",
       "  /* Definition of color scheme for unfitted estimators */\n",
       "  --sklearn-color-unfitted-level-0: #fff5e6;\n",
       "  --sklearn-color-unfitted-level-1: #f6e4d2;\n",
       "  --sklearn-color-unfitted-level-2: #ffe0b3;\n",
       "  --sklearn-color-unfitted-level-3: chocolate;\n",
       "  /* Definition of color scheme for fitted estimators */\n",
       "  --sklearn-color-fitted-level-0: #f0f8ff;\n",
       "  --sklearn-color-fitted-level-1: #d4ebff;\n",
       "  --sklearn-color-fitted-level-2: #b3dbfd;\n",
       "  --sklearn-color-fitted-level-3: cornflowerblue;\n",
       "\n",
       "  /* Specific color for light theme */\n",
       "  --sklearn-color-text-on-default-background: var(--sg-text-color, var(--theme-code-foreground, var(--jp-content-font-color1, black)));\n",
       "  --sklearn-color-background: var(--sg-background-color, var(--theme-background, var(--jp-layout-color0, white)));\n",
       "  --sklearn-color-border-box: var(--sg-text-color, var(--theme-code-foreground, var(--jp-content-font-color1, black)));\n",
       "  --sklearn-color-icon: #696969;\n",
       "\n",
       "  @media (prefers-color-scheme: dark) {\n",
       "    /* Redefinition of color scheme for dark theme */\n",
       "    --sklearn-color-text-on-default-background: var(--sg-text-color, var(--theme-code-foreground, var(--jp-content-font-color1, white)));\n",
       "    --sklearn-color-background: var(--sg-background-color, var(--theme-background, var(--jp-layout-color0, #111)));\n",
       "    --sklearn-color-border-box: var(--sg-text-color, var(--theme-code-foreground, var(--jp-content-font-color1, white)));\n",
       "    --sklearn-color-icon: #878787;\n",
       "  }\n",
       "}\n",
       "\n",
       "#sk-container-id-8 {\n",
       "  color: var(--sklearn-color-text);\n",
       "}\n",
       "\n",
       "#sk-container-id-8 pre {\n",
       "  padding: 0;\n",
       "}\n",
       "\n",
       "#sk-container-id-8 input.sk-hidden--visually {\n",
       "  border: 0;\n",
       "  clip: rect(1px 1px 1px 1px);\n",
       "  clip: rect(1px, 1px, 1px, 1px);\n",
       "  height: 1px;\n",
       "  margin: -1px;\n",
       "  overflow: hidden;\n",
       "  padding: 0;\n",
       "  position: absolute;\n",
       "  width: 1px;\n",
       "}\n",
       "\n",
       "#sk-container-id-8 div.sk-dashed-wrapped {\n",
       "  border: 1px dashed var(--sklearn-color-line);\n",
       "  margin: 0 0.4em 0.5em 0.4em;\n",
       "  box-sizing: border-box;\n",
       "  padding-bottom: 0.4em;\n",
       "  background-color: var(--sklearn-color-background);\n",
       "}\n",
       "\n",
       "#sk-container-id-8 div.sk-container {\n",
       "  /* jupyter's `normalize.less` sets `[hidden] { display: none; }`\n",
       "     but bootstrap.min.css set `[hidden] { display: none !important; }`\n",
       "     so we also need the `!important` here to be able to override the\n",
       "     default hidden behavior on the sphinx rendered scikit-learn.org.\n",
       "     See: https://github.com/scikit-learn/scikit-learn/issues/21755 */\n",
       "  display: inline-block !important;\n",
       "  position: relative;\n",
       "}\n",
       "\n",
       "#sk-container-id-8 div.sk-text-repr-fallback {\n",
       "  display: none;\n",
       "}\n",
       "\n",
       "div.sk-parallel-item,\n",
       "div.sk-serial,\n",
       "div.sk-item {\n",
       "  /* draw centered vertical line to link estimators */\n",
       "  background-image: linear-gradient(var(--sklearn-color-text-on-default-background), var(--sklearn-color-text-on-default-background));\n",
       "  background-size: 2px 100%;\n",
       "  background-repeat: no-repeat;\n",
       "  background-position: center center;\n",
       "}\n",
       "\n",
       "/* Parallel-specific style estimator block */\n",
       "\n",
       "#sk-container-id-8 div.sk-parallel-item::after {\n",
       "  content: \"\";\n",
       "  width: 100%;\n",
       "  border-bottom: 2px solid var(--sklearn-color-text-on-default-background);\n",
       "  flex-grow: 1;\n",
       "}\n",
       "\n",
       "#sk-container-id-8 div.sk-parallel {\n",
       "  display: flex;\n",
       "  align-items: stretch;\n",
       "  justify-content: center;\n",
       "  background-color: var(--sklearn-color-background);\n",
       "  position: relative;\n",
       "}\n",
       "\n",
       "#sk-container-id-8 div.sk-parallel-item {\n",
       "  display: flex;\n",
       "  flex-direction: column;\n",
       "}\n",
       "\n",
       "#sk-container-id-8 div.sk-parallel-item:first-child::after {\n",
       "  align-self: flex-end;\n",
       "  width: 50%;\n",
       "}\n",
       "\n",
       "#sk-container-id-8 div.sk-parallel-item:last-child::after {\n",
       "  align-self: flex-start;\n",
       "  width: 50%;\n",
       "}\n",
       "\n",
       "#sk-container-id-8 div.sk-parallel-item:only-child::after {\n",
       "  width: 0;\n",
       "}\n",
       "\n",
       "/* Serial-specific style estimator block */\n",
       "\n",
       "#sk-container-id-8 div.sk-serial {\n",
       "  display: flex;\n",
       "  flex-direction: column;\n",
       "  align-items: center;\n",
       "  background-color: var(--sklearn-color-background);\n",
       "  padding-right: 1em;\n",
       "  padding-left: 1em;\n",
       "}\n",
       "\n",
       "\n",
       "/* Toggleable style: style used for estimator/Pipeline/ColumnTransformer box that is\n",
       "clickable and can be expanded/collapsed.\n",
       "- Pipeline and ColumnTransformer use this feature and define the default style\n",
       "- Estimators will overwrite some part of the style using the `sk-estimator` class\n",
       "*/\n",
       "\n",
       "/* Pipeline and ColumnTransformer style (default) */\n",
       "\n",
       "#sk-container-id-8 div.sk-toggleable {\n",
       "  /* Default theme specific background. It is overwritten whether we have a\n",
       "  specific estimator or a Pipeline/ColumnTransformer */\n",
       "  background-color: var(--sklearn-color-background);\n",
       "}\n",
       "\n",
       "/* Toggleable label */\n",
       "#sk-container-id-8 label.sk-toggleable__label {\n",
       "  cursor: pointer;\n",
       "  display: block;\n",
       "  width: 100%;\n",
       "  margin-bottom: 0;\n",
       "  padding: 0.5em;\n",
       "  box-sizing: border-box;\n",
       "  text-align: center;\n",
       "}\n",
       "\n",
       "#sk-container-id-8 label.sk-toggleable__label-arrow:before {\n",
       "  /* Arrow on the left of the label */\n",
       "  content: \"▸\";\n",
       "  float: left;\n",
       "  margin-right: 0.25em;\n",
       "  color: var(--sklearn-color-icon);\n",
       "}\n",
       "\n",
       "#sk-container-id-8 label.sk-toggleable__label-arrow:hover:before {\n",
       "  color: var(--sklearn-color-text);\n",
       "}\n",
       "\n",
       "/* Toggleable content - dropdown */\n",
       "\n",
       "#sk-container-id-8 div.sk-toggleable__content {\n",
       "  max-height: 0;\n",
       "  max-width: 0;\n",
       "  overflow: hidden;\n",
       "  text-align: left;\n",
       "  /* unfitted */\n",
       "  background-color: var(--sklearn-color-unfitted-level-0);\n",
       "}\n",
       "\n",
       "#sk-container-id-8 div.sk-toggleable__content.fitted {\n",
       "  /* fitted */\n",
       "  background-color: var(--sklearn-color-fitted-level-0);\n",
       "}\n",
       "\n",
       "#sk-container-id-8 div.sk-toggleable__content pre {\n",
       "  margin: 0.2em;\n",
       "  border-radius: 0.25em;\n",
       "  color: var(--sklearn-color-text);\n",
       "  /* unfitted */\n",
       "  background-color: var(--sklearn-color-unfitted-level-0);\n",
       "}\n",
       "\n",
       "#sk-container-id-8 div.sk-toggleable__content.fitted pre {\n",
       "  /* unfitted */\n",
       "  background-color: var(--sklearn-color-fitted-level-0);\n",
       "}\n",
       "\n",
       "#sk-container-id-8 input.sk-toggleable__control:checked~div.sk-toggleable__content {\n",
       "  /* Expand drop-down */\n",
       "  max-height: 200px;\n",
       "  max-width: 100%;\n",
       "  overflow: auto;\n",
       "}\n",
       "\n",
       "#sk-container-id-8 input.sk-toggleable__control:checked~label.sk-toggleable__label-arrow:before {\n",
       "  content: \"▾\";\n",
       "}\n",
       "\n",
       "/* Pipeline/ColumnTransformer-specific style */\n",
       "\n",
       "#sk-container-id-8 div.sk-label input.sk-toggleable__control:checked~label.sk-toggleable__label {\n",
       "  color: var(--sklearn-color-text);\n",
       "  background-color: var(--sklearn-color-unfitted-level-2);\n",
       "}\n",
       "\n",
       "#sk-container-id-8 div.sk-label.fitted input.sk-toggleable__control:checked~label.sk-toggleable__label {\n",
       "  background-color: var(--sklearn-color-fitted-level-2);\n",
       "}\n",
       "\n",
       "/* Estimator-specific style */\n",
       "\n",
       "/* Colorize estimator box */\n",
       "#sk-container-id-8 div.sk-estimator input.sk-toggleable__control:checked~label.sk-toggleable__label {\n",
       "  /* unfitted */\n",
       "  background-color: var(--sklearn-color-unfitted-level-2);\n",
       "}\n",
       "\n",
       "#sk-container-id-8 div.sk-estimator.fitted input.sk-toggleable__control:checked~label.sk-toggleable__label {\n",
       "  /* fitted */\n",
       "  background-color: var(--sklearn-color-fitted-level-2);\n",
       "}\n",
       "\n",
       "#sk-container-id-8 div.sk-label label.sk-toggleable__label,\n",
       "#sk-container-id-8 div.sk-label label {\n",
       "  /* The background is the default theme color */\n",
       "  color: var(--sklearn-color-text-on-default-background);\n",
       "}\n",
       "\n",
       "/* On hover, darken the color of the background */\n",
       "#sk-container-id-8 div.sk-label:hover label.sk-toggleable__label {\n",
       "  color: var(--sklearn-color-text);\n",
       "  background-color: var(--sklearn-color-unfitted-level-2);\n",
       "}\n",
       "\n",
       "/* Label box, darken color on hover, fitted */\n",
       "#sk-container-id-8 div.sk-label.fitted:hover label.sk-toggleable__label.fitted {\n",
       "  color: var(--sklearn-color-text);\n",
       "  background-color: var(--sklearn-color-fitted-level-2);\n",
       "}\n",
       "\n",
       "/* Estimator label */\n",
       "\n",
       "#sk-container-id-8 div.sk-label label {\n",
       "  font-family: monospace;\n",
       "  font-weight: bold;\n",
       "  display: inline-block;\n",
       "  line-height: 1.2em;\n",
       "}\n",
       "\n",
       "#sk-container-id-8 div.sk-label-container {\n",
       "  text-align: center;\n",
       "}\n",
       "\n",
       "/* Estimator-specific */\n",
       "#sk-container-id-8 div.sk-estimator {\n",
       "  font-family: monospace;\n",
       "  border: 1px dotted var(--sklearn-color-border-box);\n",
       "  border-radius: 0.25em;\n",
       "  box-sizing: border-box;\n",
       "  margin-bottom: 0.5em;\n",
       "  /* unfitted */\n",
       "  background-color: var(--sklearn-color-unfitted-level-0);\n",
       "}\n",
       "\n",
       "#sk-container-id-8 div.sk-estimator.fitted {\n",
       "  /* fitted */\n",
       "  background-color: var(--sklearn-color-fitted-level-0);\n",
       "}\n",
       "\n",
       "/* on hover */\n",
       "#sk-container-id-8 div.sk-estimator:hover {\n",
       "  /* unfitted */\n",
       "  background-color: var(--sklearn-color-unfitted-level-2);\n",
       "}\n",
       "\n",
       "#sk-container-id-8 div.sk-estimator.fitted:hover {\n",
       "  /* fitted */\n",
       "  background-color: var(--sklearn-color-fitted-level-2);\n",
       "}\n",
       "\n",
       "/* Specification for estimator info (e.g. \"i\" and \"?\") */\n",
       "\n",
       "/* Common style for \"i\" and \"?\" */\n",
       "\n",
       ".sk-estimator-doc-link,\n",
       "a:link.sk-estimator-doc-link,\n",
       "a:visited.sk-estimator-doc-link {\n",
       "  float: right;\n",
       "  font-size: smaller;\n",
       "  line-height: 1em;\n",
       "  font-family: monospace;\n",
       "  background-color: var(--sklearn-color-background);\n",
       "  border-radius: 1em;\n",
       "  height: 1em;\n",
       "  width: 1em;\n",
       "  text-decoration: none !important;\n",
       "  margin-left: 1ex;\n",
       "  /* unfitted */\n",
       "  border: var(--sklearn-color-unfitted-level-1) 1pt solid;\n",
       "  color: var(--sklearn-color-unfitted-level-1);\n",
       "}\n",
       "\n",
       ".sk-estimator-doc-link.fitted,\n",
       "a:link.sk-estimator-doc-link.fitted,\n",
       "a:visited.sk-estimator-doc-link.fitted {\n",
       "  /* fitted */\n",
       "  border: var(--sklearn-color-fitted-level-1) 1pt solid;\n",
       "  color: var(--sklearn-color-fitted-level-1);\n",
       "}\n",
       "\n",
       "/* On hover */\n",
       "div.sk-estimator:hover .sk-estimator-doc-link:hover,\n",
       ".sk-estimator-doc-link:hover,\n",
       "div.sk-label-container:hover .sk-estimator-doc-link:hover,\n",
       ".sk-estimator-doc-link:hover {\n",
       "  /* unfitted */\n",
       "  background-color: var(--sklearn-color-unfitted-level-3);\n",
       "  color: var(--sklearn-color-background);\n",
       "  text-decoration: none;\n",
       "}\n",
       "\n",
       "div.sk-estimator.fitted:hover .sk-estimator-doc-link.fitted:hover,\n",
       ".sk-estimator-doc-link.fitted:hover,\n",
       "div.sk-label-container:hover .sk-estimator-doc-link.fitted:hover,\n",
       ".sk-estimator-doc-link.fitted:hover {\n",
       "  /* fitted */\n",
       "  background-color: var(--sklearn-color-fitted-level-3);\n",
       "  color: var(--sklearn-color-background);\n",
       "  text-decoration: none;\n",
       "}\n",
       "\n",
       "/* Span, style for the box shown on hovering the info icon */\n",
       ".sk-estimator-doc-link span {\n",
       "  display: none;\n",
       "  z-index: 9999;\n",
       "  position: relative;\n",
       "  font-weight: normal;\n",
       "  right: .2ex;\n",
       "  padding: .5ex;\n",
       "  margin: .5ex;\n",
       "  width: min-content;\n",
       "  min-width: 20ex;\n",
       "  max-width: 50ex;\n",
       "  color: var(--sklearn-color-text);\n",
       "  box-shadow: 2pt 2pt 4pt #999;\n",
       "  /* unfitted */\n",
       "  background: var(--sklearn-color-unfitted-level-0);\n",
       "  border: .5pt solid var(--sklearn-color-unfitted-level-3);\n",
       "}\n",
       "\n",
       ".sk-estimator-doc-link.fitted span {\n",
       "  /* fitted */\n",
       "  background: var(--sklearn-color-fitted-level-0);\n",
       "  border: var(--sklearn-color-fitted-level-3);\n",
       "}\n",
       "\n",
       ".sk-estimator-doc-link:hover span {\n",
       "  display: block;\n",
       "}\n",
       "\n",
       "/* \"?\"-specific style due to the `<a>` HTML tag */\n",
       "\n",
       "#sk-container-id-8 a.estimator_doc_link {\n",
       "  float: right;\n",
       "  font-size: 1rem;\n",
       "  line-height: 1em;\n",
       "  font-family: monospace;\n",
       "  background-color: var(--sklearn-color-background);\n",
       "  border-radius: 1rem;\n",
       "  height: 1rem;\n",
       "  width: 1rem;\n",
       "  text-decoration: none;\n",
       "  /* unfitted */\n",
       "  color: var(--sklearn-color-unfitted-level-1);\n",
       "  border: var(--sklearn-color-unfitted-level-1) 1pt solid;\n",
       "}\n",
       "\n",
       "#sk-container-id-8 a.estimator_doc_link.fitted {\n",
       "  /* fitted */\n",
       "  border: var(--sklearn-color-fitted-level-1) 1pt solid;\n",
       "  color: var(--sklearn-color-fitted-level-1);\n",
       "}\n",
       "\n",
       "/* On hover */\n",
       "#sk-container-id-8 a.estimator_doc_link:hover {\n",
       "  /* unfitted */\n",
       "  background-color: var(--sklearn-color-unfitted-level-3);\n",
       "  color: var(--sklearn-color-background);\n",
       "  text-decoration: none;\n",
       "}\n",
       "\n",
       "#sk-container-id-8 a.estimator_doc_link.fitted:hover {\n",
       "  /* fitted */\n",
       "  background-color: var(--sklearn-color-fitted-level-3);\n",
       "}\n",
       "</style><div id=\"sk-container-id-8\" class=\"sk-top-container\"><div class=\"sk-text-repr-fallback\"><pre>RandomForestClassifier(bootstrap=False, max_depth=900, n_estimators=1000)</pre><b>In a Jupyter environment, please rerun this cell to show the HTML representation or trust the notebook. <br />On GitHub, the HTML representation is unable to render, please try loading this page with nbviewer.org.</b></div><div class=\"sk-container\" hidden><div class=\"sk-item\"><div class=\"sk-estimator fitted sk-toggleable\"><input class=\"sk-toggleable__control sk-hidden--visually\" id=\"sk-estimator-id-8\" type=\"checkbox\" checked><label for=\"sk-estimator-id-8\" class=\"sk-toggleable__label fitted sk-toggleable__label-arrow fitted\">&nbsp;&nbsp;RandomForestClassifier<a class=\"sk-estimator-doc-link fitted\" rel=\"noreferrer\" target=\"_blank\" href=\"https://scikit-learn.org/1.5/modules/generated/sklearn.ensemble.RandomForestClassifier.html\">?<span>Documentation for RandomForestClassifier</span></a><span class=\"sk-estimator-doc-link fitted\">i<span>Fitted</span></span></label><div class=\"sk-toggleable__content fitted\"><pre>RandomForestClassifier(bootstrap=False, max_depth=900, n_estimators=1000)</pre></div> </div></div></div></div>"
      ]
     },
     "execution_count": 125,
     "metadata": {},
     "output_type": "execute_result"
    }
   ],
   "execution_count": 125
  },
  {
   "metadata": {
    "ExecuteTime": {
     "end_time": "2024-09-23T15:27:57.149687Z",
     "start_time": "2024-09-23T15:27:53.714712Z"
    }
   },
   "cell_type": "code",
   "source": [
    "y_pred = model4.predict(x_test)\n",
    "acc = accuracy_score(y_test, y_pred)\n",
    "print(acc)\n",
    "confusion_matrix(y_test, y_pred)"
   ],
   "outputs": [
    {
     "name": "stdout",
     "output_type": "stream",
     "text": [
      "0.020443520443520442\n"
     ]
    },
    {
     "data": {
      "text/plain": [
       "array([[1, 0, 0, ..., 0, 0, 0],\n",
       "       [0, 1, 0, ..., 0, 0, 0],\n",
       "       [0, 0, 0, ..., 0, 0, 0],\n",
       "       ...,\n",
       "       [0, 0, 0, ..., 0, 0, 0],\n",
       "       [0, 0, 0, ..., 0, 0, 0],\n",
       "       [0, 0, 0, ..., 0, 0, 0]], dtype=int64)"
      ]
     },
     "execution_count": 126,
     "metadata": {},
     "output_type": "execute_result"
    }
   ],
   "execution_count": 126
  },
  {
   "metadata": {
    "ExecuteTime": {
     "end_time": "2024-09-23T15:28:36.487145Z",
     "start_time": "2024-09-23T15:28:36.455812Z"
    }
   },
   "cell_type": "code",
   "source": [
    "features_rate = [[feature, rate] for feature, rate in zip(x_train.columns, model4.feature_importances_)]\n",
    "features_rate = pd.DataFrame(features_rate, columns=['feature', 'importance'])\n",
    "features_rate.sort_values('importance', ascending=False)[:3]"
   ],
   "outputs": [
    {
     "data": {
      "text/plain": [
       "    feature  importance\n",
       "2  odometer    0.218652\n",
       "0        id    0.213666\n",
       "3       lat    0.211136"
      ],
      "text/html": [
       "<div>\n",
       "<style scoped>\n",
       "    .dataframe tbody tr th:only-of-type {\n",
       "        vertical-align: middle;\n",
       "    }\n",
       "\n",
       "    .dataframe tbody tr th {\n",
       "        vertical-align: top;\n",
       "    }\n",
       "\n",
       "    .dataframe thead th {\n",
       "        text-align: right;\n",
       "    }\n",
       "</style>\n",
       "<table border=\"1\" class=\"dataframe\">\n",
       "  <thead>\n",
       "    <tr style=\"text-align: right;\">\n",
       "      <th></th>\n",
       "      <th>feature</th>\n",
       "      <th>importance</th>\n",
       "    </tr>\n",
       "  </thead>\n",
       "  <tbody>\n",
       "    <tr>\n",
       "      <th>2</th>\n",
       "      <td>odometer</td>\n",
       "      <td>0.218652</td>\n",
       "    </tr>\n",
       "    <tr>\n",
       "      <th>0</th>\n",
       "      <td>id</td>\n",
       "      <td>0.213666</td>\n",
       "    </tr>\n",
       "    <tr>\n",
       "      <th>3</th>\n",
       "      <td>lat</td>\n",
       "      <td>0.211136</td>\n",
       "    </tr>\n",
       "  </tbody>\n",
       "</table>\n",
       "</div>"
      ]
     },
     "execution_count": 130,
     "metadata": {},
     "output_type": "execute_result"
    }
   ],
   "execution_count": 130
  }
 ]
}
