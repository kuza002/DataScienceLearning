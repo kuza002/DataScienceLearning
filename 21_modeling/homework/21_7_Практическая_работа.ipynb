{
 "nbformat": 4,
 "nbformat_minor": 0,
 "metadata": {
  "colab": {
   "name": "21.7_Практическая работа.ipynb",
   "provenance": [],
   "collapsed_sections": []
  },
  "kernelspec": {
   "name": "python3",
   "display_name": "Python 3 (ipykernel)",
   "language": "python"
  },
  "language_info": {
   "name": "python"
  }
 },
 "cells": [
  {
   "cell_type": "markdown",
   "source": [
    "В этой практической работе три обязательные задачи и одна дополнительная.\n",
    "\n",
    "*Обязательные задачи* нужно сделать для того, чтобы проверить, что вы действительно усвоили материал модуля. Сдайте их на проверку.\n",
    "\n",
    "*Дополнительная задача* для тех, кто чувствует, что нужно ещё немного потренироваться в подборе правильных критериев для проверки гипотез. Вы также можете сдать её на проверку и получить обратную связь.\n",
    "\n",
    "Удачи!"
   ],
   "metadata": {
    "id": "jL6proKZHyCd"
   }
  },
  {
   "cell_type": "markdown",
   "source": [
    "## Цели практической работы\n",
    "\n",
    "Проверить:\n",
    "*   постановку нулевых и альтернативных гипотез,\n",
    "*   выбор статистического критерия для проверки гипотез,\n",
    "*   умение пользоваться Т-критериями,\n",
    "*   умение пользоваться непараметрическими критериями.\n",
    "\n",
    "Потренироваться в постановке односторонних и двусторонних тестов."
   ],
   "metadata": {
    "id": "BLJbZ5gzH9Vg"
   }
  },
  {
   "cell_type": "markdown",
   "source": [
    "## Что оценивается\n",
    "\n",
    "*   Все условия для применения критерия проверены.\n",
    "*   Применение того или иного критерия обосновано текстом.\n",
    "*   В каждой задаче присутствует текстовое объяснение почему нулевая гипотеза не может быть отвергнута.\n",
    "\n",
    "\n"
   ],
   "metadata": {
    "id": "jN1RM6fZK5DI"
   }
  },
  {
   "cell_type": "markdown",
   "source": [
    "## Как отправить работу на проверку\n",
    "Сдайте практическую работу этого модуля через систему контроля версий Git сервиса Skillbox GitLab. После загрузки работы на проверку напишите об этом в личном кабинете своему куратору.\n"
   ],
   "metadata": {
    "id": "ZOTe8UqSUBmb"
   }
  },
  {
   "cell_type": "markdown",
   "source": [
    "##Обязательные задачи"
   ],
   "metadata": {
    "id": "bOgTruI9KsMk"
   }
  },
  {
   "cell_type": "markdown",
   "source": [
    "*Задача 1*\n",
    "\n",
    "Студентов с одним и тем же начальным уровнем английского языка поделили на две группы. Одну группу учили по методике X, а другую по методике Y. После прохождения обучения им дали одинаковые финальные тесты на знание языка. За тест можно получить от 0 до 100 баллов. Проверьте, являются ли статистически значимыми различия в оценках между группой, которая училась по методике X, и группой, которая училась по методике Y.\n",
    "______________\n",
    "Опишите словами нулевую и альтернативную гипотезы. Проверьте гипотезы с помощью статистического критерия. Интерпретируйте получившиеся результаты. Уровень значимости = 5%."
   ],
   "metadata": {
    "id": "bG_LS69wLHlU"
   }
  },
  {
   "cell_type": "markdown",
   "source": [
    "Нулевая гипотеза: две группы не имеют статистически значимых отличий\n",
    "\n",
    "Альтернативная гипотеза: группы имеют статистически значимые отличия"
   ],
   "metadata": {
    "id": "gXhHbVOdSfFQ"
   }
  },
  {
   "cell_type": "code",
   "source": [
    "import pandas as pd\n",
    "from scipy import stats\n",
    "\n",
    "df = pd.read_csv(r'.\\data\\hw1.csv')\n",
    "df.head()"
   ],
   "metadata": {
    "colab": {
     "base_uri": "https://localhost:8080/",
     "height": 206
    },
    "id": "KtWhOWs0S4gu",
    "outputId": "6653afc9-68f4-4941-b1d9-7dcf7e01b97f",
    "ExecuteTime": {
     "end_time": "2024-09-22T15:20:51.336426Z",
     "start_time": "2024-09-22T15:20:50.672872Z"
    }
   },
   "outputs": [
    {
     "data": {
      "text/plain": [
       "    X   Y\n",
       "0  57  64\n",
       "1  67  67\n",
       "2  58  62\n",
       "3  55  59\n",
       "4  54  65"
      ],
      "text/html": [
       "<div>\n",
       "<style scoped>\n",
       "    .dataframe tbody tr th:only-of-type {\n",
       "        vertical-align: middle;\n",
       "    }\n",
       "\n",
       "    .dataframe tbody tr th {\n",
       "        vertical-align: top;\n",
       "    }\n",
       "\n",
       "    .dataframe thead th {\n",
       "        text-align: right;\n",
       "    }\n",
       "</style>\n",
       "<table border=\"1\" class=\"dataframe\">\n",
       "  <thead>\n",
       "    <tr style=\"text-align: right;\">\n",
       "      <th></th>\n",
       "      <th>X</th>\n",
       "      <th>Y</th>\n",
       "    </tr>\n",
       "  </thead>\n",
       "  <tbody>\n",
       "    <tr>\n",
       "      <th>0</th>\n",
       "      <td>57</td>\n",
       "      <td>64</td>\n",
       "    </tr>\n",
       "    <tr>\n",
       "      <th>1</th>\n",
       "      <td>67</td>\n",
       "      <td>67</td>\n",
       "    </tr>\n",
       "    <tr>\n",
       "      <th>2</th>\n",
       "      <td>58</td>\n",
       "      <td>62</td>\n",
       "    </tr>\n",
       "    <tr>\n",
       "      <th>3</th>\n",
       "      <td>55</td>\n",
       "      <td>59</td>\n",
       "    </tr>\n",
       "    <tr>\n",
       "      <th>4</th>\n",
       "      <td>54</td>\n",
       "      <td>65</td>\n",
       "    </tr>\n",
       "  </tbody>\n",
       "</table>\n",
       "</div>"
      ]
     },
     "execution_count": 2,
     "metadata": {},
     "output_type": "execute_result"
    }
   ],
   "execution_count": 2
  },
  {
   "cell_type": "code",
   "source": [
    "print(stats.levene(df.X, df.Y))\n",
    "print(stats.shapiro(df.X))\n",
    "print(stats.shapiro(df.Y))\n",
    "print(stats.ttest_ind(df.X, df.Y, equal_var=False))"
   ],
   "metadata": {
    "id": "U_3vxsvIU9W_",
    "ExecuteTime": {
     "end_time": "2024-09-22T11:04:50.421169Z",
     "start_time": "2024-09-22T11:04:50.408768Z"
    }
   },
   "outputs": [
    {
     "name": "stdout",
     "output_type": "stream",
     "text": [
      "LeveneResult(statistic=21.696306698497402, pvalue=5.850812069599258e-06)\n",
      "ShapiroResult(statistic=0.984373122264943, pvalue=0.28594616875713735)\n",
      "ShapiroResult(statistic=0.9864255697754216, pvalue=0.4001688833356286)\n",
      "TtestResult(statistic=-0.6292883911384963, pvalue=0.5300187896437802, df=167.2694203798624)\n"
     ]
    }
   ],
   "execution_count": 4
  },
  {
   "metadata": {},
   "cell_type": "markdown",
   "source": "Выборки независимы, распределены нормально, но имеют разные дисперсии. По результатам улучшенного теста Стьюдента нулевая гипотеза подтвердилась, разные методики не влияют на результаты теста."
  },
  {
   "cell_type": "markdown",
   "source": [
    "*Задача 2*\n",
    "\n",
    "Ученые придумали добавку для уменьшения веса за две недели. Для проведения эксперимента и проверки добавки набрали тестовую группу из 60 человек. Было произведено два замера веса: один до приема добавок, другой после двухнедельного курса. Изучите данные и сделайте вывод, значимо или незначимо уменьшился вес у тестовой группы.\n",
    "\n",
    "______________\n",
    "Опишите словами нулевую и альтернативную гипотезы. Проверьте гипотезы с помощью статистического критерия. Интерпретируйте получившиеся результаты. Уровень значимости = 5%."
   ],
   "metadata": {
    "id": "XXDqTE7XVk8f"
   }
  },
  {
   "cell_type": "markdown",
   "source": [
    "Нулевая гипотеза: Добавки не влияют на средний показатель веса \n",
    "\n",
    "Альтернативная гипотеза: добавки уменьшили средний показатель веса"
   ],
   "metadata": {
    "id": "qvgKE4U-YPPK"
   }
  },
  {
   "cell_type": "code",
   "source": [
    "df2 = pd.read_csv(r'.\\data\\hw2.csv')\n",
    "df2.head()"
   ],
   "metadata": {
    "colab": {
     "base_uri": "https://localhost:8080/",
     "height": 206
    },
    "id": "ccpF8rNhY63i",
    "outputId": "26ca18a8-75f0-4002-b529-1c538e9d1429",
    "ExecuteTime": {
     "end_time": "2024-09-22T11:04:50.454978Z",
     "start_time": "2024-09-22T11:04:50.449261Z"
    }
   },
   "outputs": [
    {
     "data": {
      "text/plain": [
       "   before  after\n",
       "0      66     68\n",
       "1      68     68\n",
       "2      59     60\n",
       "3      64     62\n",
       "4      75     71"
      ],
      "text/html": [
       "<div>\n",
       "<style scoped>\n",
       "    .dataframe tbody tr th:only-of-type {\n",
       "        vertical-align: middle;\n",
       "    }\n",
       "\n",
       "    .dataframe tbody tr th {\n",
       "        vertical-align: top;\n",
       "    }\n",
       "\n",
       "    .dataframe thead th {\n",
       "        text-align: right;\n",
       "    }\n",
       "</style>\n",
       "<table border=\"1\" class=\"dataframe\">\n",
       "  <thead>\n",
       "    <tr style=\"text-align: right;\">\n",
       "      <th></th>\n",
       "      <th>before</th>\n",
       "      <th>after</th>\n",
       "    </tr>\n",
       "  </thead>\n",
       "  <tbody>\n",
       "    <tr>\n",
       "      <th>0</th>\n",
       "      <td>66</td>\n",
       "      <td>68</td>\n",
       "    </tr>\n",
       "    <tr>\n",
       "      <th>1</th>\n",
       "      <td>68</td>\n",
       "      <td>68</td>\n",
       "    </tr>\n",
       "    <tr>\n",
       "      <th>2</th>\n",
       "      <td>59</td>\n",
       "      <td>60</td>\n",
       "    </tr>\n",
       "    <tr>\n",
       "      <th>3</th>\n",
       "      <td>64</td>\n",
       "      <td>62</td>\n",
       "    </tr>\n",
       "    <tr>\n",
       "      <th>4</th>\n",
       "      <td>75</td>\n",
       "      <td>71</td>\n",
       "    </tr>\n",
       "  </tbody>\n",
       "</table>\n",
       "</div>"
      ]
     },
     "execution_count": 5,
     "metadata": {},
     "output_type": "execute_result"
    }
   ],
   "execution_count": 5
  },
  {
   "cell_type": "code",
   "source": [
    "print(stats.shapiro(df2.before))\n",
    "print(stats.shapiro(df2.after))\n",
    "\n",
    "print(stats.ttest_rel(df2.before, df2.after, alternative='greater'))"
   ],
   "metadata": {
    "id": "mXcCNKPHm6mm",
    "ExecuteTime": {
     "end_time": "2024-09-22T11:04:50.528695Z",
     "start_time": "2024-09-22T11:04:50.522688Z"
    }
   },
   "outputs": [
    {
     "name": "stdout",
     "output_type": "stream",
     "text": [
      "ShapiroResult(statistic=0.9824518487079326, pvalue=0.5405409056995981)\n",
      "ShapiroResult(statistic=0.9882315263096293, pvalue=0.832215596623306)\n",
      "TtestResult(statistic=2.055925757507072, pvalue=0.02211135004801021, df=59)\n"
     ]
    }
   ],
   "execution_count": 6
  },
  {
   "metadata": {},
   "cell_type": "markdown",
   "source": "По результатам парного Т-критерия нулевая гипотеза не подтвердилась, добавки оказали эффект."
  },
  {
   "cell_type": "markdown",
   "source": [
    "*Задача 3*\n",
    "\n",
    "Вы работаете аналитиком в приложении, которое собирает новости по интересам пользователя. Например, если пользователь увлечен книгами,  то приложение будет собирать ему самые свежие новости по новым книгам. Вы заметили, что пользователи редко посещают ваше приложение, а вам хотелось бы поднять их активность и видеть, что они заходят в приложение каждый день или еще чаще. То есть поднять их заинтересованность. \n",
    "\n",
    "Вы и группа разработки решили присылать уведомления раз в день с самой популярной новостью по тематикам пользователя. Теперь вам нужно проверить, что эта гипотеза сработала, и заинтересованность пользователя выросла.\n",
    "______________________\n",
    "В датасете для каждого пользователя указано, сколько раз в неделю он заходил до появления уведомлений (колонка `before`) и сколько раз в неделю он стал заходить в приложение после появления уведомлений (колонка `after`)\n",
    "______________\n",
    "Опишите словами нулевую и альтернативную гипотезы. Проверьте гипотезы с помощью статистического критерия. Интерпретируйте получившиеся результаты. Уровень значимости = 5%."
   ],
   "metadata": {
    "id": "ZluM1nuLm2zT"
   }
  },
  {
   "cell_type": "markdown",
   "source": [
    "Нулевая гипотеза: Уведомления не влияют на количество посещений приложения пользователем\n",
    "\n",
    "Альтернативная гипотеза: Уведомления увеличили частоту посещения приложения пользователем"
   ],
   "metadata": {
    "id": "VaHETRjVwoO_"
   }
  },
  {
   "cell_type": "code",
   "source": [
    "df3 = pd.read_csv(r'.\\data\\hw3.csv')\n",
    "df3.head()"
   ],
   "metadata": {
    "colab": {
     "base_uri": "https://localhost:8080/",
     "height": 206
    },
    "id": "iyF3jIbExrb9",
    "outputId": "81123aab-bdf5-4e5c-a94f-ce5e1c65486e",
    "ExecuteTime": {
     "end_time": "2024-09-22T15:21:04.834389Z",
     "start_time": "2024-09-22T15:21:04.829023Z"
    }
   },
   "outputs": [
    {
     "data": {
      "text/plain": [
       "   id  before  after\n",
       "0  15       3     11\n",
       "1   7       6     13\n",
       "2   6       3      8\n",
       "3  13       1     14\n",
       "4  11       3      4"
      ],
      "text/html": [
       "<div>\n",
       "<style scoped>\n",
       "    .dataframe tbody tr th:only-of-type {\n",
       "        vertical-align: middle;\n",
       "    }\n",
       "\n",
       "    .dataframe tbody tr th {\n",
       "        vertical-align: top;\n",
       "    }\n",
       "\n",
       "    .dataframe thead th {\n",
       "        text-align: right;\n",
       "    }\n",
       "</style>\n",
       "<table border=\"1\" class=\"dataframe\">\n",
       "  <thead>\n",
       "    <tr style=\"text-align: right;\">\n",
       "      <th></th>\n",
       "      <th>id</th>\n",
       "      <th>before</th>\n",
       "      <th>after</th>\n",
       "    </tr>\n",
       "  </thead>\n",
       "  <tbody>\n",
       "    <tr>\n",
       "      <th>0</th>\n",
       "      <td>15</td>\n",
       "      <td>3</td>\n",
       "      <td>11</td>\n",
       "    </tr>\n",
       "    <tr>\n",
       "      <th>1</th>\n",
       "      <td>7</td>\n",
       "      <td>6</td>\n",
       "      <td>13</td>\n",
       "    </tr>\n",
       "    <tr>\n",
       "      <th>2</th>\n",
       "      <td>6</td>\n",
       "      <td>3</td>\n",
       "      <td>8</td>\n",
       "    </tr>\n",
       "    <tr>\n",
       "      <th>3</th>\n",
       "      <td>13</td>\n",
       "      <td>1</td>\n",
       "      <td>14</td>\n",
       "    </tr>\n",
       "    <tr>\n",
       "      <th>4</th>\n",
       "      <td>11</td>\n",
       "      <td>3</td>\n",
       "      <td>4</td>\n",
       "    </tr>\n",
       "  </tbody>\n",
       "</table>\n",
       "</div>"
      ]
     },
     "execution_count": 3,
     "metadata": {},
     "output_type": "execute_result"
    }
   ],
   "execution_count": 3
  },
  {
   "cell_type": "code",
   "source": [
    "print(stats.shapiro(df3.before))\n",
    "print(stats.shapiro(df3.after))\n",
    "\n",
    "print(stats.wilcoxon(df3.before, df3.after, alternative='less'))"
   ],
   "metadata": {
    "id": "UrAZs5og1hsM",
    "ExecuteTime": {
     "end_time": "2024-09-22T15:41:26.939243Z",
     "start_time": "2024-09-22T15:41:26.934533Z"
    }
   },
   "outputs": [
    {
     "name": "stdout",
     "output_type": "stream",
     "text": [
      "ShapiroResult(statistic=0.9109629581133942, pvalue=0.001128772778236105)\n",
      "ShapiroResult(statistic=0.9323505343418181, pvalue=0.006789438723830561)\n",
      "WilcoxonResult(statistic=161.5, pvalue=1.6672412784258823e-05)\n"
     ]
    }
   ],
   "execution_count": 7
  },
  {
   "metadata": {},
   "cell_type": "markdown",
   "source": "Нулевая гипотеза не подтвердилась, уведомления возымели эффект"
  },
  {
   "cell_type": "markdown",
   "source": [
    "## Дополнительная задача"
   ],
   "metadata": {
    "id": "VqjPEqao1kgH"
   }
  },
  {
   "cell_type": "markdown",
   "source": [
    "*Задача 4*\n",
    "\n",
    "Компания X тестирует продажу своего продукта через два разных сайта. На оба сайта приходит одинаковое количество пользователей. Причем выборки пользователей не пересекаются, то есть если пользователь увидел сайт 1, он уже не посетит сайт 2. Проверьте гипотезу, что средний чек по пользователям на сайте 1 отличается от среднего чека пользователей на сайте 2 (период сравнения — один месяц).\n",
    "\n",
    "Опишите словами нулевую и альтернативную гипотезы. Проверьте гипотезы с помощью статистического критерия. Интерпретируйте получившиеся результаты. Уровень значимости = 5%."
   ],
   "metadata": {
    "id": "9nUKkn9J1ut-"
   }
  },
  {
   "cell_type": "markdown",
   "source": [
    "Нулевая гипотеза:________________________\n",
    "\n",
    "Альтернативная гипотеза: ____________________________"
   ],
   "metadata": {
    "id": "eZJF5ENq4MT8"
   }
  },
  {
   "cell_type": "code",
   "source": [
    "df4 = pd.read_csv('hw4.csv')\n",
    "df4.head()"
   ],
   "metadata": {
    "id": "S2LOrCU2PYoD"
   },
   "execution_count": null,
   "outputs": []
  },
  {
   "cell_type": "code",
   "source": [
    "# Ваш код здесь"
   ],
   "metadata": {
    "id": "fuoCJrgzVszS"
   },
   "execution_count": null,
   "outputs": []
  }
 ]
}
