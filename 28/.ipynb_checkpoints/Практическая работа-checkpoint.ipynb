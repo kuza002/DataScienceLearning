{
 "nbformat": 4,
 "nbformat_minor": 0,
 "metadata": {
  "colab": {
   "provenance": [],
   "collapsed_sections": [
    "oTIytkb-P_fc",
    "aXJiblYGPnl7"
   ]
  },
  "kernelspec": {
   "name": "python3",
   "display_name": "Python 3 (ipykernel)",
   "language": "python"
  },
  "language_info": {
   "name": "python"
  }
 },
 "cells": [
  {
   "cell_type": "markdown",
   "source": [
    "## Практическая работа"
   ],
   "metadata": {
    "id": "R7z_bLlN82Fq"
   }
  },
  {
   "cell_type": "markdown",
   "source": [
    "В этой работе вам нужно будет подготовить финальный нотбук по задаче предсказания стоимости поддержанного автомобиля, которую мы решали на протяжении нескольких модулей.\n",
    "<br>\n",
    "*Обязательные задачи* помогут проверить, что вы действительно усвоили материал. Если у вас всё получилось, можете переходить к следующей теме.\n",
    "<br>\n",
    "Удачи!"
   ],
   "metadata": {
    "id": "kkjjqZ3h8_Xs"
   }
  },
  {
   "cell_type": "markdown",
   "source": [
    "Цели практической работы:\n",
    "\n",
    "1.   Потренироваться в формировании понятного и структурированного ноутбука по результатам исследования.\n",
    "2.   Отработать выбор наилучшей предсказательной модели с помощью кросс-валидации.\n",
    "3.   На основе результатов метрик научиться делать выводы о переобучении/недообучении модели.\n",
    "4.   Научиться сохранять обученные модели в формате `pickle`.\n",
    "\n",
    "\n"
   ],
   "metadata": {
    "id": "L7jIYdtWLK83"
   }
  },
  {
   "cell_type": "markdown",
   "source": [
    "Что оценивается:\n",
    "\n",
    "*   Ноутбук состоит из блоков: каждый блок соответствует определённой фазе работы с задачей.\n",
    "*   Блоки, которые состоят из нескольких этапов, декомпозированы на подблоки (например, в `Data Preparation` может быть несколько подблоков: `Data cleaning`, `Feature Selection` и тому подобное).\n",
    "*   Код написан в едином стиле и не нарушает PEP-8.\n",
    "*   Код покрыт комментариями.\n",
    "*   Код воспроизводим (то есть проверяющий, запустив ноутбук, получит ровно такие же результаты).\n",
    "*   Все условия задач выполнены.\n",
    "\n",
    "\n",
    "\n"
   ],
   "metadata": {
    "id": "euoZ2_MKMq8a"
   }
  },
  {
   "cell_type": "markdown",
   "source": [
    "## Обязательные задачи"
   ],
   "metadata": {
    "id": "o6QMs6bwNahN"
   }
  },
  {
   "cell_type": "markdown",
   "source": [
    "### Постановка общей задачи:\n",
    "\n"
   ],
   "metadata": {
    "id": "oTIytkb-P_fc"
   }
  },
  {
   "cell_type": "markdown",
   "source": [
    "Напомним, что вы работаете с небольшой выборкой из коллекции подержанных автомобилей, выставленных на продажу в Соединённых Штатах. На этих данных вам нужно построить модель классификации, определяющую категорию цены подержанного автомобиля в зависимости от характеристик транспортного средства."
   ],
   "metadata": {
    "id": "3OVyFidZQQCM"
   }
  },
  {
   "cell_type": "markdown",
   "source": [
    "### Описание датасета:\n",
    "\n"
   ],
   "metadata": {
    "id": "aXJiblYGPnl7"
   }
  },
  {
   "cell_type": "markdown",
   "source": [
    "- `id`: идентификатор записи;\n",
    "- `url`: URL записи о продаже;\n",
    "- `region`: регион;\n",
    "- `region_url`: URL региона;\n",
    "- `price`: стоимость;\n",
    "- `year`: год выпуска;\n",
    "- `manufacturer`: производитель;\n",
    "- `model`: модель;\n",
    "- `fuel`: тип топлива;\n",
    "- `odometer`: количество пройденных миль;\n",
    "- `title_status`: статус;\n",
    "- `transmission`: коробка передач;\n",
    "- `image_url`: URL изображения;\n",
    "- `description`: указанное описание;\n",
    "- `state`: штат;\n",
    "- `lat`: широта;\n",
    "- `long`: долгота;\n",
    "- `posting_date`: дата размещения объявления о продаже;\n",
    "- `price_category`: категория цены;\n",
    "- `date`: дата публикации."
   ],
   "metadata": {
    "id": "iEkPagJvQMct"
   }
  },
  {
   "cell_type": "markdown",
   "source": [
    "###  Задачи:"
   ],
   "metadata": {
    "id": "QOz03a6IS3yM"
   }
  },
  {
   "cell_type": "markdown",
   "source": [
    "Ниже представлены задачи по проекту построения модели. Выполните их и в отдельном файле соберите финальный ноутбук проекта."
   ],
   "metadata": {
    "id": "fyPW74cuS0xV"
   }
  },
  {
   "cell_type": "markdown",
   "source": [
    "0. *Импорт сторонних библиотек*\n",
    "\n",
    "В первой ячейке ноутбука импортируйте библиотеки, которые необходимы для работы с данными. Впоследствии все импорты добавляйте в эту ячейку. Структурируйте их по PEP-8.\n",
    "\n",
    "[Документация по оформлению import'ов (PEP-8)](https://peps.python.org/pep-0008/#imports)"
   ],
   "metadata": {
    "id": "foZlR0n9Qe5d"
   }
  },
  {
   "metadata": {
    "ExecuteTime": {
     "end_time": "2024-09-27T16:32:39.502722Z",
     "start_time": "2024-09-27T16:32:39.499216Z"
    }
   },
   "cell_type": "code",
   "source": [
    "import numpy as np\n",
    "import pandas as pd\n",
    "from openpyxl.styles.numbers import is_datetime\n",
    "from sklearn.preprocessing import OneHotEncoder"
   ],
   "outputs": [],
   "execution_count": 206
  },
  {
   "cell_type": "markdown",
   "source": [
    "1. *Загрузка данных*\n",
    "\n",
    "Загрузите данные из файла `df_out`. Выведите размерность и первые 5 строчек данных."
   ],
   "metadata": {
    "id": "bhYiJs3jSRzu"
   }
  },
  {
   "metadata": {
    "ExecuteTime": {
     "end_time": "2024-09-27T16:32:39.823303Z",
     "start_time": "2024-09-27T16:32:39.539157Z"
    }
   },
   "cell_type": "code",
   "source": [
    "df_out = pd.read_csv(r'df_out.csv', index_col=0)\n",
    "print(df_out.shape)\n",
    "df_out.head()"
   ],
   "outputs": [
    {
     "name": "stdout",
     "output_type": "stream",
     "text": [
      "(10000, 19)\n"
     ]
    },
    {
     "data": {
      "text/plain": [
       "                                                          url         region  \\\n",
       "id                                                                             \n",
       "7308295377  https://chattanooga.craigslist.org/ctd/d/chatt...    chattanooga   \n",
       "7316380095  https://newjersey.craigslist.org/ctd/d/carlsta...   north jersey   \n",
       "7313733749  https://reno.craigslist.org/ctd/d/atlanta-2017...   reno / tahoe   \n",
       "7308210929  https://fayetteville.craigslist.org/ctd/d/rale...   fayetteville   \n",
       "7316474668  https://newyork.craigslist.org/lgi/cto/d/baldw...  new york city   \n",
       "\n",
       "                                     region_url  price    year manufacturer  \\\n",
       "id                                                                            \n",
       "7308295377   https://chattanooga.craigslist.org  54990  2020.0          ram   \n",
       "7316380095     https://newjersey.craigslist.org  16942  2016.0         ford   \n",
       "7313733749          https://reno.craigslist.org  35590  2017.0   volkswagen   \n",
       "7308210929  https://fayetteville.craigslist.org  14500  2013.0       toyota   \n",
       "7316474668       https://newyork.craigslist.org  21800  2021.0       nissan   \n",
       "\n",
       "                             model    fuel  odometer title_status  \\\n",
       "id                                                                  \n",
       "7308295377  2500 crew cab big horn  diesel     27442        clean   \n",
       "7316380095    explorer 4wd 4dr xlt     NaN     60023        clean   \n",
       "7313733749        golf r hatchback     gas     14048        clean   \n",
       "7308210929                    rav4     gas    117291        clean   \n",
       "7316474668                  altima     gas      8000        clean   \n",
       "\n",
       "           transmission                                          image_url  \\\n",
       "id                                                                           \n",
       "7308295377        other  https://images.craigslist.org/00N0N_1xMPvfxRAI...   \n",
       "7316380095    automatic  https://images.craigslist.org/00x0x_26jl9F0cnL...   \n",
       "7313733749        other  https://images.craigslist.org/00y0y_eeZjWeiSfb...   \n",
       "7308210929    automatic  https://images.craigslist.org/00606_iGe5iXidib...   \n",
       "7316474668    automatic  https://images.craigslist.org/00V0V_3pSOiPZ3Sd...   \n",
       "\n",
       "                                                  description state  \\\n",
       "id                                                                    \n",
       "7308295377  Carvana is the safer way to buy a car During t...    tn   \n",
       "7316380095  ***Call Us for more information at: 201-635-14...    nj   \n",
       "7313733749  Carvana is the safer way to buy a car During t...    ca   \n",
       "7308210929  2013 Toyota RAV4 XLE 4dr SUV     Offered by: R...    nc   \n",
       "7316474668  2021 Nissan Altima Sv with Only 8 K Miles Titl...    ny   \n",
       "\n",
       "                  lat       long              posting_date price_category  \\\n",
       "id                                                                          \n",
       "7308295377  35.060000 -85.250000  2021-04-17T12:30:50-0400           high   \n",
       "7316380095  40.821805 -74.061962  2021-05-03T15:40:21-0400         medium   \n",
       "7313733749  33.779214 -84.411811  2021-04-28T03:52:20-0700           high   \n",
       "7308210929  35.715954 -78.655304  2021-04-17T10:08:57-0400         medium   \n",
       "7316474668  40.654800 -73.609700  2021-05-03T18:32:06-0400         medium   \n",
       "\n",
       "                                 date  \n",
       "id                                     \n",
       "7308295377  2021-04-17 16:30:50+00:00  \n",
       "7316380095  2021-05-03 19:40:21+00:00  \n",
       "7313733749  2021-04-28 10:52:20+00:00  \n",
       "7308210929  2021-04-17 14:08:57+00:00  \n",
       "7316474668  2021-05-03 22:32:06+00:00  "
      ],
      "text/html": [
       "<div>\n",
       "<style scoped>\n",
       "    .dataframe tbody tr th:only-of-type {\n",
       "        vertical-align: middle;\n",
       "    }\n",
       "\n",
       "    .dataframe tbody tr th {\n",
       "        vertical-align: top;\n",
       "    }\n",
       "\n",
       "    .dataframe thead th {\n",
       "        text-align: right;\n",
       "    }\n",
       "</style>\n",
       "<table border=\"1\" class=\"dataframe\">\n",
       "  <thead>\n",
       "    <tr style=\"text-align: right;\">\n",
       "      <th></th>\n",
       "      <th>url</th>\n",
       "      <th>region</th>\n",
       "      <th>region_url</th>\n",
       "      <th>price</th>\n",
       "      <th>year</th>\n",
       "      <th>manufacturer</th>\n",
       "      <th>model</th>\n",
       "      <th>fuel</th>\n",
       "      <th>odometer</th>\n",
       "      <th>title_status</th>\n",
       "      <th>transmission</th>\n",
       "      <th>image_url</th>\n",
       "      <th>description</th>\n",
       "      <th>state</th>\n",
       "      <th>lat</th>\n",
       "      <th>long</th>\n",
       "      <th>posting_date</th>\n",
       "      <th>price_category</th>\n",
       "      <th>date</th>\n",
       "    </tr>\n",
       "    <tr>\n",
       "      <th>id</th>\n",
       "      <th></th>\n",
       "      <th></th>\n",
       "      <th></th>\n",
       "      <th></th>\n",
       "      <th></th>\n",
       "      <th></th>\n",
       "      <th></th>\n",
       "      <th></th>\n",
       "      <th></th>\n",
       "      <th></th>\n",
       "      <th></th>\n",
       "      <th></th>\n",
       "      <th></th>\n",
       "      <th></th>\n",
       "      <th></th>\n",
       "      <th></th>\n",
       "      <th></th>\n",
       "      <th></th>\n",
       "      <th></th>\n",
       "    </tr>\n",
       "  </thead>\n",
       "  <tbody>\n",
       "    <tr>\n",
       "      <th>7308295377</th>\n",
       "      <td>https://chattanooga.craigslist.org/ctd/d/chatt...</td>\n",
       "      <td>chattanooga</td>\n",
       "      <td>https://chattanooga.craigslist.org</td>\n",
       "      <td>54990</td>\n",
       "      <td>2020.0</td>\n",
       "      <td>ram</td>\n",
       "      <td>2500 crew cab big horn</td>\n",
       "      <td>diesel</td>\n",
       "      <td>27442</td>\n",
       "      <td>clean</td>\n",
       "      <td>other</td>\n",
       "      <td>https://images.craigslist.org/00N0N_1xMPvfxRAI...</td>\n",
       "      <td>Carvana is the safer way to buy a car During t...</td>\n",
       "      <td>tn</td>\n",
       "      <td>35.060000</td>\n",
       "      <td>-85.250000</td>\n",
       "      <td>2021-04-17T12:30:50-0400</td>\n",
       "      <td>high</td>\n",
       "      <td>2021-04-17 16:30:50+00:00</td>\n",
       "    </tr>\n",
       "    <tr>\n",
       "      <th>7316380095</th>\n",
       "      <td>https://newjersey.craigslist.org/ctd/d/carlsta...</td>\n",
       "      <td>north jersey</td>\n",
       "      <td>https://newjersey.craigslist.org</td>\n",
       "      <td>16942</td>\n",
       "      <td>2016.0</td>\n",
       "      <td>ford</td>\n",
       "      <td>explorer 4wd 4dr xlt</td>\n",
       "      <td>NaN</td>\n",
       "      <td>60023</td>\n",
       "      <td>clean</td>\n",
       "      <td>automatic</td>\n",
       "      <td>https://images.craigslist.org/00x0x_26jl9F0cnL...</td>\n",
       "      <td>***Call Us for more information at: 201-635-14...</td>\n",
       "      <td>nj</td>\n",
       "      <td>40.821805</td>\n",
       "      <td>-74.061962</td>\n",
       "      <td>2021-05-03T15:40:21-0400</td>\n",
       "      <td>medium</td>\n",
       "      <td>2021-05-03 19:40:21+00:00</td>\n",
       "    </tr>\n",
       "    <tr>\n",
       "      <th>7313733749</th>\n",
       "      <td>https://reno.craigslist.org/ctd/d/atlanta-2017...</td>\n",
       "      <td>reno / tahoe</td>\n",
       "      <td>https://reno.craigslist.org</td>\n",
       "      <td>35590</td>\n",
       "      <td>2017.0</td>\n",
       "      <td>volkswagen</td>\n",
       "      <td>golf r hatchback</td>\n",
       "      <td>gas</td>\n",
       "      <td>14048</td>\n",
       "      <td>clean</td>\n",
       "      <td>other</td>\n",
       "      <td>https://images.craigslist.org/00y0y_eeZjWeiSfb...</td>\n",
       "      <td>Carvana is the safer way to buy a car During t...</td>\n",
       "      <td>ca</td>\n",
       "      <td>33.779214</td>\n",
       "      <td>-84.411811</td>\n",
       "      <td>2021-04-28T03:52:20-0700</td>\n",
       "      <td>high</td>\n",
       "      <td>2021-04-28 10:52:20+00:00</td>\n",
       "    </tr>\n",
       "    <tr>\n",
       "      <th>7308210929</th>\n",
       "      <td>https://fayetteville.craigslist.org/ctd/d/rale...</td>\n",
       "      <td>fayetteville</td>\n",
       "      <td>https://fayetteville.craigslist.org</td>\n",
       "      <td>14500</td>\n",
       "      <td>2013.0</td>\n",
       "      <td>toyota</td>\n",
       "      <td>rav4</td>\n",
       "      <td>gas</td>\n",
       "      <td>117291</td>\n",
       "      <td>clean</td>\n",
       "      <td>automatic</td>\n",
       "      <td>https://images.craigslist.org/00606_iGe5iXidib...</td>\n",
       "      <td>2013 Toyota RAV4 XLE 4dr SUV     Offered by: R...</td>\n",
       "      <td>nc</td>\n",
       "      <td>35.715954</td>\n",
       "      <td>-78.655304</td>\n",
       "      <td>2021-04-17T10:08:57-0400</td>\n",
       "      <td>medium</td>\n",
       "      <td>2021-04-17 14:08:57+00:00</td>\n",
       "    </tr>\n",
       "    <tr>\n",
       "      <th>7316474668</th>\n",
       "      <td>https://newyork.craigslist.org/lgi/cto/d/baldw...</td>\n",
       "      <td>new york city</td>\n",
       "      <td>https://newyork.craigslist.org</td>\n",
       "      <td>21800</td>\n",
       "      <td>2021.0</td>\n",
       "      <td>nissan</td>\n",
       "      <td>altima</td>\n",
       "      <td>gas</td>\n",
       "      <td>8000</td>\n",
       "      <td>clean</td>\n",
       "      <td>automatic</td>\n",
       "      <td>https://images.craigslist.org/00V0V_3pSOiPZ3Sd...</td>\n",
       "      <td>2021 Nissan Altima Sv with Only 8 K Miles Titl...</td>\n",
       "      <td>ny</td>\n",
       "      <td>40.654800</td>\n",
       "      <td>-73.609700</td>\n",
       "      <td>2021-05-03T18:32:06-0400</td>\n",
       "      <td>medium</td>\n",
       "      <td>2021-05-03 22:32:06+00:00</td>\n",
       "    </tr>\n",
       "  </tbody>\n",
       "</table>\n",
       "</div>"
      ]
     },
     "execution_count": 207,
     "metadata": {},
     "output_type": "execute_result"
    }
   ],
   "execution_count": 207
  },
  {
   "metadata": {},
   "cell_type": "markdown",
   "source": "# Data Preparation"
  },
  {
   "metadata": {},
   "cell_type": "markdown",
   "source": [
    "2. *Data Preparation*\n",
    "\n",
    "Объявите блок Data Preparation. В этом блоке:\n",
    "* произведите преобразование типов данных, если нужно;\n",
    "* исследуйте данные на пропуски, обработайте их (например, заполните какими-то значениями);\n",
    "* избавьтесь от аномалий, если нужно.\n",
    "\n",
    "В решении данной задачи опирайтесь на результаты работы в 17-19 модулях блока Data Preparation. Исследование данных подкрепляйте соответствующей визуализацией в виде графиков, таблиц или статистических значений.\n",
    "\n",
    "Декомпозируйте блок на подблоки.\n"
   ]
  },
  {
   "metadata": {
    "ExecuteTime": {
     "end_time": "2024-09-27T16:32:39.853763Z",
     "start_time": "2024-09-27T16:32:39.848801Z"
    }
   },
   "cell_type": "code",
   "source": "df = df_out.copy()",
   "outputs": [],
   "execution_count": 208
  },
  {
   "metadata": {
    "ExecuteTime": {
     "end_time": "2024-09-27T16:32:39.901523Z",
     "start_time": "2024-09-27T16:32:39.888317Z"
    }
   },
   "cell_type": "code",
   "source": [
    "def count_empty(df):\n",
    "    for col in df.columns:\n",
    "        null_qunatity = sum(df[col].isnull())\n",
    "        if null_qunatity > 0:\n",
    "            print(col, null_qunatity)\n",
    "\n",
    "count_empty(df)            "
   ],
   "outputs": [
    {
     "name": "stdout",
     "output_type": "stream",
     "text": [
      "year 36\n",
      "model 128\n",
      "fuel 63\n",
      "title_status 166\n",
      "transmission 45\n",
      "image_url 2\n",
      "description 2\n",
      "lat 98\n",
      "long 98\n",
      "posting_date 2\n",
      "date 2\n"
     ]
    }
   ],
   "execution_count": 209
  },
  {
   "metadata": {
    "ExecuteTime": {
     "end_time": "2024-09-27T16:32:39.989055Z",
     "start_time": "2024-09-27T16:32:39.985035Z"
    }
   },
   "cell_type": "code",
   "source": "df.dtypes",
   "outputs": [
    {
     "data": {
      "text/plain": [
       "url                object\n",
       "region             object\n",
       "region_url         object\n",
       "price               int64\n",
       "year              float64\n",
       "manufacturer       object\n",
       "model              object\n",
       "fuel               object\n",
       "odometer            int64\n",
       "title_status       object\n",
       "transmission       object\n",
       "image_url          object\n",
       "description        object\n",
       "state              object\n",
       "lat               float64\n",
       "long              float64\n",
       "posting_date       object\n",
       "price_category     object\n",
       "date               object\n",
       "dtype: object"
      ]
     },
     "execution_count": 210,
     "metadata": {},
     "output_type": "execute_result"
    }
   ],
   "execution_count": 210
  },
  {
   "metadata": {},
   "cell_type": "markdown",
   "source": "## date preparation"
  },
  {
   "metadata": {
    "ExecuteTime": {
     "end_time": "2024-09-27T16:32:40.041041Z",
     "start_time": "2024-09-27T16:32:40.033412Z"
    }
   },
   "cell_type": "code",
   "source": "df[df.date.isnull()]",
   "outputs": [
    {
     "data": {
      "text/plain": [
       "                                                          url         region  \\\n",
       "id                                                                             \n",
       "7315259025  https://nh.craigslist.org/cto/d/manchester-201...  new hampshire   \n",
       "7208549803  https://bellingham.craigslist.org/ctd/d/bellin...     bellingham   \n",
       "\n",
       "                                   region_url  price  year manufacturer model  \\\n",
       "id                                                                              \n",
       "7315259025          https://nh.craigslist.org   3750   NaN        other   NaN   \n",
       "7208549803  https://bellingham.craigslist.org  11999   NaN        other   NaN   \n",
       "\n",
       "           fuel  odometer title_status transmission image_url description  \\\n",
       "id                                                                          \n",
       "7315259025  NaN     95674          NaN          NaN       NaN         NaN   \n",
       "7208549803  NaN     95674          NaN          NaN       NaN         NaN   \n",
       "\n",
       "           state  lat  long posting_date price_category date  \n",
       "id                                                            \n",
       "7315259025    nh  NaN   NaN          NaN            low  NaN  \n",
       "7208549803    wa  NaN   NaN          NaN         medium  NaN  "
      ],
      "text/html": [
       "<div>\n",
       "<style scoped>\n",
       "    .dataframe tbody tr th:only-of-type {\n",
       "        vertical-align: middle;\n",
       "    }\n",
       "\n",
       "    .dataframe tbody tr th {\n",
       "        vertical-align: top;\n",
       "    }\n",
       "\n",
       "    .dataframe thead th {\n",
       "        text-align: right;\n",
       "    }\n",
       "</style>\n",
       "<table border=\"1\" class=\"dataframe\">\n",
       "  <thead>\n",
       "    <tr style=\"text-align: right;\">\n",
       "      <th></th>\n",
       "      <th>url</th>\n",
       "      <th>region</th>\n",
       "      <th>region_url</th>\n",
       "      <th>price</th>\n",
       "      <th>year</th>\n",
       "      <th>manufacturer</th>\n",
       "      <th>model</th>\n",
       "      <th>fuel</th>\n",
       "      <th>odometer</th>\n",
       "      <th>title_status</th>\n",
       "      <th>transmission</th>\n",
       "      <th>image_url</th>\n",
       "      <th>description</th>\n",
       "      <th>state</th>\n",
       "      <th>lat</th>\n",
       "      <th>long</th>\n",
       "      <th>posting_date</th>\n",
       "      <th>price_category</th>\n",
       "      <th>date</th>\n",
       "    </tr>\n",
       "    <tr>\n",
       "      <th>id</th>\n",
       "      <th></th>\n",
       "      <th></th>\n",
       "      <th></th>\n",
       "      <th></th>\n",
       "      <th></th>\n",
       "      <th></th>\n",
       "      <th></th>\n",
       "      <th></th>\n",
       "      <th></th>\n",
       "      <th></th>\n",
       "      <th></th>\n",
       "      <th></th>\n",
       "      <th></th>\n",
       "      <th></th>\n",
       "      <th></th>\n",
       "      <th></th>\n",
       "      <th></th>\n",
       "      <th></th>\n",
       "      <th></th>\n",
       "    </tr>\n",
       "  </thead>\n",
       "  <tbody>\n",
       "    <tr>\n",
       "      <th>7315259025</th>\n",
       "      <td>https://nh.craigslist.org/cto/d/manchester-201...</td>\n",
       "      <td>new hampshire</td>\n",
       "      <td>https://nh.craigslist.org</td>\n",
       "      <td>3750</td>\n",
       "      <td>NaN</td>\n",
       "      <td>other</td>\n",
       "      <td>NaN</td>\n",
       "      <td>NaN</td>\n",
       "      <td>95674</td>\n",
       "      <td>NaN</td>\n",
       "      <td>NaN</td>\n",
       "      <td>NaN</td>\n",
       "      <td>NaN</td>\n",
       "      <td>nh</td>\n",
       "      <td>NaN</td>\n",
       "      <td>NaN</td>\n",
       "      <td>NaN</td>\n",
       "      <td>low</td>\n",
       "      <td>NaN</td>\n",
       "    </tr>\n",
       "    <tr>\n",
       "      <th>7208549803</th>\n",
       "      <td>https://bellingham.craigslist.org/ctd/d/bellin...</td>\n",
       "      <td>bellingham</td>\n",
       "      <td>https://bellingham.craigslist.org</td>\n",
       "      <td>11999</td>\n",
       "      <td>NaN</td>\n",
       "      <td>other</td>\n",
       "      <td>NaN</td>\n",
       "      <td>NaN</td>\n",
       "      <td>95674</td>\n",
       "      <td>NaN</td>\n",
       "      <td>NaN</td>\n",
       "      <td>NaN</td>\n",
       "      <td>NaN</td>\n",
       "      <td>wa</td>\n",
       "      <td>NaN</td>\n",
       "      <td>NaN</td>\n",
       "      <td>NaN</td>\n",
       "      <td>medium</td>\n",
       "      <td>NaN</td>\n",
       "    </tr>\n",
       "  </tbody>\n",
       "</table>\n",
       "</div>"
      ]
     },
     "execution_count": 211,
     "metadata": {},
     "output_type": "execute_result"
    }
   ],
   "execution_count": 211
  },
  {
   "metadata": {
    "ExecuteTime": {
     "end_time": "2024-09-27T16:32:41.057228Z",
     "start_time": "2024-09-27T16:32:41.040059Z"
    }
   },
   "cell_type": "code",
   "source": [
    "df.dropna(subset=['date'], inplace=True)\n",
    "count_empty(df)"
   ],
   "outputs": [
    {
     "name": "stdout",
     "output_type": "stream",
     "text": [
      "year 34\n",
      "model 126\n",
      "fuel 61\n",
      "title_status 164\n",
      "transmission 43\n",
      "lat 96\n",
      "long 96\n"
     ]
    }
   ],
   "execution_count": 212
  },
  {
   "metadata": {
    "ExecuteTime": {
     "end_time": "2024-09-27T16:32:42.815305Z",
     "start_time": "2024-09-27T16:32:42.802330Z"
    }
   },
   "cell_type": "code",
   "source": [
    "df.date = pd.to_datetime(df.date)\n",
    "df.date.dtype"
   ],
   "outputs": [
    {
     "data": {
      "text/plain": [
       "datetime64[ns, UTC]"
      ]
     },
     "execution_count": 213,
     "metadata": {},
     "output_type": "execute_result"
    }
   ],
   "execution_count": 213
  },
  {
   "metadata": {
    "ExecuteTime": {
     "end_time": "2024-09-27T16:32:44.335878Z",
     "start_time": "2024-09-27T16:32:44.330823Z"
    }
   },
   "cell_type": "code",
   "source": "df.date.describe()",
   "outputs": [
    {
     "data": {
      "text/plain": [
       "count                                   9998\n",
       "mean     2021-04-24 03:02:46.415083008+00:00\n",
       "min                2021-04-04 07:32:35+00:00\n",
       "25%         2021-04-17 13:26:14.500000+00:00\n",
       "50%         2021-04-26 13:47:57.500000+00:00\n",
       "75%                2021-05-01 14:18:46+00:00\n",
       "max                2021-05-05 03:26:24+00:00\n",
       "Name: date, dtype: object"
      ]
     },
     "execution_count": 214,
     "metadata": {},
     "output_type": "execute_result"
    }
   ],
   "execution_count": 214
  },
  {
   "metadata": {},
   "cell_type": "markdown",
   "source": "## long and lat preparation"
  },
  {
   "metadata": {
    "ExecuteTime": {
     "end_time": "2024-09-27T16:32:46.154683Z",
     "start_time": "2024-09-27T16:32:46.145136Z"
    }
   },
   "cell_type": "code",
   "source": "df[df.long.isnull()]",
   "outputs": [
    {
     "data": {
      "text/plain": [
       "                                                          url  \\\n",
       "id                                                              \n",
       "7312692841  https://tricities.craigslist.org/ctd/d/bmw-ser...   \n",
       "7315526339  https://newjersey.craigslist.org/ctd/d/look-wh...   \n",
       "7308641593  https://winstonsalem.craigslist.org/ctd/d/ford...   \n",
       "7309282242  https://onslow.craigslist.org/ctd/d/mercedes-b...   \n",
       "7314847134  https://atlanta.craigslist.org/atl/ctd/d/2008-...   \n",
       "...                                                       ...   \n",
       "7312710592  https://athensga.craigslist.org/ctd/d/bmw-x5-a...   \n",
       "7311736404  https://raleigh.craigslist.org/ctd/d/lexus-nx-...   \n",
       "7315596665  https://newjersey.craigslist.org/ctd/d/wow-201...   \n",
       "7308677951  https://myrtlebeach.craigslist.org/ctd/d/ford-...   \n",
       "7312622931  https://cincinnati.craigslist.org/cto/d/2005-d...   \n",
       "\n",
       "                           region                           region_url  price  \\\n",
       "id                                                                              \n",
       "7312692841             tri-cities     https://tricities.craigslist.org  17998   \n",
       "7315526339           north jersey     https://newjersey.craigslist.org  22995   \n",
       "7308641593          winston-salem  https://winstonsalem.craigslist.org  20998   \n",
       "7309282242           jacksonville        https://onslow.craigslist.org  10810   \n",
       "7314847134                atlanta       https://atlanta.craigslist.org  17900   \n",
       "...                           ...                                  ...    ...   \n",
       "7312710592                 athens      https://athensga.craigslist.org  14975   \n",
       "7311736404  raleigh / durham / CH       https://raleigh.craigslist.org  28998   \n",
       "7315596665           north jersey     https://newjersey.craigslist.org  16495   \n",
       "7308677951           myrtle beach   https://myrtlebeach.craigslist.org  33647   \n",
       "7312622931             cincinnati    https://cincinnati.craigslist.org   7999   \n",
       "\n",
       "              year   manufacturer             model    fuel  odometer  \\\n",
       "id                                                                      \n",
       "7312692841  2012.0            bmw          5 series     gas     62665   \n",
       "7315526339  2014.0            bmw          7 series     gas     81085   \n",
       "7308641593  2016.0           ford     transit cargo     gas    123825   \n",
       "7309282242  2014.0  mercedes-benz           c-class     gas    124476   \n",
       "7314847134  2008.0         toyota            tundra     gas     96000   \n",
       "...            ...            ...               ...     ...       ...   \n",
       "7312710592  2013.0            bmw                x5     gas     97195   \n",
       "7311736404  2018.0          lexus            nx 300     gas     19863   \n",
       "7315596665  2013.0           jeep    grand cherokee   other     90878   \n",
       "7308677951  2015.0           ford  f-250 super duty  diesel    153524   \n",
       "7312622931  2005.0           ford    excursion 2005  diesel    210000   \n",
       "\n",
       "           title_status transmission  \\\n",
       "id                                     \n",
       "7312692841        clean    automatic   \n",
       "7315526339        clean    automatic   \n",
       "7308641593        clean    automatic   \n",
       "7309282242        clean    automatic   \n",
       "7314847134        clean    automatic   \n",
       "...                 ...          ...   \n",
       "7312710592        clean    automatic   \n",
       "7311736404        clean    automatic   \n",
       "7315596665        clean    automatic   \n",
       "7308677951        clean    automatic   \n",
       "7312622931        clean    automatic   \n",
       "\n",
       "                                                    image_url  \\\n",
       "id                                                              \n",
       "7312692841  https://images.craigslist.org/00909_57Xyuj8AJH...   \n",
       "7315526339  https://images.craigslist.org/00k0k_38TNTakyUf...   \n",
       "7308641593  https://images.craigslist.org/00101_gwJT4WBNRo...   \n",
       "7309282242  https://images.craigslist.org/01414_6jNHxQwrKx...   \n",
       "7314847134  https://images.craigslist.org/01313_6u7l4KgvV4...   \n",
       "...                                                       ...   \n",
       "7312710592  https://images.craigslist.org/00i0i_kU6D0X9br2...   \n",
       "7311736404  https://images.craigslist.org/00Q0Q_j7S3aRy6Sw...   \n",
       "7315596665  https://images.craigslist.org/00v0v_awwo3NjD7Q...   \n",
       "7308677951  https://images.craigslist.org/00f0f_1c0aGXmmCL...   \n",
       "7312622931  https://images.craigslist.org/00E0E_i9lrp2qCVK...   \n",
       "\n",
       "                                                  description state  lat  \\\n",
       "id                                                                         \n",
       "7312692841  2012 BMW 5 Series 535i M Sport Heat & Cool Sea...    tn  NaN   \n",
       "7315526339  2014 BMW 7 Series 4dr Sdn 750Li xDrive AWD Aut...    nj  NaN   \n",
       "7308641593  2016 Ford Transit Cargo Vans Work Van High Roo...    nc  NaN   \n",
       "7309282242  2014 Mercedes Benz C Class C 250 Sport Coupe C...    nc  NaN   \n",
       "7314847134  Description:              2008 Toyota Tundra 5...    ga  NaN   \n",
       "...                                                       ...   ...  ...   \n",
       "7312710592  2013 BMW X5 xDrive35i Sport Activity Navigatio...    ga  NaN   \n",
       "7311736404  2018 Lexus NX 300 Navigation Sunroof Bluetooth...    nc  NaN   \n",
       "7315596665  2013 Jeep Grand Cherokee 4WD 4dr Laredo Automa...    nj  NaN   \n",
       "7308677951  2015 Ford F250 4x4 Truck Diesel Pickup Trucks ...    sc  NaN   \n",
       "7312622931  Largest sport utility vehicle ever made in the...    oh  NaN   \n",
       "\n",
       "            long              posting_date price_category  \\\n",
       "id                                                          \n",
       "7312692841   NaN  2021-04-26T04:28:35-0400         medium   \n",
       "7315526339   NaN  2021-05-01T17:49:09-0400           high   \n",
       "7308641593   NaN  2021-04-18T04:43:46-0400         medium   \n",
       "7309282242   NaN  2021-04-19T12:06:28-0400         medium   \n",
       "7314847134   NaN  2021-04-30T12:09:49-0400         medium   \n",
       "...          ...                       ...            ...   \n",
       "7312710592   NaN  2021-04-26T07:31:40-0400         medium   \n",
       "7311736404   NaN  2021-04-24T00:54:33-0400           high   \n",
       "7315596665   NaN  2021-05-01T20:53:57-0400         medium   \n",
       "7308677951   NaN  2021-04-18T08:43:25-0400           high   \n",
       "7312622931   NaN  2021-04-25T21:12:31-0400            low   \n",
       "\n",
       "                                date  \n",
       "id                                    \n",
       "7312692841 2021-04-26 08:28:35+00:00  \n",
       "7315526339 2021-05-01 21:49:09+00:00  \n",
       "7308641593 2021-04-18 08:43:46+00:00  \n",
       "7309282242 2021-04-19 16:06:28+00:00  \n",
       "7314847134 2021-04-30 16:09:49+00:00  \n",
       "...                              ...  \n",
       "7312710592 2021-04-26 11:31:40+00:00  \n",
       "7311736404 2021-04-24 04:54:33+00:00  \n",
       "7315596665 2021-05-02 00:53:57+00:00  \n",
       "7308677951 2021-04-18 12:43:25+00:00  \n",
       "7312622931 2021-04-26 01:12:31+00:00  \n",
       "\n",
       "[96 rows x 19 columns]"
      ],
      "text/html": [
       "<div>\n",
       "<style scoped>\n",
       "    .dataframe tbody tr th:only-of-type {\n",
       "        vertical-align: middle;\n",
       "    }\n",
       "\n",
       "    .dataframe tbody tr th {\n",
       "        vertical-align: top;\n",
       "    }\n",
       "\n",
       "    .dataframe thead th {\n",
       "        text-align: right;\n",
       "    }\n",
       "</style>\n",
       "<table border=\"1\" class=\"dataframe\">\n",
       "  <thead>\n",
       "    <tr style=\"text-align: right;\">\n",
       "      <th></th>\n",
       "      <th>url</th>\n",
       "      <th>region</th>\n",
       "      <th>region_url</th>\n",
       "      <th>price</th>\n",
       "      <th>year</th>\n",
       "      <th>manufacturer</th>\n",
       "      <th>model</th>\n",
       "      <th>fuel</th>\n",
       "      <th>odometer</th>\n",
       "      <th>title_status</th>\n",
       "      <th>transmission</th>\n",
       "      <th>image_url</th>\n",
       "      <th>description</th>\n",
       "      <th>state</th>\n",
       "      <th>lat</th>\n",
       "      <th>long</th>\n",
       "      <th>posting_date</th>\n",
       "      <th>price_category</th>\n",
       "      <th>date</th>\n",
       "    </tr>\n",
       "    <tr>\n",
       "      <th>id</th>\n",
       "      <th></th>\n",
       "      <th></th>\n",
       "      <th></th>\n",
       "      <th></th>\n",
       "      <th></th>\n",
       "      <th></th>\n",
       "      <th></th>\n",
       "      <th></th>\n",
       "      <th></th>\n",
       "      <th></th>\n",
       "      <th></th>\n",
       "      <th></th>\n",
       "      <th></th>\n",
       "      <th></th>\n",
       "      <th></th>\n",
       "      <th></th>\n",
       "      <th></th>\n",
       "      <th></th>\n",
       "      <th></th>\n",
       "    </tr>\n",
       "  </thead>\n",
       "  <tbody>\n",
       "    <tr>\n",
       "      <th>7312692841</th>\n",
       "      <td>https://tricities.craigslist.org/ctd/d/bmw-ser...</td>\n",
       "      <td>tri-cities</td>\n",
       "      <td>https://tricities.craigslist.org</td>\n",
       "      <td>17998</td>\n",
       "      <td>2012.0</td>\n",
       "      <td>bmw</td>\n",
       "      <td>5 series</td>\n",
       "      <td>gas</td>\n",
       "      <td>62665</td>\n",
       "      <td>clean</td>\n",
       "      <td>automatic</td>\n",
       "      <td>https://images.craigslist.org/00909_57Xyuj8AJH...</td>\n",
       "      <td>2012 BMW 5 Series 535i M Sport Heat &amp; Cool Sea...</td>\n",
       "      <td>tn</td>\n",
       "      <td>NaN</td>\n",
       "      <td>NaN</td>\n",
       "      <td>2021-04-26T04:28:35-0400</td>\n",
       "      <td>medium</td>\n",
       "      <td>2021-04-26 08:28:35+00:00</td>\n",
       "    </tr>\n",
       "    <tr>\n",
       "      <th>7315526339</th>\n",
       "      <td>https://newjersey.craigslist.org/ctd/d/look-wh...</td>\n",
       "      <td>north jersey</td>\n",
       "      <td>https://newjersey.craigslist.org</td>\n",
       "      <td>22995</td>\n",
       "      <td>2014.0</td>\n",
       "      <td>bmw</td>\n",
       "      <td>7 series</td>\n",
       "      <td>gas</td>\n",
       "      <td>81085</td>\n",
       "      <td>clean</td>\n",
       "      <td>automatic</td>\n",
       "      <td>https://images.craigslist.org/00k0k_38TNTakyUf...</td>\n",
       "      <td>2014 BMW 7 Series 4dr Sdn 750Li xDrive AWD Aut...</td>\n",
       "      <td>nj</td>\n",
       "      <td>NaN</td>\n",
       "      <td>NaN</td>\n",
       "      <td>2021-05-01T17:49:09-0400</td>\n",
       "      <td>high</td>\n",
       "      <td>2021-05-01 21:49:09+00:00</td>\n",
       "    </tr>\n",
       "    <tr>\n",
       "      <th>7308641593</th>\n",
       "      <td>https://winstonsalem.craigslist.org/ctd/d/ford...</td>\n",
       "      <td>winston-salem</td>\n",
       "      <td>https://winstonsalem.craigslist.org</td>\n",
       "      <td>20998</td>\n",
       "      <td>2016.0</td>\n",
       "      <td>ford</td>\n",
       "      <td>transit cargo</td>\n",
       "      <td>gas</td>\n",
       "      <td>123825</td>\n",
       "      <td>clean</td>\n",
       "      <td>automatic</td>\n",
       "      <td>https://images.craigslist.org/00101_gwJT4WBNRo...</td>\n",
       "      <td>2016 Ford Transit Cargo Vans Work Van High Roo...</td>\n",
       "      <td>nc</td>\n",
       "      <td>NaN</td>\n",
       "      <td>NaN</td>\n",
       "      <td>2021-04-18T04:43:46-0400</td>\n",
       "      <td>medium</td>\n",
       "      <td>2021-04-18 08:43:46+00:00</td>\n",
       "    </tr>\n",
       "    <tr>\n",
       "      <th>7309282242</th>\n",
       "      <td>https://onslow.craigslist.org/ctd/d/mercedes-b...</td>\n",
       "      <td>jacksonville</td>\n",
       "      <td>https://onslow.craigslist.org</td>\n",
       "      <td>10810</td>\n",
       "      <td>2014.0</td>\n",
       "      <td>mercedes-benz</td>\n",
       "      <td>c-class</td>\n",
       "      <td>gas</td>\n",
       "      <td>124476</td>\n",
       "      <td>clean</td>\n",
       "      <td>automatic</td>\n",
       "      <td>https://images.craigslist.org/01414_6jNHxQwrKx...</td>\n",
       "      <td>2014 Mercedes Benz C Class C 250 Sport Coupe C...</td>\n",
       "      <td>nc</td>\n",
       "      <td>NaN</td>\n",
       "      <td>NaN</td>\n",
       "      <td>2021-04-19T12:06:28-0400</td>\n",
       "      <td>medium</td>\n",
       "      <td>2021-04-19 16:06:28+00:00</td>\n",
       "    </tr>\n",
       "    <tr>\n",
       "      <th>7314847134</th>\n",
       "      <td>https://atlanta.craigslist.org/atl/ctd/d/2008-...</td>\n",
       "      <td>atlanta</td>\n",
       "      <td>https://atlanta.craigslist.org</td>\n",
       "      <td>17900</td>\n",
       "      <td>2008.0</td>\n",
       "      <td>toyota</td>\n",
       "      <td>tundra</td>\n",
       "      <td>gas</td>\n",
       "      <td>96000</td>\n",
       "      <td>clean</td>\n",
       "      <td>automatic</td>\n",
       "      <td>https://images.craigslist.org/01313_6u7l4KgvV4...</td>\n",
       "      <td>Description:              2008 Toyota Tundra 5...</td>\n",
       "      <td>ga</td>\n",
       "      <td>NaN</td>\n",
       "      <td>NaN</td>\n",
       "      <td>2021-04-30T12:09:49-0400</td>\n",
       "      <td>medium</td>\n",
       "      <td>2021-04-30 16:09:49+00:00</td>\n",
       "    </tr>\n",
       "    <tr>\n",
       "      <th>...</th>\n",
       "      <td>...</td>\n",
       "      <td>...</td>\n",
       "      <td>...</td>\n",
       "      <td>...</td>\n",
       "      <td>...</td>\n",
       "      <td>...</td>\n",
       "      <td>...</td>\n",
       "      <td>...</td>\n",
       "      <td>...</td>\n",
       "      <td>...</td>\n",
       "      <td>...</td>\n",
       "      <td>...</td>\n",
       "      <td>...</td>\n",
       "      <td>...</td>\n",
       "      <td>...</td>\n",
       "      <td>...</td>\n",
       "      <td>...</td>\n",
       "      <td>...</td>\n",
       "      <td>...</td>\n",
       "    </tr>\n",
       "    <tr>\n",
       "      <th>7312710592</th>\n",
       "      <td>https://athensga.craigslist.org/ctd/d/bmw-x5-a...</td>\n",
       "      <td>athens</td>\n",
       "      <td>https://athensga.craigslist.org</td>\n",
       "      <td>14975</td>\n",
       "      <td>2013.0</td>\n",
       "      <td>bmw</td>\n",
       "      <td>x5</td>\n",
       "      <td>gas</td>\n",
       "      <td>97195</td>\n",
       "      <td>clean</td>\n",
       "      <td>automatic</td>\n",
       "      <td>https://images.craigslist.org/00i0i_kU6D0X9br2...</td>\n",
       "      <td>2013 BMW X5 xDrive35i Sport Activity Navigatio...</td>\n",
       "      <td>ga</td>\n",
       "      <td>NaN</td>\n",
       "      <td>NaN</td>\n",
       "      <td>2021-04-26T07:31:40-0400</td>\n",
       "      <td>medium</td>\n",
       "      <td>2021-04-26 11:31:40+00:00</td>\n",
       "    </tr>\n",
       "    <tr>\n",
       "      <th>7311736404</th>\n",
       "      <td>https://raleigh.craigslist.org/ctd/d/lexus-nx-...</td>\n",
       "      <td>raleigh / durham / CH</td>\n",
       "      <td>https://raleigh.craigslist.org</td>\n",
       "      <td>28998</td>\n",
       "      <td>2018.0</td>\n",
       "      <td>lexus</td>\n",
       "      <td>nx 300</td>\n",
       "      <td>gas</td>\n",
       "      <td>19863</td>\n",
       "      <td>clean</td>\n",
       "      <td>automatic</td>\n",
       "      <td>https://images.craigslist.org/00Q0Q_j7S3aRy6Sw...</td>\n",
       "      <td>2018 Lexus NX 300 Navigation Sunroof Bluetooth...</td>\n",
       "      <td>nc</td>\n",
       "      <td>NaN</td>\n",
       "      <td>NaN</td>\n",
       "      <td>2021-04-24T00:54:33-0400</td>\n",
       "      <td>high</td>\n",
       "      <td>2021-04-24 04:54:33+00:00</td>\n",
       "    </tr>\n",
       "    <tr>\n",
       "      <th>7315596665</th>\n",
       "      <td>https://newjersey.craigslist.org/ctd/d/wow-201...</td>\n",
       "      <td>north jersey</td>\n",
       "      <td>https://newjersey.craigslist.org</td>\n",
       "      <td>16495</td>\n",
       "      <td>2013.0</td>\n",
       "      <td>jeep</td>\n",
       "      <td>grand cherokee</td>\n",
       "      <td>other</td>\n",
       "      <td>90878</td>\n",
       "      <td>clean</td>\n",
       "      <td>automatic</td>\n",
       "      <td>https://images.craigslist.org/00v0v_awwo3NjD7Q...</td>\n",
       "      <td>2013 Jeep Grand Cherokee 4WD 4dr Laredo Automa...</td>\n",
       "      <td>nj</td>\n",
       "      <td>NaN</td>\n",
       "      <td>NaN</td>\n",
       "      <td>2021-05-01T20:53:57-0400</td>\n",
       "      <td>medium</td>\n",
       "      <td>2021-05-02 00:53:57+00:00</td>\n",
       "    </tr>\n",
       "    <tr>\n",
       "      <th>7308677951</th>\n",
       "      <td>https://myrtlebeach.craigslist.org/ctd/d/ford-...</td>\n",
       "      <td>myrtle beach</td>\n",
       "      <td>https://myrtlebeach.craigslist.org</td>\n",
       "      <td>33647</td>\n",
       "      <td>2015.0</td>\n",
       "      <td>ford</td>\n",
       "      <td>f-250 super duty</td>\n",
       "      <td>diesel</td>\n",
       "      <td>153524</td>\n",
       "      <td>clean</td>\n",
       "      <td>automatic</td>\n",
       "      <td>https://images.craigslist.org/00f0f_1c0aGXmmCL...</td>\n",
       "      <td>2015 Ford F250 4x4 Truck Diesel Pickup Trucks ...</td>\n",
       "      <td>sc</td>\n",
       "      <td>NaN</td>\n",
       "      <td>NaN</td>\n",
       "      <td>2021-04-18T08:43:25-0400</td>\n",
       "      <td>high</td>\n",
       "      <td>2021-04-18 12:43:25+00:00</td>\n",
       "    </tr>\n",
       "    <tr>\n",
       "      <th>7312622931</th>\n",
       "      <td>https://cincinnati.craigslist.org/cto/d/2005-d...</td>\n",
       "      <td>cincinnati</td>\n",
       "      <td>https://cincinnati.craigslist.org</td>\n",
       "      <td>7999</td>\n",
       "      <td>2005.0</td>\n",
       "      <td>ford</td>\n",
       "      <td>excursion 2005</td>\n",
       "      <td>diesel</td>\n",
       "      <td>210000</td>\n",
       "      <td>clean</td>\n",
       "      <td>automatic</td>\n",
       "      <td>https://images.craigslist.org/00E0E_i9lrp2qCVK...</td>\n",
       "      <td>Largest sport utility vehicle ever made in the...</td>\n",
       "      <td>oh</td>\n",
       "      <td>NaN</td>\n",
       "      <td>NaN</td>\n",
       "      <td>2021-04-25T21:12:31-0400</td>\n",
       "      <td>low</td>\n",
       "      <td>2021-04-26 01:12:31+00:00</td>\n",
       "    </tr>\n",
       "  </tbody>\n",
       "</table>\n",
       "<p>96 rows × 19 columns</p>\n",
       "</div>"
      ]
     },
     "execution_count": 215,
     "metadata": {},
     "output_type": "execute_result"
    }
   ],
   "execution_count": 215
  },
  {
   "metadata": {
    "ExecuteTime": {
     "end_time": "2024-09-27T16:33:40.396828Z",
     "start_time": "2024-09-27T16:33:40.382091Z"
    }
   },
   "cell_type": "code",
   "source": [
    "df.long = df.long.fillna(df.long.mode()[0])\n",
    "df.lat = df.lat.fillna(df.lat.mode()[0])\n",
    "\n",
    "count_empty(df)"
   ],
   "outputs": [
    {
     "name": "stdout",
     "output_type": "stream",
     "text": [
      "year 34\n",
      "model 126\n",
      "fuel 61\n",
      "title_status 164\n",
      "transmission 43\n"
     ]
    }
   ],
   "execution_count": 217
  },
  {
   "metadata": {},
   "cell_type": "markdown",
   "source": "## transmission preparation"
  },
  {
   "metadata": {
    "ExecuteTime": {
     "end_time": "2024-09-27T16:33:46.900330Z",
     "start_time": "2024-09-27T16:33:46.895941Z"
    }
   },
   "cell_type": "code",
   "source": "df.transmission.describe()",
   "outputs": [
    {
     "data": {
      "text/plain": [
       "count          9955\n",
       "unique            3\n",
       "top       automatic\n",
       "freq           7700\n",
       "Name: transmission, dtype: object"
      ]
     },
     "execution_count": 218,
     "metadata": {},
     "output_type": "execute_result"
    }
   ],
   "execution_count": 218
  },
  {
   "metadata": {
    "ExecuteTime": {
     "end_time": "2024-09-27T16:10:31.871569Z",
     "start_time": "2024-09-27T16:10:31.867226Z"
    }
   },
   "cell_type": "code",
   "source": "",
   "outputs": [
    {
     "data": {
      "text/plain": [
       "url                            object\n",
       "region                         object\n",
       "region_url                     object\n",
       "price                           int64\n",
       "year                          float64\n",
       "manufacturer                   object\n",
       "model                          object\n",
       "fuel                           object\n",
       "odometer                        int64\n",
       "title_status                   object\n",
       "transmission                   object\n",
       "image_url                      object\n",
       "description                    object\n",
       "state                          object\n",
       "lat                           float64\n",
       "long                          float64\n",
       "posting_date                   object\n",
       "price_category                 object\n",
       "date              datetime64[ns, UTC]\n",
       "dtype: object"
      ]
     },
     "execution_count": 74,
     "metadata": {},
     "output_type": "execute_result"
    }
   ],
   "execution_count": 74
  },
  {
   "metadata": {},
   "cell_type": "markdown",
   "source": "# Feature engineering"
  },
  {
   "cell_type": "markdown",
   "source": [
    "3. *Feature engineering*\n",
    "\n",
    "Объявите блок Feature engineering. В этом блоке:\n",
    "* подготовьте категориальные переменные с помощью OneHotEncoder;\n",
    "* стандартизируйте и нормализуйте переменные, если нужно;\n",
    "* создайте новые признаки на основе информации в датафрейме (на основе дат, текстовых значений переменных, и так далее);\n",
    "* удалите неинформативные колонки, которые появились в датасете в результате Feature engineering;\n",
    "* сформируйте финальный датасет, на котором будет производиться моделирование, и сохраните его в отдельный файл.\n",
    "\n",
    "В решении данной задачи опирайтесь на результаты работы в 20 модуле блока Data Preparation. Исследование подкрепляйте соответствующей визуализацией в виде графиков, таблиц или матриц корреляций, если это нужно.\n",
    "\n",
    "Декомпозируйте блок на подблоки."
   ],
   "metadata": {
    "id": "hzw5oxCacLEN"
   }
  },
  {
   "cell_type": "markdown",
   "source": [
    "4. *Modelling*\n",
    "\n",
    "Объявите блок Modelling. В этом блоке:\n",
    "* сформируйте датасет для обучения; инициализируйте фичи и целевую переменную\n",
    "(`price_category`); положите их в соответствующие переменные;\n",
    "* разделите данные на треин и тест;\n",
    "* объявите три модели: логистическая регрессия, случайный лес и многослойный персептрон;\n",
    "* поработайте с моделями: сделайте тюнинг параметров и выберите лучшую модель с помощью кросс-валидации на тренировочной выборке;\n",
    "* по результатам кросс-валидации выберите лучшую модель;\n",
    "* посчитайте значение метрики лучшей модели на тестовой выборке; убедитесь, что модель не переобучилась.\n",
    "\n",
    "В решении данной задачи опирайтесь на результаты работы в 22-23 модулях блока Modelling. Исследование подкрепляйте соответствующей визуализацией в виде графиков, таблиц или матриц корреляций, если это нужно.\n",
    "\n",
    "Декомпозируйте блок на подблоки, если это нужно."
   ],
   "metadata": {
    "id": "oPvQ_MlUeU6n"
   }
  },
  {
   "cell_type": "markdown",
   "source": [
    "4. *Results*\n",
    "\n",
    "Объявите блок Results. В этом блоке:\n",
    "\n",
    "* подведите итог: какая модель показала себя лучше всего и будет финальным результатом данного ноутбука;\n",
    "* обучите эту модель на всём датасете;\n",
    "* сохраните обученную модель в `pickle`."
   ],
   "metadata": {
    "id": "LPADUk0IiiEJ"
   }
  },
  {
   "cell_type": "markdown",
   "source": [
    "## Как отправить работу на проверку\n"
   ],
   "metadata": {
    "id": "w6-JQdeGzhdk"
   }
  },
  {
   "cell_type": "markdown",
   "source": [
    "Отправьте куратору на проверку финальный ноутбук проекта, а также файл обученной модели в формате `pickle`."
   ],
   "metadata": {
    "id": "_lKrJVJpzqNA"
   }
  },
  {
   "cell_type": "code",
   "source": [],
   "metadata": {
    "id": "a9HIfIFknpKW"
   },
   "execution_count": null,
   "outputs": []
  }
 ]
}
