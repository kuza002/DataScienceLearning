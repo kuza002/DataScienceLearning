{
 "cells": [
  {
   "cell_type": "markdown",
   "id": "88c1f1e8",
   "metadata": {
    "id": "88c1f1e8"
   },
   "source": [
    "# Ноутбук с моделью\n",
    "\n",
    "## Импортируем необходимые пакеты"
   ]
  },
  {
   "cell_type": "code",
   "id": "bf930ab9",
   "metadata": {
    "id": "bf930ab9",
    "ExecuteTime": {
     "end_time": "2024-10-02T18:09:34.492812Z",
     "start_time": "2024-10-02T18:09:33.738290Z"
    }
   },
   "source": [
    "import pandas as pd\n",
    "\n",
    "from sklearn.model_selection import cross_val_score\n",
    "from sklearn.preprocessing import OneHotEncoder\n",
    "from sklearn.preprocessing import StandardScaler\n",
    "\n",
    "from sklearn.ensemble import RandomForestClassifier\n",
    "from sklearn.linear_model import LogisticRegression\n",
    "from sklearn.svm import SVC"
   ],
   "outputs": [],
   "execution_count": 2
  },
  {
   "cell_type": "markdown",
   "id": "3b5a80b8",
   "metadata": {
    "id": "3b5a80b8"
   },
   "source": [
    "## Считываем данные в dataframe"
   ]
  },
  {
   "cell_type": "code",
   "id": "c161b221",
   "metadata": {
    "id": "c161b221",
    "outputId": "b6000db8-098e-45a6-ffe5-aeaceda6fecd",
    "ExecuteTime": {
     "end_time": "2024-10-02T18:09:34.834774Z",
     "start_time": "2024-10-02T18:09:34.506417Z"
    }
   },
   "source": [
    "df = pd.read_csv('data/homework.csv')\n",
    "df.head()"
   ],
   "outputs": [
    {
     "ename": "FileNotFoundError",
     "evalue": "[Errno 2] No such file or directory: 'data/homework.csv'",
     "output_type": "error",
     "traceback": [
      "\u001B[1;31m---------------------------------------------------------------------------\u001B[0m",
      "\u001B[1;31mFileNotFoundError\u001B[0m                         Traceback (most recent call last)",
      "Cell \u001B[1;32mIn[3], line 1\u001B[0m\n\u001B[1;32m----> 1\u001B[0m df \u001B[38;5;241m=\u001B[39m pd\u001B[38;5;241m.\u001B[39mread_csv(\u001B[38;5;124m'\u001B[39m\u001B[38;5;124mdata/homework.csv\u001B[39m\u001B[38;5;124m'\u001B[39m)\n\u001B[0;32m      2\u001B[0m df\u001B[38;5;241m.\u001B[39mhead()\n",
      "File \u001B[1;32m~\\miniconda3\\Lib\\site-packages\\pandas\\io\\parsers\\readers.py:1026\u001B[0m, in \u001B[0;36mread_csv\u001B[1;34m(filepath_or_buffer, sep, delimiter, header, names, index_col, usecols, dtype, engine, converters, true_values, false_values, skipinitialspace, skiprows, skipfooter, nrows, na_values, keep_default_na, na_filter, verbose, skip_blank_lines, parse_dates, infer_datetime_format, keep_date_col, date_parser, date_format, dayfirst, cache_dates, iterator, chunksize, compression, thousands, decimal, lineterminator, quotechar, quoting, doublequote, escapechar, comment, encoding, encoding_errors, dialect, on_bad_lines, delim_whitespace, low_memory, memory_map, float_precision, storage_options, dtype_backend)\u001B[0m\n\u001B[0;32m   1013\u001B[0m kwds_defaults \u001B[38;5;241m=\u001B[39m _refine_defaults_read(\n\u001B[0;32m   1014\u001B[0m     dialect,\n\u001B[0;32m   1015\u001B[0m     delimiter,\n\u001B[1;32m   (...)\u001B[0m\n\u001B[0;32m   1022\u001B[0m     dtype_backend\u001B[38;5;241m=\u001B[39mdtype_backend,\n\u001B[0;32m   1023\u001B[0m )\n\u001B[0;32m   1024\u001B[0m kwds\u001B[38;5;241m.\u001B[39mupdate(kwds_defaults)\n\u001B[1;32m-> 1026\u001B[0m \u001B[38;5;28;01mreturn\u001B[39;00m _read(filepath_or_buffer, kwds)\n",
      "File \u001B[1;32m~\\miniconda3\\Lib\\site-packages\\pandas\\io\\parsers\\readers.py:620\u001B[0m, in \u001B[0;36m_read\u001B[1;34m(filepath_or_buffer, kwds)\u001B[0m\n\u001B[0;32m    617\u001B[0m _validate_names(kwds\u001B[38;5;241m.\u001B[39mget(\u001B[38;5;124m\"\u001B[39m\u001B[38;5;124mnames\u001B[39m\u001B[38;5;124m\"\u001B[39m, \u001B[38;5;28;01mNone\u001B[39;00m))\n\u001B[0;32m    619\u001B[0m \u001B[38;5;66;03m# Create the parser.\u001B[39;00m\n\u001B[1;32m--> 620\u001B[0m parser \u001B[38;5;241m=\u001B[39m TextFileReader(filepath_or_buffer, \u001B[38;5;241m*\u001B[39m\u001B[38;5;241m*\u001B[39mkwds)\n\u001B[0;32m    622\u001B[0m \u001B[38;5;28;01mif\u001B[39;00m chunksize \u001B[38;5;129;01mor\u001B[39;00m iterator:\n\u001B[0;32m    623\u001B[0m     \u001B[38;5;28;01mreturn\u001B[39;00m parser\n",
      "File \u001B[1;32m~\\miniconda3\\Lib\\site-packages\\pandas\\io\\parsers\\readers.py:1620\u001B[0m, in \u001B[0;36mTextFileReader.__init__\u001B[1;34m(self, f, engine, **kwds)\u001B[0m\n\u001B[0;32m   1617\u001B[0m     \u001B[38;5;28mself\u001B[39m\u001B[38;5;241m.\u001B[39moptions[\u001B[38;5;124m\"\u001B[39m\u001B[38;5;124mhas_index_names\u001B[39m\u001B[38;5;124m\"\u001B[39m] \u001B[38;5;241m=\u001B[39m kwds[\u001B[38;5;124m\"\u001B[39m\u001B[38;5;124mhas_index_names\u001B[39m\u001B[38;5;124m\"\u001B[39m]\n\u001B[0;32m   1619\u001B[0m \u001B[38;5;28mself\u001B[39m\u001B[38;5;241m.\u001B[39mhandles: IOHandles \u001B[38;5;241m|\u001B[39m \u001B[38;5;28;01mNone\u001B[39;00m \u001B[38;5;241m=\u001B[39m \u001B[38;5;28;01mNone\u001B[39;00m\n\u001B[1;32m-> 1620\u001B[0m \u001B[38;5;28mself\u001B[39m\u001B[38;5;241m.\u001B[39m_engine \u001B[38;5;241m=\u001B[39m \u001B[38;5;28mself\u001B[39m\u001B[38;5;241m.\u001B[39m_make_engine(f, \u001B[38;5;28mself\u001B[39m\u001B[38;5;241m.\u001B[39mengine)\n",
      "File \u001B[1;32m~\\miniconda3\\Lib\\site-packages\\pandas\\io\\parsers\\readers.py:1880\u001B[0m, in \u001B[0;36mTextFileReader._make_engine\u001B[1;34m(self, f, engine)\u001B[0m\n\u001B[0;32m   1878\u001B[0m     \u001B[38;5;28;01mif\u001B[39;00m \u001B[38;5;124m\"\u001B[39m\u001B[38;5;124mb\u001B[39m\u001B[38;5;124m\"\u001B[39m \u001B[38;5;129;01mnot\u001B[39;00m \u001B[38;5;129;01min\u001B[39;00m mode:\n\u001B[0;32m   1879\u001B[0m         mode \u001B[38;5;241m+\u001B[39m\u001B[38;5;241m=\u001B[39m \u001B[38;5;124m\"\u001B[39m\u001B[38;5;124mb\u001B[39m\u001B[38;5;124m\"\u001B[39m\n\u001B[1;32m-> 1880\u001B[0m \u001B[38;5;28mself\u001B[39m\u001B[38;5;241m.\u001B[39mhandles \u001B[38;5;241m=\u001B[39m get_handle(\n\u001B[0;32m   1881\u001B[0m     f,\n\u001B[0;32m   1882\u001B[0m     mode,\n\u001B[0;32m   1883\u001B[0m     encoding\u001B[38;5;241m=\u001B[39m\u001B[38;5;28mself\u001B[39m\u001B[38;5;241m.\u001B[39moptions\u001B[38;5;241m.\u001B[39mget(\u001B[38;5;124m\"\u001B[39m\u001B[38;5;124mencoding\u001B[39m\u001B[38;5;124m\"\u001B[39m, \u001B[38;5;28;01mNone\u001B[39;00m),\n\u001B[0;32m   1884\u001B[0m     compression\u001B[38;5;241m=\u001B[39m\u001B[38;5;28mself\u001B[39m\u001B[38;5;241m.\u001B[39moptions\u001B[38;5;241m.\u001B[39mget(\u001B[38;5;124m\"\u001B[39m\u001B[38;5;124mcompression\u001B[39m\u001B[38;5;124m\"\u001B[39m, \u001B[38;5;28;01mNone\u001B[39;00m),\n\u001B[0;32m   1885\u001B[0m     memory_map\u001B[38;5;241m=\u001B[39m\u001B[38;5;28mself\u001B[39m\u001B[38;5;241m.\u001B[39moptions\u001B[38;5;241m.\u001B[39mget(\u001B[38;5;124m\"\u001B[39m\u001B[38;5;124mmemory_map\u001B[39m\u001B[38;5;124m\"\u001B[39m, \u001B[38;5;28;01mFalse\u001B[39;00m),\n\u001B[0;32m   1886\u001B[0m     is_text\u001B[38;5;241m=\u001B[39mis_text,\n\u001B[0;32m   1887\u001B[0m     errors\u001B[38;5;241m=\u001B[39m\u001B[38;5;28mself\u001B[39m\u001B[38;5;241m.\u001B[39moptions\u001B[38;5;241m.\u001B[39mget(\u001B[38;5;124m\"\u001B[39m\u001B[38;5;124mencoding_errors\u001B[39m\u001B[38;5;124m\"\u001B[39m, \u001B[38;5;124m\"\u001B[39m\u001B[38;5;124mstrict\u001B[39m\u001B[38;5;124m\"\u001B[39m),\n\u001B[0;32m   1888\u001B[0m     storage_options\u001B[38;5;241m=\u001B[39m\u001B[38;5;28mself\u001B[39m\u001B[38;5;241m.\u001B[39moptions\u001B[38;5;241m.\u001B[39mget(\u001B[38;5;124m\"\u001B[39m\u001B[38;5;124mstorage_options\u001B[39m\u001B[38;5;124m\"\u001B[39m, \u001B[38;5;28;01mNone\u001B[39;00m),\n\u001B[0;32m   1889\u001B[0m )\n\u001B[0;32m   1890\u001B[0m \u001B[38;5;28;01massert\u001B[39;00m \u001B[38;5;28mself\u001B[39m\u001B[38;5;241m.\u001B[39mhandles \u001B[38;5;129;01mis\u001B[39;00m \u001B[38;5;129;01mnot\u001B[39;00m \u001B[38;5;28;01mNone\u001B[39;00m\n\u001B[0;32m   1891\u001B[0m f \u001B[38;5;241m=\u001B[39m \u001B[38;5;28mself\u001B[39m\u001B[38;5;241m.\u001B[39mhandles\u001B[38;5;241m.\u001B[39mhandle\n",
      "File \u001B[1;32m~\\miniconda3\\Lib\\site-packages\\pandas\\io\\common.py:873\u001B[0m, in \u001B[0;36mget_handle\u001B[1;34m(path_or_buf, mode, encoding, compression, memory_map, is_text, errors, storage_options)\u001B[0m\n\u001B[0;32m    868\u001B[0m \u001B[38;5;28;01melif\u001B[39;00m \u001B[38;5;28misinstance\u001B[39m(handle, \u001B[38;5;28mstr\u001B[39m):\n\u001B[0;32m    869\u001B[0m     \u001B[38;5;66;03m# Check whether the filename is to be opened in binary mode.\u001B[39;00m\n\u001B[0;32m    870\u001B[0m     \u001B[38;5;66;03m# Binary mode does not support 'encoding' and 'newline'.\u001B[39;00m\n\u001B[0;32m    871\u001B[0m     \u001B[38;5;28;01mif\u001B[39;00m ioargs\u001B[38;5;241m.\u001B[39mencoding \u001B[38;5;129;01mand\u001B[39;00m \u001B[38;5;124m\"\u001B[39m\u001B[38;5;124mb\u001B[39m\u001B[38;5;124m\"\u001B[39m \u001B[38;5;129;01mnot\u001B[39;00m \u001B[38;5;129;01min\u001B[39;00m ioargs\u001B[38;5;241m.\u001B[39mmode:\n\u001B[0;32m    872\u001B[0m         \u001B[38;5;66;03m# Encoding\u001B[39;00m\n\u001B[1;32m--> 873\u001B[0m         handle \u001B[38;5;241m=\u001B[39m \u001B[38;5;28mopen\u001B[39m(\n\u001B[0;32m    874\u001B[0m             handle,\n\u001B[0;32m    875\u001B[0m             ioargs\u001B[38;5;241m.\u001B[39mmode,\n\u001B[0;32m    876\u001B[0m             encoding\u001B[38;5;241m=\u001B[39mioargs\u001B[38;5;241m.\u001B[39mencoding,\n\u001B[0;32m    877\u001B[0m             errors\u001B[38;5;241m=\u001B[39merrors,\n\u001B[0;32m    878\u001B[0m             newline\u001B[38;5;241m=\u001B[39m\u001B[38;5;124m\"\u001B[39m\u001B[38;5;124m\"\u001B[39m,\n\u001B[0;32m    879\u001B[0m         )\n\u001B[0;32m    880\u001B[0m     \u001B[38;5;28;01melse\u001B[39;00m:\n\u001B[0;32m    881\u001B[0m         \u001B[38;5;66;03m# Binary mode\u001B[39;00m\n\u001B[0;32m    882\u001B[0m         handle \u001B[38;5;241m=\u001B[39m \u001B[38;5;28mopen\u001B[39m(handle, ioargs\u001B[38;5;241m.\u001B[39mmode)\n",
      "\u001B[1;31mFileNotFoundError\u001B[0m: [Errno 2] No such file or directory: 'data/homework.csv'"
     ]
    }
   ],
   "execution_count": 3
  },
  {
   "cell_type": "markdown",
   "id": "9aed9207",
   "metadata": {
    "id": "9aed9207"
   },
   "source": [
    "## Подготовка данных\n",
    "\n",
    "### Обработка пропусков в данных"
   ]
  },
  {
   "cell_type": "code",
   "execution_count": null,
   "id": "42bdc356",
   "metadata": {
    "id": "42bdc356"
   },
   "outputs": [],
   "source": [
    "# Удаляем ненужные/лишние колонки \n",
    "\n",
    "columns_to_drop = [\n",
    "    'id',\n",
    "    'url',\n",
    "    'region',\n",
    "    'region_url',\n",
    "    'price',\n",
    "    'manufacturer',\n",
    "    'image_url',\n",
    "    'description',\n",
    "    'posting_date',\n",
    "    'lat',\n",
    "    'long'\n",
    "]\n",
    "\n",
    "df.drop(columns_to_drop, axis=1, inplace=True)"
   ]
  },
  {
   "cell_type": "code",
   "execution_count": null,
   "id": "dba87a8f",
   "metadata": {
    "id": "dba87a8f",
    "outputId": "3c3d3114-f61f-4634-fed1-8f887132684b"
   },
   "outputs": [
    {
     "data": {
      "text/plain": [
       "state               0\n",
       "price_category      0\n",
       "year               36\n",
       "odometer           42\n",
       "transmission       45\n",
       "fuel               63\n",
       "model             128\n",
       "title_status      166\n",
       "dtype: int64"
      ]
     },
     "execution_count": 44,
     "metadata": {},
     "output_type": "execute_result"
    }
   ],
   "source": [
    "# Есть ли пропуски?\n",
    "\n",
    "df.isnull().sum().sort_values()"
   ]
  },
  {
   "cell_type": "code",
   "execution_count": null,
   "id": "be580dbe",
   "metadata": {
    "id": "be580dbe",
    "outputId": "193fd79e-95e5-4e27-f971-d8f86c31a0af"
   },
   "outputs": [
    {
     "data": {
      "text/plain": [
       "year              0\n",
       "model             0\n",
       "fuel              0\n",
       "odometer          0\n",
       "title_status      0\n",
       "transmission      0\n",
       "state             0\n",
       "price_category    0\n",
       "dtype: int64"
      ]
     },
     "execution_count": 45,
     "metadata": {},
     "output_type": "execute_result"
    }
   ],
   "source": [
    "# Сохраним в переменную numerical имена всех числовых признаков нашего датасета\n",
    "numerical = df.select_dtypes(include=['int64', 'float64']).columns\n",
    "\n",
    "# Сохраним в переменную categorical имена всех категориальных признаков нашего датасета\n",
    "categorical = df.select_dtypes(include=['object']).columns\n",
    "\n",
    "# В категориальных фичах заменяем пропуски модой\n",
    "for feat in categorical:\n",
    "    df[feat].fillna(df[feat].mode()[0], inplace=True)\n",
    "    \n",
    "# В численных фичах заменяем пропуски медианой\n",
    "for feat in numerical:\n",
    "    df[feat].fillna(df[feat].median(), inplace=True)\n",
    "\n",
    "# Убедимся, что пропущенных значений больше нет\n",
    "df.isnull().sum()"
   ]
  },
  {
   "cell_type": "markdown",
   "id": "e4951eb0",
   "metadata": {
    "id": "e4951eb0"
   },
   "source": [
    "### Удаление выбросов"
   ]
  },
  {
   "cell_type": "code",
   "execution_count": null,
   "id": "ffc4fc6a",
   "metadata": {
    "id": "ffc4fc6a",
    "outputId": "dde29c9d-180b-4fdb-befd-abb9d6eaa4a8"
   },
   "outputs": [
    {
     "data": {
      "text/plain": [
       "count    10000.00000\n",
       "mean      2010.93540\n",
       "std          9.65541\n",
       "min       1915.00000\n",
       "25%       2008.00000\n",
       "50%       2013.00000\n",
       "75%       2017.00000\n",
       "max       2022.00000\n",
       "Name: year, dtype: float64"
      ]
     },
     "execution_count": 46,
     "metadata": {},
     "output_type": "execute_result"
    }
   ],
   "source": [
    "df['year'].describe()"
   ]
  },
  {
   "cell_type": "code",
   "execution_count": null,
   "id": "6333b329",
   "metadata": {
    "id": "6333b329",
    "outputId": "4c42243c-cf05-4346-b12c-d3e206582481"
   },
   "outputs": [
    {
     "data": {
      "text/plain": [
       "(1994.5, 2030.5)"
      ]
     },
     "execution_count": 47,
     "metadata": {},
     "output_type": "execute_result"
    }
   ],
   "source": [
    "def calculate_outliers(data):\n",
    "    q25 = data.quantile(0.25)\n",
    "    q75 = data.quantile(0.75)\n",
    "    iqr = q75 - q25\n",
    "    boundaries = (q25 - 1.5 * iqr, q75 + 1.5 * iqr)\n",
    "    \n",
    "    return boundaries\n",
    "\n",
    "boundaries = calculate_outliers(df['year'])\n",
    "boundaries"
   ]
  },
  {
   "cell_type": "code",
   "execution_count": null,
   "id": "ae53b208",
   "metadata": {
    "id": "ae53b208",
    "outputId": "b765e962-4449-471f-f336-3b0a6a6e3108"
   },
   "outputs": [
    {
     "data": {
      "text/plain": [
       "count    10000.000000\n",
       "mean      2011.674200\n",
       "std          6.505727\n",
       "min       1994.000000\n",
       "25%       2008.000000\n",
       "50%       2013.000000\n",
       "75%       2017.000000\n",
       "max       2022.000000\n",
       "Name: year, dtype: float64"
      ]
     },
     "execution_count": 48,
     "metadata": {},
     "output_type": "execute_result"
    }
   ],
   "source": [
    "df.loc[df['year'] < boundaries[0], 'year'] = round(boundaries[0])\n",
    "df.loc[df['year'] > boundaries[1], 'year'] = round(boundaries[1])\n",
    "\n",
    "df['year'].describe()"
   ]
  },
  {
   "cell_type": "markdown",
   "id": "b08e3644",
   "metadata": {
    "id": "b08e3644"
   },
   "source": [
    "## Feature engineering\n"
   ]
  },
  {
   "cell_type": "code",
   "execution_count": null,
   "id": "238cd6d5",
   "metadata": {
    "id": "238cd6d5"
   },
   "outputs": [],
   "source": [
    "def short_model(x):\n",
    "    if not pd.isna(x):\n",
    "        return x.lower().split(' ')[0]\n",
    "    else:\n",
    "        return x\n",
    "\n",
    "# Добавляем фичу \"short_model\" – это первое слово из колонки model\n",
    "df.loc[:, 'short_model'] = df['model'].apply(short_model)\n",
    "\n",
    "# Добавляем фичу \"age_category\" (категория возраста)\n",
    "df.loc[:, 'age_category'] =  df['year'].apply(lambda x: 'new' if x > 2013 else ('old' if x < 2006 else 'average'))"
   ]
  },
  {
   "cell_type": "code",
   "execution_count": null,
   "id": "0eecb182",
   "metadata": {
    "id": "0eecb182",
    "outputId": "565efdd5-8b20-41ec-a08a-77b3bb0f9c0c"
   },
   "outputs": [
    {
     "data": {
      "text/plain": [
       "(10000, 10)"
      ]
     },
     "execution_count": 50,
     "metadata": {},
     "output_type": "execute_result"
    }
   ],
   "source": [
    "df.shape"
   ]
  },
  {
   "cell_type": "code",
   "execution_count": null,
   "id": "3ae46576",
   "metadata": {
    "scrolled": true,
    "id": "3ae46576",
    "outputId": "ab5fcda3-787f-4e8c-a13a-4699aa7b1625"
   },
   "outputs": [
    {
     "data": {
      "text/html": [
       "<div>\n",
       "<style scoped>\n",
       "    .dataframe tbody tr th:only-of-type {\n",
       "        vertical-align: middle;\n",
       "    }\n",
       "\n",
       "    .dataframe tbody tr th {\n",
       "        vertical-align: top;\n",
       "    }\n",
       "\n",
       "    .dataframe thead th {\n",
       "        text-align: right;\n",
       "    }\n",
       "</style>\n",
       "<table border=\"1\" class=\"dataframe\">\n",
       "  <thead>\n",
       "    <tr style=\"text-align: right;\">\n",
       "      <th></th>\n",
       "      <th>year</th>\n",
       "      <th>model</th>\n",
       "      <th>fuel</th>\n",
       "      <th>odometer</th>\n",
       "      <th>title_status</th>\n",
       "      <th>transmission</th>\n",
       "      <th>state</th>\n",
       "      <th>price_category</th>\n",
       "      <th>short_model</th>\n",
       "      <th>age_category</th>\n",
       "      <th>...</th>\n",
       "      <th>x4_yukon</th>\n",
       "      <th>x4_z</th>\n",
       "      <th>x4_z3</th>\n",
       "      <th>x4_z4</th>\n",
       "      <th>x4_zephyr</th>\n",
       "      <th>x4_zx2</th>\n",
       "      <th>x4_♿</th>\n",
       "      <th>x5_average</th>\n",
       "      <th>x5_new</th>\n",
       "      <th>x5_old</th>\n",
       "    </tr>\n",
       "  </thead>\n",
       "  <tbody>\n",
       "    <tr>\n",
       "      <th>0</th>\n",
       "      <td>2020.0</td>\n",
       "      <td>2500 crew cab big horn</td>\n",
       "      <td>diesel</td>\n",
       "      <td>27442.0</td>\n",
       "      <td>clean</td>\n",
       "      <td>other</td>\n",
       "      <td>tn</td>\n",
       "      <td>high</td>\n",
       "      <td>2500</td>\n",
       "      <td>new</td>\n",
       "      <td>...</td>\n",
       "      <td>0.0</td>\n",
       "      <td>0.0</td>\n",
       "      <td>0.0</td>\n",
       "      <td>0.0</td>\n",
       "      <td>0.0</td>\n",
       "      <td>0.0</td>\n",
       "      <td>0.0</td>\n",
       "      <td>0.0</td>\n",
       "      <td>1.0</td>\n",
       "      <td>0.0</td>\n",
       "    </tr>\n",
       "    <tr>\n",
       "      <th>1</th>\n",
       "      <td>2016.0</td>\n",
       "      <td>explorer 4wd 4dr xlt</td>\n",
       "      <td>gas</td>\n",
       "      <td>60023.0</td>\n",
       "      <td>clean</td>\n",
       "      <td>automatic</td>\n",
       "      <td>nj</td>\n",
       "      <td>medium</td>\n",
       "      <td>explorer</td>\n",
       "      <td>new</td>\n",
       "      <td>...</td>\n",
       "      <td>0.0</td>\n",
       "      <td>0.0</td>\n",
       "      <td>0.0</td>\n",
       "      <td>0.0</td>\n",
       "      <td>0.0</td>\n",
       "      <td>0.0</td>\n",
       "      <td>0.0</td>\n",
       "      <td>0.0</td>\n",
       "      <td>1.0</td>\n",
       "      <td>0.0</td>\n",
       "    </tr>\n",
       "    <tr>\n",
       "      <th>2</th>\n",
       "      <td>2017.0</td>\n",
       "      <td>golf r hatchback</td>\n",
       "      <td>gas</td>\n",
       "      <td>14048.0</td>\n",
       "      <td>clean</td>\n",
       "      <td>other</td>\n",
       "      <td>ca</td>\n",
       "      <td>high</td>\n",
       "      <td>golf</td>\n",
       "      <td>new</td>\n",
       "      <td>...</td>\n",
       "      <td>0.0</td>\n",
       "      <td>0.0</td>\n",
       "      <td>0.0</td>\n",
       "      <td>0.0</td>\n",
       "      <td>0.0</td>\n",
       "      <td>0.0</td>\n",
       "      <td>0.0</td>\n",
       "      <td>0.0</td>\n",
       "      <td>1.0</td>\n",
       "      <td>0.0</td>\n",
       "    </tr>\n",
       "    <tr>\n",
       "      <th>3</th>\n",
       "      <td>2013.0</td>\n",
       "      <td>rav4</td>\n",
       "      <td>gas</td>\n",
       "      <td>117291.0</td>\n",
       "      <td>clean</td>\n",
       "      <td>automatic</td>\n",
       "      <td>nc</td>\n",
       "      <td>medium</td>\n",
       "      <td>rav4</td>\n",
       "      <td>average</td>\n",
       "      <td>...</td>\n",
       "      <td>0.0</td>\n",
       "      <td>0.0</td>\n",
       "      <td>0.0</td>\n",
       "      <td>0.0</td>\n",
       "      <td>0.0</td>\n",
       "      <td>0.0</td>\n",
       "      <td>0.0</td>\n",
       "      <td>1.0</td>\n",
       "      <td>0.0</td>\n",
       "      <td>0.0</td>\n",
       "    </tr>\n",
       "    <tr>\n",
       "      <th>4</th>\n",
       "      <td>2021.0</td>\n",
       "      <td>altima</td>\n",
       "      <td>gas</td>\n",
       "      <td>8000.0</td>\n",
       "      <td>clean</td>\n",
       "      <td>automatic</td>\n",
       "      <td>ny</td>\n",
       "      <td>medium</td>\n",
       "      <td>altima</td>\n",
       "      <td>new</td>\n",
       "      <td>...</td>\n",
       "      <td>0.0</td>\n",
       "      <td>0.0</td>\n",
       "      <td>0.0</td>\n",
       "      <td>0.0</td>\n",
       "      <td>0.0</td>\n",
       "      <td>0.0</td>\n",
       "      <td>0.0</td>\n",
       "      <td>0.0</td>\n",
       "      <td>1.0</td>\n",
       "      <td>0.0</td>\n",
       "    </tr>\n",
       "  </tbody>\n",
       "</table>\n",
       "<p>5 rows × 1017 columns</p>\n",
       "</div>"
      ],
      "text/plain": [
       "     year                   model    fuel  odometer title_status transmission  \\\n",
       "0  2020.0  2500 crew cab big horn  diesel   27442.0        clean        other   \n",
       "1  2016.0    explorer 4wd 4dr xlt     gas   60023.0        clean    automatic   \n",
       "2  2017.0        golf r hatchback     gas   14048.0        clean        other   \n",
       "3  2013.0                    rav4     gas  117291.0        clean    automatic   \n",
       "4  2021.0                  altima     gas    8000.0        clean    automatic   \n",
       "\n",
       "  state price_category short_model age_category  ...  x4_yukon  x4_z  x4_z3  \\\n",
       "0    tn           high        2500          new  ...       0.0   0.0    0.0   \n",
       "1    nj         medium    explorer          new  ...       0.0   0.0    0.0   \n",
       "2    ca           high        golf          new  ...       0.0   0.0    0.0   \n",
       "3    nc         medium        rav4      average  ...       0.0   0.0    0.0   \n",
       "4    ny         medium      altima          new  ...       0.0   0.0    0.0   \n",
       "\n",
       "   x4_z4  x4_zephyr  x4_zx2  x4_♿  x5_average  x5_new  x5_old  \n",
       "0    0.0        0.0     0.0   0.0         0.0     1.0     0.0  \n",
       "1    0.0        0.0     0.0   0.0         0.0     1.0     0.0  \n",
       "2    0.0        0.0     0.0   0.0         0.0     1.0     0.0  \n",
       "3    0.0        0.0     0.0   0.0         1.0     0.0     0.0  \n",
       "4    0.0        0.0     0.0   0.0         0.0     1.0     0.0  \n",
       "\n",
       "[5 rows x 1017 columns]"
      ]
     },
     "execution_count": 51,
     "metadata": {},
     "output_type": "execute_result"
    }
   ],
   "source": [
    "# Кодируем категориальные фичи с помощью OneHotEncoder\n",
    "\n",
    "columns_to_encode = [\n",
    "    'fuel', \n",
    "    'title_status', \n",
    "    'transmission', \n",
    "    'state', \n",
    "    'short_model', \n",
    "    'age_category'\n",
    "]\n",
    "\n",
    "encoder = OneHotEncoder(handle_unknown='ignore', sparse=False)\n",
    "encoder.fit(df[columns_to_encode])\n",
    "\n",
    "df.loc[:, encoder.get_feature_names()] = encoder.transform(df[columns_to_encode])\n",
    "df.head()"
   ]
  },
  {
   "cell_type": "code",
   "execution_count": null,
   "id": "8e890201",
   "metadata": {
    "id": "8e890201"
   },
   "outputs": [],
   "source": [
    "# Масштабируем числовые фичи\n",
    "\n",
    "scaler = StandardScaler()\n",
    "\n",
    "df['odometer_std'] = scaler.fit_transform(df[['odometer']])"
   ]
  },
  {
   "cell_type": "code",
   "execution_count": null,
   "id": "9237f138",
   "metadata": {
    "id": "9237f138",
    "outputId": "46aaa619-9849-4a36-de39-54234a66e28e"
   },
   "outputs": [
    {
     "data": {
      "text/html": [
       "<div>\n",
       "<style scoped>\n",
       "    .dataframe tbody tr th:only-of-type {\n",
       "        vertical-align: middle;\n",
       "    }\n",
       "\n",
       "    .dataframe tbody tr th {\n",
       "        vertical-align: top;\n",
       "    }\n",
       "\n",
       "    .dataframe thead th {\n",
       "        text-align: right;\n",
       "    }\n",
       "</style>\n",
       "<table border=\"1\" class=\"dataframe\">\n",
       "  <thead>\n",
       "    <tr style=\"text-align: right;\">\n",
       "      <th></th>\n",
       "      <th>year</th>\n",
       "      <th>model</th>\n",
       "      <th>fuel</th>\n",
       "      <th>odometer</th>\n",
       "      <th>title_status</th>\n",
       "      <th>transmission</th>\n",
       "      <th>state</th>\n",
       "      <th>price_category</th>\n",
       "      <th>short_model</th>\n",
       "      <th>age_category</th>\n",
       "      <th>...</th>\n",
       "      <th>x4_z</th>\n",
       "      <th>x4_z3</th>\n",
       "      <th>x4_z4</th>\n",
       "      <th>x4_zephyr</th>\n",
       "      <th>x4_zx2</th>\n",
       "      <th>x4_♿</th>\n",
       "      <th>x5_average</th>\n",
       "      <th>x5_new</th>\n",
       "      <th>x5_old</th>\n",
       "      <th>odometer_std</th>\n",
       "    </tr>\n",
       "  </thead>\n",
       "  <tbody>\n",
       "    <tr>\n",
       "      <th>0</th>\n",
       "      <td>2020.0</td>\n",
       "      <td>2500 crew cab big horn</td>\n",
       "      <td>diesel</td>\n",
       "      <td>27442.0</td>\n",
       "      <td>clean</td>\n",
       "      <td>other</td>\n",
       "      <td>tn</td>\n",
       "      <td>high</td>\n",
       "      <td>2500</td>\n",
       "      <td>new</td>\n",
       "      <td>...</td>\n",
       "      <td>0.0</td>\n",
       "      <td>0.0</td>\n",
       "      <td>0.0</td>\n",
       "      <td>0.0</td>\n",
       "      <td>0.0</td>\n",
       "      <td>0.0</td>\n",
       "      <td>0.0</td>\n",
       "      <td>1.0</td>\n",
       "      <td>0.0</td>\n",
       "      <td>-1.044178</td>\n",
       "    </tr>\n",
       "    <tr>\n",
       "      <th>1</th>\n",
       "      <td>2016.0</td>\n",
       "      <td>explorer 4wd 4dr xlt</td>\n",
       "      <td>gas</td>\n",
       "      <td>60023.0</td>\n",
       "      <td>clean</td>\n",
       "      <td>automatic</td>\n",
       "      <td>nj</td>\n",
       "      <td>medium</td>\n",
       "      <td>explorer</td>\n",
       "      <td>new</td>\n",
       "      <td>...</td>\n",
       "      <td>0.0</td>\n",
       "      <td>0.0</td>\n",
       "      <td>0.0</td>\n",
       "      <td>0.0</td>\n",
       "      <td>0.0</td>\n",
       "      <td>0.0</td>\n",
       "      <td>0.0</td>\n",
       "      <td>1.0</td>\n",
       "      <td>0.0</td>\n",
       "      <td>-0.527649</td>\n",
       "    </tr>\n",
       "    <tr>\n",
       "      <th>2</th>\n",
       "      <td>2017.0</td>\n",
       "      <td>golf r hatchback</td>\n",
       "      <td>gas</td>\n",
       "      <td>14048.0</td>\n",
       "      <td>clean</td>\n",
       "      <td>other</td>\n",
       "      <td>ca</td>\n",
       "      <td>high</td>\n",
       "      <td>golf</td>\n",
       "      <td>new</td>\n",
       "      <td>...</td>\n",
       "      <td>0.0</td>\n",
       "      <td>0.0</td>\n",
       "      <td>0.0</td>\n",
       "      <td>0.0</td>\n",
       "      <td>0.0</td>\n",
       "      <td>0.0</td>\n",
       "      <td>0.0</td>\n",
       "      <td>1.0</td>\n",
       "      <td>0.0</td>\n",
       "      <td>-1.256522</td>\n",
       "    </tr>\n",
       "    <tr>\n",
       "      <th>3</th>\n",
       "      <td>2013.0</td>\n",
       "      <td>rav4</td>\n",
       "      <td>gas</td>\n",
       "      <td>117291.0</td>\n",
       "      <td>clean</td>\n",
       "      <td>automatic</td>\n",
       "      <td>nc</td>\n",
       "      <td>medium</td>\n",
       "      <td>rav4</td>\n",
       "      <td>average</td>\n",
       "      <td>...</td>\n",
       "      <td>0.0</td>\n",
       "      <td>0.0</td>\n",
       "      <td>0.0</td>\n",
       "      <td>0.0</td>\n",
       "      <td>0.0</td>\n",
       "      <td>0.0</td>\n",
       "      <td>1.0</td>\n",
       "      <td>0.0</td>\n",
       "      <td>0.0</td>\n",
       "      <td>0.380259</td>\n",
       "    </tr>\n",
       "    <tr>\n",
       "      <th>4</th>\n",
       "      <td>2021.0</td>\n",
       "      <td>altima</td>\n",
       "      <td>gas</td>\n",
       "      <td>8000.0</td>\n",
       "      <td>clean</td>\n",
       "      <td>automatic</td>\n",
       "      <td>ny</td>\n",
       "      <td>medium</td>\n",
       "      <td>altima</td>\n",
       "      <td>new</td>\n",
       "      <td>...</td>\n",
       "      <td>0.0</td>\n",
       "      <td>0.0</td>\n",
       "      <td>0.0</td>\n",
       "      <td>0.0</td>\n",
       "      <td>0.0</td>\n",
       "      <td>0.0</td>\n",
       "      <td>0.0</td>\n",
       "      <td>1.0</td>\n",
       "      <td>0.0</td>\n",
       "      <td>-1.352405</td>\n",
       "    </tr>\n",
       "  </tbody>\n",
       "</table>\n",
       "<p>5 rows × 1018 columns</p>\n",
       "</div>"
      ],
      "text/plain": [
       "     year                   model    fuel  odometer title_status transmission  \\\n",
       "0  2020.0  2500 crew cab big horn  diesel   27442.0        clean        other   \n",
       "1  2016.0    explorer 4wd 4dr xlt     gas   60023.0        clean    automatic   \n",
       "2  2017.0        golf r hatchback     gas   14048.0        clean        other   \n",
       "3  2013.0                    rav4     gas  117291.0        clean    automatic   \n",
       "4  2021.0                  altima     gas    8000.0        clean    automatic   \n",
       "\n",
       "  state price_category short_model age_category  ...  x4_z  x4_z3  x4_z4  \\\n",
       "0    tn           high        2500          new  ...   0.0    0.0    0.0   \n",
       "1    nj         medium    explorer          new  ...   0.0    0.0    0.0   \n",
       "2    ca           high        golf          new  ...   0.0    0.0    0.0   \n",
       "3    nc         medium        rav4      average  ...   0.0    0.0    0.0   \n",
       "4    ny         medium      altima          new  ...   0.0    0.0    0.0   \n",
       "\n",
       "   x4_zephyr  x4_zx2  x4_♿  x5_average  x5_new  x5_old  odometer_std  \n",
       "0        0.0     0.0   0.0         0.0     1.0     0.0     -1.044178  \n",
       "1        0.0     0.0   0.0         0.0     1.0     0.0     -0.527649  \n",
       "2        0.0     0.0   0.0         0.0     1.0     0.0     -1.256522  \n",
       "3        0.0     0.0   0.0         1.0     0.0     0.0      0.380259  \n",
       "4        0.0     0.0   0.0         0.0     1.0     0.0     -1.352405  \n",
       "\n",
       "[5 rows x 1018 columns]"
      ]
     },
     "execution_count": 53,
     "metadata": {},
     "output_type": "execute_result"
    }
   ],
   "source": [
    "df.head()"
   ]
  },
  {
   "cell_type": "code",
   "execution_count": null,
   "id": "4f6615a2",
   "metadata": {
    "id": "4f6615a2"
   },
   "outputs": [],
   "source": [
    "columns_to_drop = [\n",
    "    'year',\n",
    "    'model',\n",
    "    'fuel', \n",
    "    'odometer', \n",
    "    'title_status', \n",
    "    'transmission', \n",
    "    'state', \n",
    "    'short_model', \n",
    "    'age_category'\n",
    "]\n",
    "\n",
    "df.drop(columns_to_drop, axis=1, inplace=True)"
   ]
  },
  {
   "cell_type": "code",
   "execution_count": null,
   "id": "6292e982",
   "metadata": {
    "id": "6292e982",
    "outputId": "d7014e27-d243-4a80-b9c4-690feff0b39d"
   },
   "outputs": [
    {
     "data": {
      "text/html": [
       "<div>\n",
       "<style scoped>\n",
       "    .dataframe tbody tr th:only-of-type {\n",
       "        vertical-align: middle;\n",
       "    }\n",
       "\n",
       "    .dataframe tbody tr th {\n",
       "        vertical-align: top;\n",
       "    }\n",
       "\n",
       "    .dataframe thead th {\n",
       "        text-align: right;\n",
       "    }\n",
       "</style>\n",
       "<table border=\"1\" class=\"dataframe\">\n",
       "  <thead>\n",
       "    <tr style=\"text-align: right;\">\n",
       "      <th></th>\n",
       "      <th>price_category</th>\n",
       "      <th>x0_diesel</th>\n",
       "      <th>x0_electric</th>\n",
       "      <th>x0_gas</th>\n",
       "      <th>x0_hybrid</th>\n",
       "      <th>x0_other</th>\n",
       "      <th>x1_clean</th>\n",
       "      <th>x1_lien</th>\n",
       "      <th>x1_missing</th>\n",
       "      <th>x1_parts only</th>\n",
       "      <th>...</th>\n",
       "      <th>x4_z</th>\n",
       "      <th>x4_z3</th>\n",
       "      <th>x4_z4</th>\n",
       "      <th>x4_zephyr</th>\n",
       "      <th>x4_zx2</th>\n",
       "      <th>x4_♿</th>\n",
       "      <th>x5_average</th>\n",
       "      <th>x5_new</th>\n",
       "      <th>x5_old</th>\n",
       "      <th>odometer_std</th>\n",
       "    </tr>\n",
       "  </thead>\n",
       "  <tbody>\n",
       "    <tr>\n",
       "      <th>0</th>\n",
       "      <td>high</td>\n",
       "      <td>1.0</td>\n",
       "      <td>0.0</td>\n",
       "      <td>0.0</td>\n",
       "      <td>0.0</td>\n",
       "      <td>0.0</td>\n",
       "      <td>1.0</td>\n",
       "      <td>0.0</td>\n",
       "      <td>0.0</td>\n",
       "      <td>0.0</td>\n",
       "      <td>...</td>\n",
       "      <td>0.0</td>\n",
       "      <td>0.0</td>\n",
       "      <td>0.0</td>\n",
       "      <td>0.0</td>\n",
       "      <td>0.0</td>\n",
       "      <td>0.0</td>\n",
       "      <td>0.0</td>\n",
       "      <td>1.0</td>\n",
       "      <td>0.0</td>\n",
       "      <td>-1.044178</td>\n",
       "    </tr>\n",
       "    <tr>\n",
       "      <th>1</th>\n",
       "      <td>medium</td>\n",
       "      <td>0.0</td>\n",
       "      <td>0.0</td>\n",
       "      <td>1.0</td>\n",
       "      <td>0.0</td>\n",
       "      <td>0.0</td>\n",
       "      <td>1.0</td>\n",
       "      <td>0.0</td>\n",
       "      <td>0.0</td>\n",
       "      <td>0.0</td>\n",
       "      <td>...</td>\n",
       "      <td>0.0</td>\n",
       "      <td>0.0</td>\n",
       "      <td>0.0</td>\n",
       "      <td>0.0</td>\n",
       "      <td>0.0</td>\n",
       "      <td>0.0</td>\n",
       "      <td>0.0</td>\n",
       "      <td>1.0</td>\n",
       "      <td>0.0</td>\n",
       "      <td>-0.527649</td>\n",
       "    </tr>\n",
       "    <tr>\n",
       "      <th>2</th>\n",
       "      <td>high</td>\n",
       "      <td>0.0</td>\n",
       "      <td>0.0</td>\n",
       "      <td>1.0</td>\n",
       "      <td>0.0</td>\n",
       "      <td>0.0</td>\n",
       "      <td>1.0</td>\n",
       "      <td>0.0</td>\n",
       "      <td>0.0</td>\n",
       "      <td>0.0</td>\n",
       "      <td>...</td>\n",
       "      <td>0.0</td>\n",
       "      <td>0.0</td>\n",
       "      <td>0.0</td>\n",
       "      <td>0.0</td>\n",
       "      <td>0.0</td>\n",
       "      <td>0.0</td>\n",
       "      <td>0.0</td>\n",
       "      <td>1.0</td>\n",
       "      <td>0.0</td>\n",
       "      <td>-1.256522</td>\n",
       "    </tr>\n",
       "    <tr>\n",
       "      <th>3</th>\n",
       "      <td>medium</td>\n",
       "      <td>0.0</td>\n",
       "      <td>0.0</td>\n",
       "      <td>1.0</td>\n",
       "      <td>0.0</td>\n",
       "      <td>0.0</td>\n",
       "      <td>1.0</td>\n",
       "      <td>0.0</td>\n",
       "      <td>0.0</td>\n",
       "      <td>0.0</td>\n",
       "      <td>...</td>\n",
       "      <td>0.0</td>\n",
       "      <td>0.0</td>\n",
       "      <td>0.0</td>\n",
       "      <td>0.0</td>\n",
       "      <td>0.0</td>\n",
       "      <td>0.0</td>\n",
       "      <td>1.0</td>\n",
       "      <td>0.0</td>\n",
       "      <td>0.0</td>\n",
       "      <td>0.380259</td>\n",
       "    </tr>\n",
       "    <tr>\n",
       "      <th>4</th>\n",
       "      <td>medium</td>\n",
       "      <td>0.0</td>\n",
       "      <td>0.0</td>\n",
       "      <td>1.0</td>\n",
       "      <td>0.0</td>\n",
       "      <td>0.0</td>\n",
       "      <td>1.0</td>\n",
       "      <td>0.0</td>\n",
       "      <td>0.0</td>\n",
       "      <td>0.0</td>\n",
       "      <td>...</td>\n",
       "      <td>0.0</td>\n",
       "      <td>0.0</td>\n",
       "      <td>0.0</td>\n",
       "      <td>0.0</td>\n",
       "      <td>0.0</td>\n",
       "      <td>0.0</td>\n",
       "      <td>0.0</td>\n",
       "      <td>1.0</td>\n",
       "      <td>0.0</td>\n",
       "      <td>-1.352405</td>\n",
       "    </tr>\n",
       "  </tbody>\n",
       "</table>\n",
       "<p>5 rows × 1009 columns</p>\n",
       "</div>"
      ],
      "text/plain": [
       "  price_category  x0_diesel  x0_electric  x0_gas  x0_hybrid  x0_other  \\\n",
       "0           high        1.0          0.0     0.0        0.0       0.0   \n",
       "1         medium        0.0          0.0     1.0        0.0       0.0   \n",
       "2           high        0.0          0.0     1.0        0.0       0.0   \n",
       "3         medium        0.0          0.0     1.0        0.0       0.0   \n",
       "4         medium        0.0          0.0     1.0        0.0       0.0   \n",
       "\n",
       "   x1_clean  x1_lien  x1_missing  x1_parts only  ...  x4_z  x4_z3  x4_z4  \\\n",
       "0       1.0      0.0         0.0            0.0  ...   0.0    0.0    0.0   \n",
       "1       1.0      0.0         0.0            0.0  ...   0.0    0.0    0.0   \n",
       "2       1.0      0.0         0.0            0.0  ...   0.0    0.0    0.0   \n",
       "3       1.0      0.0         0.0            0.0  ...   0.0    0.0    0.0   \n",
       "4       1.0      0.0         0.0            0.0  ...   0.0    0.0    0.0   \n",
       "\n",
       "   x4_zephyr  x4_zx2  x4_♿  x5_average  x5_new  x5_old  odometer_std  \n",
       "0        0.0     0.0   0.0         0.0     1.0     0.0     -1.044178  \n",
       "1        0.0     0.0   0.0         0.0     1.0     0.0     -0.527649  \n",
       "2        0.0     0.0   0.0         0.0     1.0     0.0     -1.256522  \n",
       "3        0.0     0.0   0.0         1.0     0.0     0.0      0.380259  \n",
       "4        0.0     0.0   0.0         0.0     1.0     0.0     -1.352405  \n",
       "\n",
       "[5 rows x 1009 columns]"
      ]
     },
     "execution_count": 55,
     "metadata": {},
     "output_type": "execute_result"
    }
   ],
   "source": [
    "df.head()"
   ]
  },
  {
   "cell_type": "markdown",
   "id": "a89051eb",
   "metadata": {
    "id": "a89051eb"
   },
   "source": [
    "## Моделирование"
   ]
  },
  {
   "cell_type": "code",
   "execution_count": null,
   "id": "4a1af796",
   "metadata": {
    "id": "4a1af796",
    "outputId": "840ab88d-2454-4c62-ddce-b57017659e9a"
   },
   "outputs": [
    {
     "name": "stdout",
     "output_type": "stream",
     "text": [
      "model: LogisticRegression, acc_mean: 0.7401, acc_std: 0.0076\n",
      "model: RandomForestClassifier, acc_mean: 0.7559, acc_std: 0.0068\n",
      "model: SVC, acc_mean: 0.7611, acc_std: 0.0073\n"
     ]
    }
   ],
   "source": [
    "X = df.drop(['price_category'], axis=1)\n",
    "y = df['price_category']\n",
    "\n",
    "models = [\n",
    "    LogisticRegression(solver='liblinear'),\n",
    "    RandomForestClassifier(),\n",
    "    SVC()\n",
    "]\n",
    "\n",
    "for m in models:\n",
    "    score = cross_val_score(m, X, y, cv=4, scoring='accuracy')\n",
    "    print(f'model: {type(m).__name__}, acc_mean: {score.mean():.4f}, acc_std: {score.std():.4f}')"
   ]
  }
 ],
 "metadata": {
  "kernelspec": {
   "display_name": "Python 3 (ipykernel)",
   "language": "python",
   "name": "python3"
  },
  "language_info": {
   "codemirror_mode": {
    "name": "ipython",
    "version": 3
   },
   "file_extension": ".py",
   "mimetype": "text/x-python",
   "name": "python",
   "nbconvert_exporter": "python",
   "pygments_lexer": "ipython3",
   "version": "3.9.7"
  },
  "colab": {
   "name": "homework-task.ipynb",
   "provenance": []
  }
 },
 "nbformat": 4,
 "nbformat_minor": 5
}
